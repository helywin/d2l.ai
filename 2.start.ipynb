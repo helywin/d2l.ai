{
 "cells": [
  {
   "cell_type": "code",
   "execution_count": 38,
   "outputs": [
    {
     "data": {
      "text/plain": "True"
     },
     "execution_count": 38,
     "metadata": {},
     "output_type": "execute_result"
    }
   ],
   "source": [
    "# 测试cuda是否可用\n",
    "import torch\n",
    "torch.cuda.is_available()"
   ],
   "metadata": {
    "collapsed": false,
    "ExecuteTime": {
     "end_time": "2023-11-13T14:10:55.129647600Z",
     "start_time": "2023-11-13T14:10:55.116135300Z"
    }
   },
   "id": "68cca10a52306886"
  },
  {
   "cell_type": "markdown",
   "source": [
    "### 2.3 线性代数\n",
    "\n",
    "#### 2.3.1 标量"
   ],
   "metadata": {
    "collapsed": false
   },
   "id": "b6ceb7906fc02135"
  },
  {
   "cell_type": "code",
   "execution_count": 6,
   "outputs": [
    {
     "data": {
      "text/plain": "(tensor(5.), tensor(6.), tensor(1.5000), tensor(9.))"
     },
     "execution_count": 6,
     "metadata": {},
     "output_type": "execute_result"
    }
   ],
   "source": [
    "import torch\n",
    "x = torch.tensor(3.0)\n",
    "y = torch.tensor(2.0)\n",
    "\n",
    "x+y, x*y, x/y, x**y"
   ],
   "metadata": {
    "collapsed": false,
    "ExecuteTime": {
     "end_time": "2023-11-13T13:35:22.863209100Z",
     "start_time": "2023-11-13T13:35:22.856430800Z"
    }
   },
   "id": "ae75866fc00dbf78"
  },
  {
   "cell_type": "markdown",
   "source": [
    "#### 2.3.2 向量"
   ],
   "metadata": {
    "collapsed": false
   },
   "id": "bd2c31e97a65dc9c"
  },
  {
   "cell_type": "code",
   "execution_count": 7,
   "outputs": [
    {
     "data": {
      "text/plain": "tensor([0, 1, 2, 3])"
     },
     "execution_count": 7,
     "metadata": {},
     "output_type": "execute_result"
    }
   ],
   "source": [
    "x = torch.arange(4)\n",
    "x"
   ],
   "metadata": {
    "collapsed": false,
    "ExecuteTime": {
     "end_time": "2023-11-13T13:37:24.184724500Z",
     "start_time": "2023-11-13T13:37:24.175949400Z"
    }
   },
   "id": "fe0e162e883409fd"
  },
  {
   "cell_type": "code",
   "execution_count": 8,
   "outputs": [
    {
     "data": {
      "text/plain": "tensor(3)"
     },
     "execution_count": 8,
     "metadata": {},
     "output_type": "execute_result"
    }
   ],
   "source": [
    "x[3]"
   ],
   "metadata": {
    "collapsed": false,
    "ExecuteTime": {
     "end_time": "2023-11-13T13:37:39.326589400Z",
     "start_time": "2023-11-13T13:37:39.310479300Z"
    }
   },
   "id": "51b3627414d1b6fa"
  },
  {
   "cell_type": "code",
   "execution_count": 9,
   "outputs": [
    {
     "data": {
      "text/plain": "4"
     },
     "execution_count": 9,
     "metadata": {},
     "output_type": "execute_result"
    }
   ],
   "source": [
    "len(x)"
   ],
   "metadata": {
    "collapsed": false,
    "ExecuteTime": {
     "end_time": "2023-11-13T13:37:47.550900800Z",
     "start_time": "2023-11-13T13:37:47.543172600Z"
    }
   },
   "id": "25d1c00d0339cd2"
  },
  {
   "cell_type": "code",
   "execution_count": 11,
   "outputs": [
    {
     "data": {
      "text/plain": "torch.Size([4])"
     },
     "execution_count": 11,
     "metadata": {},
     "output_type": "execute_result"
    }
   ],
   "source": [
    "x.shape"
   ],
   "metadata": {
    "collapsed": false,
    "ExecuteTime": {
     "end_time": "2023-11-13T13:38:33.583243800Z",
     "start_time": "2023-11-13T13:38:33.576352100Z"
    }
   },
   "id": "affc2a95dea63501"
  },
  {
   "cell_type": "markdown",
   "source": [
    "#### 2.3.3 矩阵"
   ],
   "metadata": {
    "collapsed": false
   },
   "id": "2837f8cd19bfc95f"
  },
  {
   "cell_type": "code",
   "execution_count": 14,
   "outputs": [
    {
     "data": {
      "text/plain": "tensor([[ 0,  1,  2,  3],\n        [ 4,  5,  6,  7],\n        [ 8,  9, 10, 11],\n        [12, 13, 14, 15],\n        [16, 17, 18, 19]])"
     },
     "execution_count": 14,
     "metadata": {},
     "output_type": "execute_result"
    }
   ],
   "source": [
    "A = torch.arange(20).reshape(5, 4)\n",
    "A"
   ],
   "metadata": {
    "collapsed": false,
    "ExecuteTime": {
     "end_time": "2023-11-13T13:41:37.282754200Z",
     "start_time": "2023-11-13T13:41:37.278618100Z"
    }
   },
   "id": "b2765606b1025509"
  },
  {
   "cell_type": "code",
   "execution_count": 16,
   "outputs": [
    {
     "data": {
      "text/plain": "tensor([[ 0,  4,  8, 12, 16],\n        [ 1,  5,  9, 13, 17],\n        [ 2,  6, 10, 14, 18],\n        [ 3,  7, 11, 15, 19]])"
     },
     "execution_count": 16,
     "metadata": {},
     "output_type": "execute_result"
    }
   ],
   "source": [
    "# 转置\n",
    "A.T"
   ],
   "metadata": {
    "collapsed": false,
    "ExecuteTime": {
     "end_time": "2023-11-13T13:42:05.398624500Z",
     "start_time": "2023-11-13T13:42:05.389745Z"
    }
   },
   "id": "1831cc7fb9ff5f5e"
  },
  {
   "cell_type": "markdown",
   "source": [
    "#### 2.3.4 张量"
   ],
   "metadata": {
    "collapsed": false
   },
   "id": "8c68368988b3257a"
  },
  {
   "cell_type": "code",
   "execution_count": 18,
   "outputs": [
    {
     "data": {
      "text/plain": "tensor([[[ 0,  1,  2,  3],\n         [ 4,  5,  6,  7],\n         [ 8,  9, 10, 11]],\n\n        [[12, 13, 14, 15],\n         [16, 17, 18, 19],\n         [20, 21, 22, 23]]])"
     },
     "execution_count": 18,
     "metadata": {},
     "output_type": "execute_result"
    }
   ],
   "source": [
    "X = torch.arange(24).reshape(2,3,4)\n",
    "X"
   ],
   "metadata": {
    "collapsed": false,
    "ExecuteTime": {
     "end_time": "2023-11-13T13:43:49.867014700Z",
     "start_time": "2023-11-13T13:43:49.862374200Z"
    }
   },
   "id": "a88560563c1ee63d"
  },
  {
   "cell_type": "markdown",
   "source": [
    "#### 2.3.5 张量算法"
   ],
   "metadata": {
    "collapsed": false
   },
   "id": "4b8837802386f5f1"
  },
  {
   "cell_type": "code",
   "execution_count": 19,
   "outputs": [
    {
     "data": {
      "text/plain": "(tensor([[ 0.,  1.,  2.,  3.],\n         [ 4.,  5.,  6.,  7.],\n         [ 8.,  9., 10., 11.],\n         [12., 13., 14., 15.],\n         [16., 17., 18., 19.]]),\n tensor([[ 0.,  2.,  4.,  6.],\n         [ 8., 10., 12., 14.],\n         [16., 18., 20., 22.],\n         [24., 26., 28., 30.],\n         [32., 34., 36., 38.]]))"
     },
     "execution_count": 19,
     "metadata": {},
     "output_type": "execute_result"
    }
   ],
   "source": [
    "A = torch.arange(20, dtype=torch.float32).reshape(5, 4)\n",
    "B = A.clone()\n",
    "A, A + B"
   ],
   "metadata": {
    "collapsed": false,
    "ExecuteTime": {
     "end_time": "2023-11-13T13:45:04.400469700Z",
     "start_time": "2023-11-13T13:45:04.390461800Z"
    }
   },
   "id": "c12b028cb3e0d426"
  },
  {
   "cell_type": "code",
   "execution_count": 20,
   "outputs": [
    {
     "data": {
      "text/plain": "tensor([[  0.,   1.,   4.,   9.],\n        [ 16.,  25.,  36.,  49.],\n        [ 64.,  81., 100., 121.],\n        [144., 169., 196., 225.],\n        [256., 289., 324., 361.]])"
     },
     "execution_count": 20,
     "metadata": {},
     "output_type": "execute_result"
    }
   ],
   "source": [
    "A * B"
   ],
   "metadata": {
    "collapsed": false,
    "ExecuteTime": {
     "end_time": "2023-11-13T13:45:34.456057Z",
     "start_time": "2023-11-13T13:45:34.445773900Z"
    }
   },
   "id": "30a549f863dbcb01"
  },
  {
   "cell_type": "code",
   "execution_count": 21,
   "outputs": [
    {
     "data": {
      "text/plain": "(tensor([[[ 2,  3,  4,  5],\n          [ 6,  7,  8,  9],\n          [10, 11, 12, 13]],\n \n         [[14, 15, 16, 17],\n          [18, 19, 20, 21],\n          [22, 23, 24, 25]]]),\n torch.Size([2, 3, 4]))"
     },
     "execution_count": 21,
     "metadata": {},
     "output_type": "execute_result"
    }
   ],
   "source": [
    "a = 2\n",
    "X = torch.arange(24).reshape(2,3,4)\n",
    "a + X, (a * X).shape"
   ],
   "metadata": {
    "collapsed": false,
    "ExecuteTime": {
     "end_time": "2023-11-13T13:46:12.404992700Z",
     "start_time": "2023-11-13T13:46:12.397253700Z"
    }
   },
   "id": "4a18a41fdb8627cb"
  },
  {
   "cell_type": "markdown",
   "source": [
    "#### 2.3.6 降维"
   ],
   "metadata": {
    "collapsed": false
   },
   "id": "9c00232673236684"
  },
  {
   "cell_type": "code",
   "execution_count": 22,
   "outputs": [
    {
     "data": {
      "text/plain": "(tensor([0., 1., 2., 3.]), tensor(6.))"
     },
     "execution_count": 22,
     "metadata": {},
     "output_type": "execute_result"
    }
   ],
   "source": [
    "x = torch.arange(4, dtype=torch.float32)\n",
    "x, x.sum()"
   ],
   "metadata": {
    "collapsed": false,
    "ExecuteTime": {
     "end_time": "2023-11-13T13:47:07.416562500Z",
     "start_time": "2023-11-13T13:47:07.398298Z"
    }
   },
   "id": "545105ebd29af9d0"
  },
  {
   "cell_type": "code",
   "execution_count": 23,
   "outputs": [
    {
     "data": {
      "text/plain": "(torch.Size([5, 4]), tensor(190.))"
     },
     "execution_count": 23,
     "metadata": {},
     "output_type": "execute_result"
    }
   ],
   "source": [
    "A.shape, A.sum()"
   ],
   "metadata": {
    "collapsed": false,
    "ExecuteTime": {
     "end_time": "2023-11-13T13:47:23.045172900Z",
     "start_time": "2023-11-13T13:47:23.037827700Z"
    }
   },
   "id": "d77b445c9aea6e57"
  },
  {
   "cell_type": "code",
   "execution_count": 24,
   "outputs": [
    {
     "data": {
      "text/plain": "(tensor([40., 45., 50., 55.]), torch.Size([4]))"
     },
     "execution_count": 24,
     "metadata": {},
     "output_type": "execute_result"
    }
   ],
   "source": [
    "A_sum_axis0 = A.sum(axis=0)\n",
    "A_sum_axis0, A_sum_axis0.shape"
   ],
   "metadata": {
    "collapsed": false,
    "ExecuteTime": {
     "end_time": "2023-11-13T13:47:58.581338300Z",
     "start_time": "2023-11-13T13:47:58.573494900Z"
    }
   },
   "id": "5662856c2cb8da3b"
  },
  {
   "cell_type": "code",
   "execution_count": 25,
   "outputs": [
    {
     "data": {
      "text/plain": "(tensor([ 6., 22., 38., 54., 70.]), torch.Size([5]))"
     },
     "execution_count": 25,
     "metadata": {},
     "output_type": "execute_result"
    }
   ],
   "source": [
    "A_sum_axis1 = A.sum(axis=1)\n",
    "A_sum_axis1, A_sum_axis1.shape"
   ],
   "metadata": {
    "collapsed": false,
    "ExecuteTime": {
     "end_time": "2023-11-13T13:49:12.330500500Z",
     "start_time": "2023-11-13T13:49:12.190071500Z"
    }
   },
   "id": "6cf8e94b4cdddf45"
  },
  {
   "cell_type": "code",
   "execution_count": 26,
   "outputs": [
    {
     "data": {
      "text/plain": "tensor(190.)"
     },
     "execution_count": 26,
     "metadata": {},
     "output_type": "execute_result"
    }
   ],
   "source": [
    "A.sum(axis=[0, 1])"
   ],
   "metadata": {
    "collapsed": false,
    "ExecuteTime": {
     "end_time": "2023-11-13T13:49:22.189430600Z",
     "start_time": "2023-11-13T13:49:22.181822400Z"
    }
   },
   "id": "ac35ed2cb6de59c1"
  },
  {
   "cell_type": "code",
   "execution_count": 27,
   "outputs": [
    {
     "data": {
      "text/plain": "(tensor(9.5000), tensor(9.5000))"
     },
     "execution_count": 27,
     "metadata": {},
     "output_type": "execute_result"
    }
   ],
   "source": [
    "# 均值，求和，个数\n",
    "A.mean(), A.sum() / A.numel()"
   ],
   "metadata": {
    "collapsed": false,
    "ExecuteTime": {
     "end_time": "2023-11-13T13:50:06.526579900Z",
     "start_time": "2023-11-13T13:50:06.519090200Z"
    }
   },
   "id": "4bb5babf335f2230"
  },
  {
   "cell_type": "markdown",
   "source": [
    "非降维求和"
   ],
   "metadata": {
    "collapsed": false
   },
   "id": "4680c80b11396ff1"
  },
  {
   "cell_type": "code",
   "execution_count": 28,
   "outputs": [
    {
     "data": {
      "text/plain": "tensor([[ 6.],\n        [22.],\n        [38.],\n        [54.],\n        [70.]])"
     },
     "execution_count": 28,
     "metadata": {},
     "output_type": "execute_result"
    }
   ],
   "source": [
    "sum_A = A.sum(axis=1, keepdims=True)\n",
    "sum_A"
   ],
   "metadata": {
    "collapsed": false,
    "ExecuteTime": {
     "end_time": "2023-11-13T13:50:57.878226900Z",
     "start_time": "2023-11-13T13:50:57.860788500Z"
    }
   },
   "id": "5dc390b5e78443"
  },
  {
   "cell_type": "code",
   "execution_count": 29,
   "outputs": [
    {
     "data": {
      "text/plain": "tensor([[0.0000, 0.1667, 0.3333, 0.5000],\n        [0.1818, 0.2273, 0.2727, 0.3182],\n        [0.2105, 0.2368, 0.2632, 0.2895],\n        [0.2222, 0.2407, 0.2593, 0.2778],\n        [0.2286, 0.2429, 0.2571, 0.2714]])"
     },
     "execution_count": 29,
     "metadata": {},
     "output_type": "execute_result"
    }
   ],
   "source": [
    "A / sum_A"
   ],
   "metadata": {
    "collapsed": false,
    "ExecuteTime": {
     "end_time": "2023-11-13T13:51:33.128900Z",
     "start_time": "2023-11-13T13:51:33.093724900Z"
    }
   },
   "id": "ad25e17287ebe0ba"
  },
  {
   "cell_type": "code",
   "execution_count": 30,
   "outputs": [
    {
     "data": {
      "text/plain": "tensor([[ 0.,  1.,  2.,  3.],\n        [ 4.,  6.,  8., 10.],\n        [12., 15., 18., 21.],\n        [24., 28., 32., 36.],\n        [40., 45., 50., 55.]])"
     },
     "execution_count": 30,
     "metadata": {},
     "output_type": "execute_result"
    }
   ],
   "source": [
    "A.cumsum(axis=0)"
   ],
   "metadata": {
    "collapsed": false,
    "ExecuteTime": {
     "end_time": "2023-11-13T13:52:02.272074500Z",
     "start_time": "2023-11-13T13:52:02.261044500Z"
    }
   },
   "id": "73c17c4deb884e6a"
  },
  {
   "cell_type": "markdown",
   "source": [
    "#### 2.3.7 点积"
   ],
   "metadata": {
    "collapsed": false
   },
   "id": "9d2361c5de46f6bb"
  },
  {
   "cell_type": "code",
   "execution_count": 31,
   "outputs": [
    {
     "data": {
      "text/plain": "(tensor([0., 1., 2., 3.]), tensor([1., 1., 1., 1.]), tensor(6.))"
     },
     "execution_count": 31,
     "metadata": {},
     "output_type": "execute_result"
    }
   ],
   "source": [
    "y = torch.ones(4, dtype=torch.float32)\n",
    "x, y, torch.dot(x, y)"
   ],
   "metadata": {
    "collapsed": false,
    "ExecuteTime": {
     "end_time": "2023-11-13T13:54:52.042687500Z",
     "start_time": "2023-11-13T13:54:52.028804400Z"
    }
   },
   "id": "8474768040ea80ba"
  },
  {
   "cell_type": "code",
   "execution_count": 32,
   "outputs": [
    {
     "data": {
      "text/plain": "tensor(6.)"
     },
     "execution_count": 32,
     "metadata": {},
     "output_type": "execute_result"
    }
   ],
   "source": [
    "torch.sum(x * y)"
   ],
   "metadata": {
    "collapsed": false,
    "ExecuteTime": {
     "end_time": "2023-11-13T13:55:28.996120100Z",
     "start_time": "2023-11-13T13:55:28.973529200Z"
    }
   },
   "id": "5358b57d4a43958d"
  },
  {
   "cell_type": "markdown",
   "source": [
    "#### 2.3.8 矩阵-向量积"
   ],
   "metadata": {
    "collapsed": false
   },
   "id": "c4f930346a16424"
  },
  {
   "cell_type": "code",
   "execution_count": 33,
   "outputs": [
    {
     "data": {
      "text/plain": "(torch.Size([5, 4]), torch.Size([4]), tensor([ 14.,  38.,  62.,  86., 110.]))"
     },
     "execution_count": 33,
     "metadata": {},
     "output_type": "execute_result"
    }
   ],
   "source": [
    "# x: 4 -> 4x1\n",
    "A.shape, x.shape, torch.mv(A, x)"
   ],
   "metadata": {
    "collapsed": false,
    "ExecuteTime": {
     "end_time": "2023-11-13T13:56:44.171448Z",
     "start_time": "2023-11-13T13:56:44.157667400Z"
    }
   },
   "id": "4da9cf2974831aca"
  },
  {
   "cell_type": "markdown",
   "source": [
    "#### 2.3.9 矩阵-矩阵乘法"
   ],
   "metadata": {
    "collapsed": false
   },
   "id": "9696432ebc33ac4c"
  },
  {
   "cell_type": "code",
   "execution_count": 35,
   "outputs": [
    {
     "data": {
      "text/plain": "tensor([[ 6.,  6.,  6.],\n        [22., 22., 22.],\n        [38., 38., 38.],\n        [54., 54., 54.],\n        [70., 70., 70.]])"
     },
     "execution_count": 35,
     "metadata": {},
     "output_type": "execute_result"
    }
   ],
   "source": [
    "B = torch.ones(4, 3)\n",
    "torch.mm(A, B)"
   ],
   "metadata": {
    "collapsed": false,
    "ExecuteTime": {
     "end_time": "2023-11-13T14:01:15.572784600Z",
     "start_time": "2023-11-13T14:01:15.564465800Z"
    }
   },
   "id": "fd3100c0350b1d2d"
  },
  {
   "cell_type": "markdown",
   "source": [
    "#### 2.3.10 范数\n",
    "\n",
    "性质：\n",
    "\n",
    "1.缩放因子\n",
    "\n",
    "$$\n",
    "f(\\alpha \\mathbf{x}) = |\\alpha| f(\\mathbf{x}).\n",
    "$$\n",
    "\n",
    "2.三角不等式\n",
    "\n",
    "$$\n",
    "f(\\mathbf{x} + \\mathbf{y}) \\leq f(\\mathbf{x}) + f(\\mathbf{y}).\n",
    "$$\n",
    "\n",
    "3.范数必须非负\n",
    "\n",
    "$$\n",
    "f(\\mathbf{x}) \\geq 0.\n",
    "$$\n",
    "\n",
    "4.范数最小值为0\n",
    "\n",
    "$$\n",
    "\\forall i, [\\mathbf{x}]_i = 0 \\Leftrightarrow f(\\mathbf{x})=0.\n",
    "$$\n",
    "\n",
    "$L_2$范数：\n",
    "\n",
    "$$\n",
    "\\|\\mathbf{x}\\|_2 = \\sqrt{\\sum_{i=1}^n x_i^2},\n",
    "$$"
   ],
   "metadata": {
    "collapsed": false
   },
   "id": "18bb10e06ca1ab23"
  },
  {
   "cell_type": "code",
   "execution_count": 36,
   "outputs": [
    {
     "data": {
      "text/plain": "tensor(5.)"
     },
     "execution_count": 36,
     "metadata": {},
     "output_type": "execute_result"
    }
   ],
   "source": [
    "u = torch.tensor([3.0, -4.0])\n",
    "torch.norm(u)"
   ],
   "metadata": {
    "collapsed": false,
    "ExecuteTime": {
     "end_time": "2023-11-13T14:07:48.791495900Z",
     "start_time": "2023-11-13T14:07:48.772943400Z"
    }
   },
   "id": "b2c5cf27fa2b07ff"
  },
  {
   "cell_type": "markdown",
   "source": [
    "$L_1$范数为绝对值和\n",
    "\n",
    "$$\n",
    "\\|\\mathbf{x}\\|_1 = \\sum_{i=1}^n \\left|x_i \\right|.\n",
    "$$"
   ],
   "metadata": {
    "collapsed": false
   },
   "id": "5cb51f5ae9ff4d9f"
  },
  {
   "cell_type": "code",
   "execution_count": 37,
   "outputs": [
    {
     "data": {
      "text/plain": "tensor(7.)"
     },
     "execution_count": 37,
     "metadata": {},
     "output_type": "execute_result"
    }
   ],
   "source": [
    "torch.abs(u).sum()"
   ],
   "metadata": {
    "collapsed": false,
    "ExecuteTime": {
     "end_time": "2023-11-13T14:09:13.495085700Z",
     "start_time": "2023-11-13T14:09:13.475820200Z"
    }
   },
   "id": "9eee2d487078d712"
  },
  {
   "cell_type": "markdown",
   "source": [
    "一般化的表达\n",
    "\n",
    "$$\n",
    "\\|\\mathbf{x}\\|_p = \\left(\\sum_{i=1}^n \\left|x_i \\right|^p \\right)^{1/p}.\n",
    "$$"
   ],
   "metadata": {
    "collapsed": false
   },
   "id": "f44d42bdb32a6908"
  },
  {
   "cell_type": "code",
   "execution_count": null,
   "outputs": [],
   "source": [],
   "metadata": {
    "collapsed": false
   },
   "id": "88e54f6bb82873f9"
  }
 ],
 "metadata": {
  "kernelspec": {
   "display_name": "Python 3",
   "language": "python",
   "name": "python3"
  },
  "language_info": {
   "codemirror_mode": {
    "name": "ipython",
    "version": 2
   },
   "file_extension": ".py",
   "mimetype": "text/x-python",
   "name": "python",
   "nbconvert_exporter": "python",
   "pygments_lexer": "ipython2",
   "version": "2.7.6"
  }
 },
 "nbformat": 4,
 "nbformat_minor": 5
}
