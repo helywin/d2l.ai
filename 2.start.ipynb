{
 "cells": [
  {
   "cell_type": "code",
   "execution_count": 38,
   "outputs": [
    {
     "data": {
      "text/plain": "True"
     },
     "execution_count": 38,
     "metadata": {},
     "output_type": "execute_result"
    }
   ],
   "source": [
    "# 测试cuda是否可用\n",
    "import torch\n",
    "torch.cuda.is_available()"
   ],
   "metadata": {
    "collapsed": false,
    "ExecuteTime": {
     "end_time": "2023-11-13T14:10:55.129647600Z",
     "start_time": "2023-11-13T14:10:55.116135300Z"
    }
   },
   "id": "68cca10a52306886"
  },
  {
   "cell_type": "markdown",
   "source": [
    "### 2.3 线性代数\n",
    "\n",
    "#### 2.3.1 标量"
   ],
   "metadata": {
    "collapsed": false
   },
   "id": "b6ceb7906fc02135"
  },
  {
   "cell_type": "code",
   "execution_count": 6,
   "outputs": [
    {
     "data": {
      "text/plain": "(tensor(5.), tensor(6.), tensor(1.5000), tensor(9.))"
     },
     "execution_count": 6,
     "metadata": {},
     "output_type": "execute_result"
    }
   ],
   "source": [
    "import torch\n",
    "x = torch.tensor(3.0)\n",
    "y = torch.tensor(2.0)\n",
    "\n",
    "x+y, x*y, x/y, x**y"
   ],
   "metadata": {
    "collapsed": false,
    "ExecuteTime": {
     "end_time": "2023-11-13T13:35:22.863209100Z",
     "start_time": "2023-11-13T13:35:22.856430800Z"
    }
   },
   "id": "ae75866fc00dbf78"
  },
  {
   "cell_type": "markdown",
   "source": [
    "#### 2.3.2 向量"
   ],
   "metadata": {
    "collapsed": false
   },
   "id": "bd2c31e97a65dc9c"
  },
  {
   "cell_type": "code",
   "execution_count": 7,
   "outputs": [
    {
     "data": {
      "text/plain": "tensor([0, 1, 2, 3])"
     },
     "execution_count": 7,
     "metadata": {},
     "output_type": "execute_result"
    }
   ],
   "source": [
    "x = torch.arange(4)\n",
    "x"
   ],
   "metadata": {
    "collapsed": false,
    "ExecuteTime": {
     "end_time": "2023-11-13T13:37:24.184724500Z",
     "start_time": "2023-11-13T13:37:24.175949400Z"
    }
   },
   "id": "fe0e162e883409fd"
  },
  {
   "cell_type": "code",
   "execution_count": 8,
   "outputs": [
    {
     "data": {
      "text/plain": "tensor(3)"
     },
     "execution_count": 8,
     "metadata": {},
     "output_type": "execute_result"
    }
   ],
   "source": [
    "x[3]"
   ],
   "metadata": {
    "collapsed": false,
    "ExecuteTime": {
     "end_time": "2023-11-13T13:37:39.326589400Z",
     "start_time": "2023-11-13T13:37:39.310479300Z"
    }
   },
   "id": "51b3627414d1b6fa"
  },
  {
   "cell_type": "code",
   "execution_count": 9,
   "outputs": [
    {
     "data": {
      "text/plain": "4"
     },
     "execution_count": 9,
     "metadata": {},
     "output_type": "execute_result"
    }
   ],
   "source": [
    "len(x)"
   ],
   "metadata": {
    "collapsed": false,
    "ExecuteTime": {
     "end_time": "2023-11-13T13:37:47.550900800Z",
     "start_time": "2023-11-13T13:37:47.543172600Z"
    }
   },
   "id": "25d1c00d0339cd2"
  },
  {
   "cell_type": "code",
   "execution_count": 11,
   "outputs": [
    {
     "data": {
      "text/plain": "torch.Size([4])"
     },
     "execution_count": 11,
     "metadata": {},
     "output_type": "execute_result"
    }
   ],
   "source": [
    "x.shape"
   ],
   "metadata": {
    "collapsed": false,
    "ExecuteTime": {
     "end_time": "2023-11-13T13:38:33.583243800Z",
     "start_time": "2023-11-13T13:38:33.576352100Z"
    }
   },
   "id": "affc2a95dea63501"
  },
  {
   "cell_type": "markdown",
   "source": [
    "#### 2.3.3 矩阵"
   ],
   "metadata": {
    "collapsed": false
   },
   "id": "2837f8cd19bfc95f"
  },
  {
   "cell_type": "code",
   "execution_count": 14,
   "outputs": [
    {
     "data": {
      "text/plain": "tensor([[ 0,  1,  2,  3],\n        [ 4,  5,  6,  7],\n        [ 8,  9, 10, 11],\n        [12, 13, 14, 15],\n        [16, 17, 18, 19]])"
     },
     "execution_count": 14,
     "metadata": {},
     "output_type": "execute_result"
    }
   ],
   "source": [
    "A = torch.arange(20).reshape(5, 4)\n",
    "A"
   ],
   "metadata": {
    "collapsed": false,
    "ExecuteTime": {
     "end_time": "2023-11-13T13:41:37.282754200Z",
     "start_time": "2023-11-13T13:41:37.278618100Z"
    }
   },
   "id": "b2765606b1025509"
  },
  {
   "cell_type": "code",
   "execution_count": 16,
   "outputs": [
    {
     "data": {
      "text/plain": "tensor([[ 0,  4,  8, 12, 16],\n        [ 1,  5,  9, 13, 17],\n        [ 2,  6, 10, 14, 18],\n        [ 3,  7, 11, 15, 19]])"
     },
     "execution_count": 16,
     "metadata": {},
     "output_type": "execute_result"
    }
   ],
   "source": [
    "# 转置\n",
    "A.T"
   ],
   "metadata": {
    "collapsed": false,
    "ExecuteTime": {
     "end_time": "2023-11-13T13:42:05.398624500Z",
     "start_time": "2023-11-13T13:42:05.389745Z"
    }
   },
   "id": "1831cc7fb9ff5f5e"
  },
  {
   "cell_type": "markdown",
   "source": [
    "#### 2.3.4 张量"
   ],
   "metadata": {
    "collapsed": false
   },
   "id": "8c68368988b3257a"
  },
  {
   "cell_type": "code",
   "execution_count": 18,
   "outputs": [
    {
     "data": {
      "text/plain": "tensor([[[ 0,  1,  2,  3],\n         [ 4,  5,  6,  7],\n         [ 8,  9, 10, 11]],\n\n        [[12, 13, 14, 15],\n         [16, 17, 18, 19],\n         [20, 21, 22, 23]]])"
     },
     "execution_count": 18,
     "metadata": {},
     "output_type": "execute_result"
    }
   ],
   "source": [
    "X = torch.arange(24).reshape(2,3,4)\n",
    "X"
   ],
   "metadata": {
    "collapsed": false,
    "ExecuteTime": {
     "end_time": "2023-11-13T13:43:49.867014700Z",
     "start_time": "2023-11-13T13:43:49.862374200Z"
    }
   },
   "id": "a88560563c1ee63d"
  },
  {
   "cell_type": "markdown",
   "source": [
    "#### 2.3.5 张量算法"
   ],
   "metadata": {
    "collapsed": false
   },
   "id": "4b8837802386f5f1"
  },
  {
   "cell_type": "code",
   "execution_count": 19,
   "outputs": [
    {
     "data": {
      "text/plain": "(tensor([[ 0.,  1.,  2.,  3.],\n         [ 4.,  5.,  6.,  7.],\n         [ 8.,  9., 10., 11.],\n         [12., 13., 14., 15.],\n         [16., 17., 18., 19.]]),\n tensor([[ 0.,  2.,  4.,  6.],\n         [ 8., 10., 12., 14.],\n         [16., 18., 20., 22.],\n         [24., 26., 28., 30.],\n         [32., 34., 36., 38.]]))"
     },
     "execution_count": 19,
     "metadata": {},
     "output_type": "execute_result"
    }
   ],
   "source": [
    "A = torch.arange(20, dtype=torch.float32).reshape(5, 4)\n",
    "B = A.clone()\n",
    "A, A + B"
   ],
   "metadata": {
    "collapsed": false,
    "ExecuteTime": {
     "end_time": "2023-11-13T13:45:04.400469700Z",
     "start_time": "2023-11-13T13:45:04.390461800Z"
    }
   },
   "id": "c12b028cb3e0d426"
  },
  {
   "cell_type": "code",
   "execution_count": 20,
   "outputs": [
    {
     "data": {
      "text/plain": "tensor([[  0.,   1.,   4.,   9.],\n        [ 16.,  25.,  36.,  49.],\n        [ 64.,  81., 100., 121.],\n        [144., 169., 196., 225.],\n        [256., 289., 324., 361.]])"
     },
     "execution_count": 20,
     "metadata": {},
     "output_type": "execute_result"
    }
   ],
   "source": [
    "A * B"
   ],
   "metadata": {
    "collapsed": false,
    "ExecuteTime": {
     "end_time": "2023-11-13T13:45:34.456057Z",
     "start_time": "2023-11-13T13:45:34.445773900Z"
    }
   },
   "id": "30a549f863dbcb01"
  },
  {
   "cell_type": "code",
   "execution_count": 21,
   "outputs": [
    {
     "data": {
      "text/plain": "(tensor([[[ 2,  3,  4,  5],\n          [ 6,  7,  8,  9],\n          [10, 11, 12, 13]],\n \n         [[14, 15, 16, 17],\n          [18, 19, 20, 21],\n          [22, 23, 24, 25]]]),\n torch.Size([2, 3, 4]))"
     },
     "execution_count": 21,
     "metadata": {},
     "output_type": "execute_result"
    }
   ],
   "source": [
    "a = 2\n",
    "X = torch.arange(24).reshape(2,3,4)\n",
    "a + X, (a * X).shape"
   ],
   "metadata": {
    "collapsed": false,
    "ExecuteTime": {
     "end_time": "2023-11-13T13:46:12.404992700Z",
     "start_time": "2023-11-13T13:46:12.397253700Z"
    }
   },
   "id": "4a18a41fdb8627cb"
  },
  {
   "cell_type": "markdown",
   "source": [
    "#### 2.3.6 降维"
   ],
   "metadata": {
    "collapsed": false
   },
   "id": "9c00232673236684"
  },
  {
   "cell_type": "code",
   "execution_count": 22,
   "outputs": [
    {
     "data": {
      "text/plain": "(tensor([0., 1., 2., 3.]), tensor(6.))"
     },
     "execution_count": 22,
     "metadata": {},
     "output_type": "execute_result"
    }
   ],
   "source": [
    "x = torch.arange(4, dtype=torch.float32)\n",
    "x, x.sum()"
   ],
   "metadata": {
    "collapsed": false,
    "ExecuteTime": {
     "end_time": "2023-11-13T13:47:07.416562500Z",
     "start_time": "2023-11-13T13:47:07.398298Z"
    }
   },
   "id": "545105ebd29af9d0"
  },
  {
   "cell_type": "code",
   "execution_count": 23,
   "outputs": [
    {
     "data": {
      "text/plain": "(torch.Size([5, 4]), tensor(190.))"
     },
     "execution_count": 23,
     "metadata": {},
     "output_type": "execute_result"
    }
   ],
   "source": [
    "A.shape, A.sum()"
   ],
   "metadata": {
    "collapsed": false,
    "ExecuteTime": {
     "end_time": "2023-11-13T13:47:23.045172900Z",
     "start_time": "2023-11-13T13:47:23.037827700Z"
    }
   },
   "id": "d77b445c9aea6e57"
  },
  {
   "cell_type": "code",
   "execution_count": 24,
   "outputs": [
    {
     "data": {
      "text/plain": "(tensor([40., 45., 50., 55.]), torch.Size([4]))"
     },
     "execution_count": 24,
     "metadata": {},
     "output_type": "execute_result"
    }
   ],
   "source": [
    "A_sum_axis0 = A.sum(axis=0)\n",
    "A_sum_axis0, A_sum_axis0.shape"
   ],
   "metadata": {
    "collapsed": false,
    "ExecuteTime": {
     "end_time": "2023-11-13T13:47:58.581338300Z",
     "start_time": "2023-11-13T13:47:58.573494900Z"
    }
   },
   "id": "5662856c2cb8da3b"
  },
  {
   "cell_type": "code",
   "execution_count": 25,
   "outputs": [
    {
     "data": {
      "text/plain": "(tensor([ 6., 22., 38., 54., 70.]), torch.Size([5]))"
     },
     "execution_count": 25,
     "metadata": {},
     "output_type": "execute_result"
    }
   ],
   "source": [
    "A_sum_axis1 = A.sum(axis=1)\n",
    "A_sum_axis1, A_sum_axis1.shape"
   ],
   "metadata": {
    "collapsed": false,
    "ExecuteTime": {
     "end_time": "2023-11-13T13:49:12.330500500Z",
     "start_time": "2023-11-13T13:49:12.190071500Z"
    }
   },
   "id": "6cf8e94b4cdddf45"
  },
  {
   "cell_type": "code",
   "execution_count": 26,
   "outputs": [
    {
     "data": {
      "text/plain": "tensor(190.)"
     },
     "execution_count": 26,
     "metadata": {},
     "output_type": "execute_result"
    }
   ],
   "source": [
    "A.sum(axis=[0, 1])"
   ],
   "metadata": {
    "collapsed": false,
    "ExecuteTime": {
     "end_time": "2023-11-13T13:49:22.189430600Z",
     "start_time": "2023-11-13T13:49:22.181822400Z"
    }
   },
   "id": "ac35ed2cb6de59c1"
  },
  {
   "cell_type": "code",
   "execution_count": 27,
   "outputs": [
    {
     "data": {
      "text/plain": "(tensor(9.5000), tensor(9.5000))"
     },
     "execution_count": 27,
     "metadata": {},
     "output_type": "execute_result"
    }
   ],
   "source": [
    "# 均值，求和，个数\n",
    "A.mean(), A.sum() / A.numel()"
   ],
   "metadata": {
    "collapsed": false,
    "ExecuteTime": {
     "end_time": "2023-11-13T13:50:06.526579900Z",
     "start_time": "2023-11-13T13:50:06.519090200Z"
    }
   },
   "id": "4bb5babf335f2230"
  },
  {
   "cell_type": "markdown",
   "source": [
    "非降维求和"
   ],
   "metadata": {
    "collapsed": false
   },
   "id": "4680c80b11396ff1"
  },
  {
   "cell_type": "code",
   "execution_count": 28,
   "outputs": [
    {
     "data": {
      "text/plain": "tensor([[ 6.],\n        [22.],\n        [38.],\n        [54.],\n        [70.]])"
     },
     "execution_count": 28,
     "metadata": {},
     "output_type": "execute_result"
    }
   ],
   "source": [
    "sum_A = A.sum(axis=1, keepdims=True)\n",
    "sum_A"
   ],
   "metadata": {
    "collapsed": false,
    "ExecuteTime": {
     "end_time": "2023-11-13T13:50:57.878226900Z",
     "start_time": "2023-11-13T13:50:57.860788500Z"
    }
   },
   "id": "5dc390b5e78443"
  },
  {
   "cell_type": "code",
   "execution_count": 29,
   "outputs": [
    {
     "data": {
      "text/plain": "tensor([[0.0000, 0.1667, 0.3333, 0.5000],\n        [0.1818, 0.2273, 0.2727, 0.3182],\n        [0.2105, 0.2368, 0.2632, 0.2895],\n        [0.2222, 0.2407, 0.2593, 0.2778],\n        [0.2286, 0.2429, 0.2571, 0.2714]])"
     },
     "execution_count": 29,
     "metadata": {},
     "output_type": "execute_result"
    }
   ],
   "source": [
    "A / sum_A"
   ],
   "metadata": {
    "collapsed": false,
    "ExecuteTime": {
     "end_time": "2023-11-13T13:51:33.128900Z",
     "start_time": "2023-11-13T13:51:33.093724900Z"
    }
   },
   "id": "ad25e17287ebe0ba"
  },
  {
   "cell_type": "code",
   "execution_count": 30,
   "outputs": [
    {
     "data": {
      "text/plain": "tensor([[ 0.,  1.,  2.,  3.],\n        [ 4.,  6.,  8., 10.],\n        [12., 15., 18., 21.],\n        [24., 28., 32., 36.],\n        [40., 45., 50., 55.]])"
     },
     "execution_count": 30,
     "metadata": {},
     "output_type": "execute_result"
    }
   ],
   "source": [
    "A.cumsum(axis=0)"
   ],
   "metadata": {
    "collapsed": false,
    "ExecuteTime": {
     "end_time": "2023-11-13T13:52:02.272074500Z",
     "start_time": "2023-11-13T13:52:02.261044500Z"
    }
   },
   "id": "73c17c4deb884e6a"
  },
  {
   "cell_type": "markdown",
   "source": [
    "#### 2.3.7 点积"
   ],
   "metadata": {
    "collapsed": false
   },
   "id": "9d2361c5de46f6bb"
  },
  {
   "cell_type": "code",
   "execution_count": 31,
   "outputs": [
    {
     "data": {
      "text/plain": "(tensor([0., 1., 2., 3.]), tensor([1., 1., 1., 1.]), tensor(6.))"
     },
     "execution_count": 31,
     "metadata": {},
     "output_type": "execute_result"
    }
   ],
   "source": [
    "y = torch.ones(4, dtype=torch.float32)\n",
    "x, y, torch.dot(x, y)"
   ],
   "metadata": {
    "collapsed": false,
    "ExecuteTime": {
     "end_time": "2023-11-13T13:54:52.042687500Z",
     "start_time": "2023-11-13T13:54:52.028804400Z"
    }
   },
   "id": "8474768040ea80ba"
  },
  {
   "cell_type": "code",
   "execution_count": 32,
   "outputs": [
    {
     "data": {
      "text/plain": "tensor(6.)"
     },
     "execution_count": 32,
     "metadata": {},
     "output_type": "execute_result"
    }
   ],
   "source": [
    "torch.sum(x * y)"
   ],
   "metadata": {
    "collapsed": false,
    "ExecuteTime": {
     "end_time": "2023-11-13T13:55:28.996120100Z",
     "start_time": "2023-11-13T13:55:28.973529200Z"
    }
   },
   "id": "5358b57d4a43958d"
  },
  {
   "cell_type": "markdown",
   "source": [
    "#### 2.3.8 矩阵-向量积"
   ],
   "metadata": {
    "collapsed": false
   },
   "id": "c4f930346a16424"
  },
  {
   "cell_type": "code",
   "execution_count": 33,
   "outputs": [
    {
     "data": {
      "text/plain": "(torch.Size([5, 4]), torch.Size([4]), tensor([ 14.,  38.,  62.,  86., 110.]))"
     },
     "execution_count": 33,
     "metadata": {},
     "output_type": "execute_result"
    }
   ],
   "source": [
    "# x: 4 -> 4x1\n",
    "A.shape, x.shape, torch.mv(A, x)"
   ],
   "metadata": {
    "collapsed": false,
    "ExecuteTime": {
     "end_time": "2023-11-13T13:56:44.171448Z",
     "start_time": "2023-11-13T13:56:44.157667400Z"
    }
   },
   "id": "4da9cf2974831aca"
  },
  {
   "cell_type": "markdown",
   "source": [
    "#### 2.3.9 矩阵-矩阵乘法"
   ],
   "metadata": {
    "collapsed": false
   },
   "id": "9696432ebc33ac4c"
  },
  {
   "cell_type": "code",
   "execution_count": 35,
   "outputs": [
    {
     "data": {
      "text/plain": "tensor([[ 6.,  6.,  6.],\n        [22., 22., 22.],\n        [38., 38., 38.],\n        [54., 54., 54.],\n        [70., 70., 70.]])"
     },
     "execution_count": 35,
     "metadata": {},
     "output_type": "execute_result"
    }
   ],
   "source": [
    "B = torch.ones(4, 3)\n",
    "torch.mm(A, B)"
   ],
   "metadata": {
    "collapsed": false,
    "ExecuteTime": {
     "end_time": "2023-11-13T14:01:15.572784600Z",
     "start_time": "2023-11-13T14:01:15.564465800Z"
    }
   },
   "id": "fd3100c0350b1d2d"
  },
  {
   "cell_type": "markdown",
   "source": [
    "#### 2.3.10 范数\n",
    "\n",
    "性质：\n",
    "\n",
    "1.缩放因子\n",
    "\n",
    "$$\n",
    "f(\\alpha \\mathbf{x}) = |\\alpha| f(\\mathbf{x}).\n",
    "$$\n",
    "\n",
    "2.三角不等式\n",
    "\n",
    "$$\n",
    "f(\\mathbf{x} + \\mathbf{y}) \\leq f(\\mathbf{x}) + f(\\mathbf{y}).\n",
    "$$\n",
    "\n",
    "3.范数必须非负\n",
    "\n",
    "$$\n",
    "f(\\mathbf{x}) \\geq 0.\n",
    "$$\n",
    "\n",
    "4.范数最小值为0\n",
    "\n",
    "$$\n",
    "\\forall i, [\\mathbf{x}]_i = 0 \\Leftrightarrow f(\\mathbf{x})=0.\n",
    "$$\n",
    "\n",
    "$L_2$范数：\n",
    "\n",
    "$$\n",
    "\\|\\mathbf{x}\\|_2 = \\sqrt{\\sum_{i=1}^n x_i^2},\n",
    "$$"
   ],
   "metadata": {
    "collapsed": false
   },
   "id": "18bb10e06ca1ab23"
  },
  {
   "cell_type": "code",
   "execution_count": 36,
   "outputs": [
    {
     "data": {
      "text/plain": "tensor(5.)"
     },
     "execution_count": 36,
     "metadata": {},
     "output_type": "execute_result"
    }
   ],
   "source": [
    "u = torch.tensor([3.0, -4.0])\n",
    "torch.norm(u)"
   ],
   "metadata": {
    "collapsed": false,
    "ExecuteTime": {
     "end_time": "2023-11-13T14:07:48.791495900Z",
     "start_time": "2023-11-13T14:07:48.772943400Z"
    }
   },
   "id": "b2c5cf27fa2b07ff"
  },
  {
   "cell_type": "markdown",
   "source": [
    "$L_1$范数为绝对值和\n",
    "\n",
    "$$\n",
    "\\|\\mathbf{x}\\|_1 = \\sum_{i=1}^n \\left|x_i \\right|.\n",
    "$$"
   ],
   "metadata": {
    "collapsed": false
   },
   "id": "5cb51f5ae9ff4d9f"
  },
  {
   "cell_type": "code",
   "execution_count": 37,
   "outputs": [
    {
     "data": {
      "text/plain": "tensor(7.)"
     },
     "execution_count": 37,
     "metadata": {},
     "output_type": "execute_result"
    }
   ],
   "source": [
    "torch.abs(u).sum()"
   ],
   "metadata": {
    "collapsed": false,
    "ExecuteTime": {
     "end_time": "2023-11-13T14:09:13.495085700Z",
     "start_time": "2023-11-13T14:09:13.475820200Z"
    }
   },
   "id": "9eee2d487078d712"
  },
  {
   "cell_type": "markdown",
   "source": [
    "一般化的表达\n",
    "\n",
    "$$\n",
    "\\|\\mathbf{x}\\|_p = \\left(\\sum_{i=1}^n \\left|x_i \\right|^p \\right)^{1/p}.\n",
    "$$"
   ],
   "metadata": {
    "collapsed": false
   },
   "id": "f44d42bdb32a6908"
  },
  {
   "cell_type": "markdown",
   "source": [
    "### 2.4 微积分\n",
    "\n",
    "#### 2.4.1 导数和微分\n",
    "\n",
    "$$\n",
    "f'(x) = \\lim_{h \\rightarrow 0} \\frac{f(x+h) - f(x)}{h}.\n",
    "$$"
   ],
   "metadata": {
    "collapsed": false
   },
   "id": "b17d78a1f4c35648"
  },
  {
   "cell_type": "code",
   "execution_count": 4,
   "outputs": [],
   "source": [
    "%matplotlib inline\n",
    "import numpy as np\n",
    "from matplotlib_inline import backend_inline\n",
    "import torch\n",
    "\n",
    "def f(x):\n",
    "    return 3 * x ** 2 - 4 * x"
   ],
   "metadata": {
    "collapsed": false,
    "ExecuteTime": {
     "end_time": "2023-11-18T02:36:47.311440700Z",
     "start_time": "2023-11-18T02:36:44.958668800Z"
    }
   },
   "id": "1f36427488e9fb03"
  },
  {
   "cell_type": "code",
   "execution_count": 5,
   "outputs": [
    {
     "name": "stdout",
     "output_type": "stream",
     "text": [
      "h=0.10000, numerical limit=2.30000\n",
      "h=0.01000, numerical limit=2.03000\n",
      "h=0.00100, numerical limit=2.00300\n",
      "h=0.00010, numerical limit=2.00030\n",
      "h=0.00001, numerical limit=2.00003\n"
     ]
    }
   ],
   "source": [
    "def numerical_lim(f, x, h):\n",
    "    return (f(x + h) - f(x)) / h\n",
    "\n",
    "h = 0.1\n",
    "for i in range(5):\n",
    "    print(f'h={h:.5f}, numerical limit={numerical_lim(f, 1, h):.5f}')\n",
    "    h *= 0.1"
   ],
   "metadata": {
    "collapsed": false,
    "ExecuteTime": {
     "end_time": "2023-11-18T02:38:11.634009200Z",
     "start_time": "2023-11-18T02:38:11.622608800Z"
    }
   },
   "id": "8a0a0e2e1a56a942"
  },
  {
   "cell_type": "code",
   "execution_count": 6,
   "outputs": [
    {
     "data": {
      "text/plain": "<Figure size 350x250 with 1 Axes>",
      "image/svg+xml": "<?xml version=\"1.0\" encoding=\"utf-8\" standalone=\"no\"?>\n<!DOCTYPE svg PUBLIC \"-//W3C//DTD SVG 1.1//EN\"\n  \"http://www.w3.org/Graphics/SVG/1.1/DTD/svg11.dtd\">\n<svg xmlns:xlink=\"http://www.w3.org/1999/xlink\" width=\"243.529359pt\" height=\"183.35625pt\" viewBox=\"0 0 243.529359 183.35625\" xmlns=\"http://www.w3.org/2000/svg\" version=\"1.1\">\n <metadata>\n  <rdf:RDF xmlns:dc=\"http://purl.org/dc/elements/1.1/\" xmlns:cc=\"http://creativecommons.org/ns#\" xmlns:rdf=\"http://www.w3.org/1999/02/22-rdf-syntax-ns#\">\n   <cc:Work>\n    <dc:type rdf:resource=\"http://purl.org/dc/dcmitype/StillImage\"/>\n    <dc:date>2023-11-18T10:45:22.844825</dc:date>\n    <dc:format>image/svg+xml</dc:format>\n    <dc:creator>\n     <cc:Agent>\n      <dc:title>Matplotlib v3.8.0, https://matplotlib.org/</dc:title>\n     </cc:Agent>\n    </dc:creator>\n   </cc:Work>\n  </rdf:RDF>\n </metadata>\n <defs>\n  <style type=\"text/css\">*{stroke-linejoin: round; stroke-linecap: butt}</style>\n </defs>\n <g id=\"figure_1\">\n  <g id=\"patch_1\">\n   <path d=\"M 0 183.35625 \nL 243.529359 183.35625 \nL 243.529359 0 \nL 0 0 \nz\n\" style=\"fill: #ffffff\"/>\n  </g>\n  <g id=\"axes_1\">\n   <g id=\"patch_2\">\n    <path d=\"M 40.603125 145.8 \nL 235.903125 145.8 \nL 235.903125 7.2 \nL 40.603125 7.2 \nz\n\" style=\"fill: #ffffff\"/>\n   </g>\n   <g id=\"matplotlib.axis_1\">\n    <g id=\"xtick_1\">\n     <g id=\"line2d_1\">\n      <path d=\"M 49.480398 145.8 \nL 49.480398 7.2 \n\" clip-path=\"url(#p3008660a10)\" style=\"fill: none; stroke: #b0b0b0; stroke-width: 0.8; stroke-linecap: square\"/>\n     </g>\n     <g id=\"line2d_2\">\n      <defs>\n       <path id=\"meb123558b6\" d=\"M 0 0 \nL 0 3.5 \n\" style=\"stroke: #000000; stroke-width: 0.8\"/>\n      </defs>\n      <g>\n       <use xlink:href=\"#meb123558b6\" x=\"49.480398\" y=\"145.8\" style=\"stroke: #000000; stroke-width: 0.8\"/>\n      </g>\n     </g>\n     <g id=\"text_1\">\n      <!-- 0 -->\n      <g transform=\"translate(46.299148 160.398438) scale(0.1 -0.1)\">\n       <defs>\n        <path id=\"DejaVuSans-30\" d=\"M 2034 4250 \nQ 1547 4250 1301 3770 \nQ 1056 3291 1056 2328 \nQ 1056 1369 1301 889 \nQ 1547 409 2034 409 \nQ 2525 409 2770 889 \nQ 3016 1369 3016 2328 \nQ 3016 3291 2770 3770 \nQ 2525 4250 2034 4250 \nz\nM 2034 4750 \nQ 2819 4750 3233 4129 \nQ 3647 3509 3647 2328 \nQ 3647 1150 3233 529 \nQ 2819 -91 2034 -91 \nQ 1250 -91 836 529 \nQ 422 1150 422 2328 \nQ 422 3509 836 4129 \nQ 1250 4750 2034 4750 \nz\n\" transform=\"scale(0.015625)\"/>\n       </defs>\n       <use xlink:href=\"#DejaVuSans-30\"/>\n      </g>\n     </g>\n    </g>\n    <g id=\"xtick_2\">\n     <g id=\"line2d_3\">\n      <path d=\"M 110.702968 145.8 \nL 110.702968 7.2 \n\" clip-path=\"url(#p3008660a10)\" style=\"fill: none; stroke: #b0b0b0; stroke-width: 0.8; stroke-linecap: square\"/>\n     </g>\n     <g id=\"line2d_4\">\n      <g>\n       <use xlink:href=\"#meb123558b6\" x=\"110.702968\" y=\"145.8\" style=\"stroke: #000000; stroke-width: 0.8\"/>\n      </g>\n     </g>\n     <g id=\"text_2\">\n      <!-- 1 -->\n      <g transform=\"translate(107.521718 160.398438) scale(0.1 -0.1)\">\n       <defs>\n        <path id=\"DejaVuSans-31\" d=\"M 794 531 \nL 1825 531 \nL 1825 4091 \nL 703 3866 \nL 703 4441 \nL 1819 4666 \nL 2450 4666 \nL 2450 531 \nL 3481 531 \nL 3481 0 \nL 794 0 \nL 794 531 \nz\n\" transform=\"scale(0.015625)\"/>\n       </defs>\n       <use xlink:href=\"#DejaVuSans-31\"/>\n      </g>\n     </g>\n    </g>\n    <g id=\"xtick_3\">\n     <g id=\"line2d_5\">\n      <path d=\"M 171.925539 145.8 \nL 171.925539 7.2 \n\" clip-path=\"url(#p3008660a10)\" style=\"fill: none; stroke: #b0b0b0; stroke-width: 0.8; stroke-linecap: square\"/>\n     </g>\n     <g id=\"line2d_6\">\n      <g>\n       <use xlink:href=\"#meb123558b6\" x=\"171.925539\" y=\"145.8\" style=\"stroke: #000000; stroke-width: 0.8\"/>\n      </g>\n     </g>\n     <g id=\"text_3\">\n      <!-- 2 -->\n      <g transform=\"translate(168.744289 160.398438) scale(0.1 -0.1)\">\n       <defs>\n        <path id=\"DejaVuSans-32\" d=\"M 1228 531 \nL 3431 531 \nL 3431 0 \nL 469 0 \nL 469 531 \nQ 828 903 1448 1529 \nQ 2069 2156 2228 2338 \nQ 2531 2678 2651 2914 \nQ 2772 3150 2772 3378 \nQ 2772 3750 2511 3984 \nQ 2250 4219 1831 4219 \nQ 1534 4219 1204 4116 \nQ 875 4013 500 3803 \nL 500 4441 \nQ 881 4594 1212 4672 \nQ 1544 4750 1819 4750 \nQ 2544 4750 2975 4387 \nQ 3406 4025 3406 3419 \nQ 3406 3131 3298 2873 \nQ 3191 2616 2906 2266 \nQ 2828 2175 2409 1742 \nQ 1991 1309 1228 531 \nz\n\" transform=\"scale(0.015625)\"/>\n       </defs>\n       <use xlink:href=\"#DejaVuSans-32\"/>\n      </g>\n     </g>\n    </g>\n    <g id=\"xtick_4\">\n     <g id=\"line2d_7\">\n      <path d=\"M 233.148109 145.8 \nL 233.148109 7.2 \n\" clip-path=\"url(#p3008660a10)\" style=\"fill: none; stroke: #b0b0b0; stroke-width: 0.8; stroke-linecap: square\"/>\n     </g>\n     <g id=\"line2d_8\">\n      <g>\n       <use xlink:href=\"#meb123558b6\" x=\"233.148109\" y=\"145.8\" style=\"stroke: #000000; stroke-width: 0.8\"/>\n      </g>\n     </g>\n     <g id=\"text_4\">\n      <!-- 3 -->\n      <g transform=\"translate(229.966859 160.398438) scale(0.1 -0.1)\">\n       <defs>\n        <path id=\"DejaVuSans-33\" d=\"M 2597 2516 \nQ 3050 2419 3304 2112 \nQ 3559 1806 3559 1356 \nQ 3559 666 3084 287 \nQ 2609 -91 1734 -91 \nQ 1441 -91 1130 -33 \nQ 819 25 488 141 \nL 488 750 \nQ 750 597 1062 519 \nQ 1375 441 1716 441 \nQ 2309 441 2620 675 \nQ 2931 909 2931 1356 \nQ 2931 1769 2642 2001 \nQ 2353 2234 1838 2234 \nL 1294 2234 \nL 1294 2753 \nL 1863 2753 \nQ 2328 2753 2575 2939 \nQ 2822 3125 2822 3475 \nQ 2822 3834 2567 4026 \nQ 2313 4219 1838 4219 \nQ 1578 4219 1281 4162 \nQ 984 4106 628 3988 \nL 628 4550 \nQ 988 4650 1302 4700 \nQ 1616 4750 1894 4750 \nQ 2613 4750 3031 4423 \nQ 3450 4097 3450 3541 \nQ 3450 3153 3228 2886 \nQ 3006 2619 2597 2516 \nz\n\" transform=\"scale(0.015625)\"/>\n       </defs>\n       <use xlink:href=\"#DejaVuSans-33\"/>\n      </g>\n     </g>\n    </g>\n    <g id=\"text_5\">\n     <!-- x -->\n     <g transform=\"translate(135.29375 174.076563) scale(0.1 -0.1)\">\n      <defs>\n       <path id=\"DejaVuSans-78\" d=\"M 3513 3500 \nL 2247 1797 \nL 3578 0 \nL 2900 0 \nL 1881 1375 \nL 863 0 \nL 184 0 \nL 1544 1831 \nL 300 3500 \nL 978 3500 \nL 1906 2253 \nL 2834 3500 \nL 3513 3500 \nz\n\" transform=\"scale(0.015625)\"/>\n      </defs>\n      <use xlink:href=\"#DejaVuSans-78\"/>\n     </g>\n    </g>\n   </g>\n   <g id=\"matplotlib.axis_2\">\n    <g id=\"ytick_1\">\n     <g id=\"line2d_9\">\n      <path d=\"M 40.603125 116.769994 \nL 235.903125 116.769994 \n\" clip-path=\"url(#p3008660a10)\" style=\"fill: none; stroke: #b0b0b0; stroke-width: 0.8; stroke-linecap: square\"/>\n     </g>\n     <g id=\"line2d_10\">\n      <defs>\n       <path id=\"mce354de85a\" d=\"M 0 0 \nL -3.5 0 \n\" style=\"stroke: #000000; stroke-width: 0.8\"/>\n      </defs>\n      <g>\n       <use xlink:href=\"#mce354de85a\" x=\"40.603125\" y=\"116.769994\" style=\"stroke: #000000; stroke-width: 0.8\"/>\n      </g>\n     </g>\n     <g id=\"text_6\">\n      <!-- 0 -->\n      <g transform=\"translate(27.240625 120.569213) scale(0.1 -0.1)\">\n       <use xlink:href=\"#DejaVuSans-30\"/>\n      </g>\n     </g>\n    </g>\n    <g id=\"ytick_2\">\n     <g id=\"line2d_11\">\n      <path d=\"M 40.603125 78.886651 \nL 235.903125 78.886651 \n\" clip-path=\"url(#p3008660a10)\" style=\"fill: none; stroke: #b0b0b0; stroke-width: 0.8; stroke-linecap: square\"/>\n     </g>\n     <g id=\"line2d_12\">\n      <g>\n       <use xlink:href=\"#mce354de85a\" x=\"40.603125\" y=\"78.886651\" style=\"stroke: #000000; stroke-width: 0.8\"/>\n      </g>\n     </g>\n     <g id=\"text_7\">\n      <!-- 5 -->\n      <g transform=\"translate(27.240625 82.685869) scale(0.1 -0.1)\">\n       <defs>\n        <path id=\"DejaVuSans-35\" d=\"M 691 4666 \nL 3169 4666 \nL 3169 4134 \nL 1269 4134 \nL 1269 2991 \nQ 1406 3038 1543 3061 \nQ 1681 3084 1819 3084 \nQ 2600 3084 3056 2656 \nQ 3513 2228 3513 1497 \nQ 3513 744 3044 326 \nQ 2575 -91 1722 -91 \nQ 1428 -91 1123 -41 \nQ 819 9 494 109 \nL 494 744 \nQ 775 591 1075 516 \nQ 1375 441 1709 441 \nQ 2250 441 2565 725 \nQ 2881 1009 2881 1497 \nQ 2881 1984 2565 2268 \nQ 2250 2553 1709 2553 \nQ 1456 2553 1204 2497 \nQ 953 2441 691 2322 \nL 691 4666 \nz\n\" transform=\"scale(0.015625)\"/>\n       </defs>\n       <use xlink:href=\"#DejaVuSans-35\"/>\n      </g>\n     </g>\n    </g>\n    <g id=\"ytick_3\">\n     <g id=\"line2d_13\">\n      <path d=\"M 40.603125 41.003307 \nL 235.903125 41.003307 \n\" clip-path=\"url(#p3008660a10)\" style=\"fill: none; stroke: #b0b0b0; stroke-width: 0.8; stroke-linecap: square\"/>\n     </g>\n     <g id=\"line2d_14\">\n      <g>\n       <use xlink:href=\"#mce354de85a\" x=\"40.603125\" y=\"41.003307\" style=\"stroke: #000000; stroke-width: 0.8\"/>\n      </g>\n     </g>\n     <g id=\"text_8\">\n      <!-- 10 -->\n      <g transform=\"translate(20.878125 44.802526) scale(0.1 -0.1)\">\n       <use xlink:href=\"#DejaVuSans-31\"/>\n       <use xlink:href=\"#DejaVuSans-30\" x=\"63.623047\"/>\n      </g>\n     </g>\n    </g>\n    <g id=\"text_9\">\n     <!-- f(x) -->\n     <g transform=\"translate(14.798437 85.121094) rotate(-90) scale(0.1 -0.1)\">\n      <defs>\n       <path id=\"DejaVuSans-66\" d=\"M 2375 4863 \nL 2375 4384 \nL 1825 4384 \nQ 1516 4384 1395 4259 \nQ 1275 4134 1275 3809 \nL 1275 3500 \nL 2222 3500 \nL 2222 3053 \nL 1275 3053 \nL 1275 0 \nL 697 0 \nL 697 3053 \nL 147 3053 \nL 147 3500 \nL 697 3500 \nL 697 3744 \nQ 697 4328 969 4595 \nQ 1241 4863 1831 4863 \nL 2375 4863 \nz\n\" transform=\"scale(0.015625)\"/>\n       <path id=\"DejaVuSans-28\" d=\"M 1984 4856 \nQ 1566 4138 1362 3434 \nQ 1159 2731 1159 2009 \nQ 1159 1288 1364 580 \nQ 1569 -128 1984 -844 \nL 1484 -844 \nQ 1016 -109 783 600 \nQ 550 1309 550 2009 \nQ 550 2706 781 3412 \nQ 1013 4119 1484 4856 \nL 1984 4856 \nz\n\" transform=\"scale(0.015625)\"/>\n       <path id=\"DejaVuSans-29\" d=\"M 513 4856 \nL 1013 4856 \nQ 1481 4119 1714 3412 \nQ 1947 2706 1947 2009 \nQ 1947 1309 1714 600 \nQ 1481 -109 1013 -844 \nL 513 -844 \nQ 928 -128 1133 580 \nQ 1338 1288 1338 2009 \nQ 1338 2731 1133 3434 \nQ 928 4138 513 4856 \nz\n\" transform=\"scale(0.015625)\"/>\n      </defs>\n      <use xlink:href=\"#DejaVuSans-66\"/>\n      <use xlink:href=\"#DejaVuSans-28\" x=\"35.205078\"/>\n      <use xlink:href=\"#DejaVuSans-78\" x=\"74.21875\"/>\n      <use xlink:href=\"#DejaVuSans-29\" x=\"133.398438\"/>\n     </g>\n    </g>\n   </g>\n   <g id=\"line2d_15\">\n    <path d=\"M 49.480398 116.769994 \nL 55.602655 119.573361 \nL 61.724912 121.922129 \nL 67.847169 123.816296 \nL 73.969426 125.255863 \nL 80.091683 126.24083 \nL 86.21394 126.771197 \nL 92.336197 126.846963 \nL 98.458454 126.46813 \nL 104.580711 125.634696 \nL 110.702968 124.346663 \nL 116.825225 122.604029 \nL 122.947482 120.406795 \nL 129.069739 117.754961 \nL 135.191996 114.648527 \nL 141.314254 111.087492 \nL 147.436511 107.071858 \nL 153.558768 102.601624 \nL 159.681025 97.676789 \nL 165.803282 92.297354 \nL 171.925539 86.463319 \nL 178.047796 80.174684 \nL 184.170053 73.431449 \nL 190.29231 66.233614 \nL 196.414567 58.581179 \nL 202.536824 50.474143 \nL 208.659081 41.912508 \nL 214.781338 32.896272 \nL 220.903595 23.425436 \nL 227.025852 13.5 \n\" clip-path=\"url(#p3008660a10)\" style=\"fill: none; stroke: #1f77b4; stroke-width: 1.5; stroke-linecap: square\"/>\n   </g>\n   <g id=\"line2d_16\">\n    <path d=\"M 49.480398 139.5 \nL 55.602655 137.984666 \nL 61.724912 136.469333 \nL 67.847169 134.953999 \nL 73.969426 133.438665 \nL 80.091683 131.923331 \nL 86.21394 130.407998 \nL 92.336197 128.892664 \nL 98.458454 127.37733 \nL 104.580711 125.861996 \nL 110.702968 124.346663 \nL 116.825225 122.831329 \nL 122.947482 121.315995 \nL 129.069739 119.800661 \nL 135.191996 118.285328 \nL 141.314254 116.769994 \nL 147.436511 115.25466 \nL 153.558768 113.739327 \nL 159.681025 112.223993 \nL 165.803282 110.708659 \nL 171.925539 109.193325 \nL 178.047796 107.677992 \nL 184.170053 106.162658 \nL 190.29231 104.647324 \nL 196.414567 103.13199 \nL 202.536824 101.616657 \nL 208.659081 100.101323 \nL 214.781338 98.585989 \nL 220.903595 97.070655 \nL 227.025852 95.555322 \n\" clip-path=\"url(#p3008660a10)\" style=\"fill: none; stroke-dasharray: 5.55,2.4; stroke-dashoffset: 0; stroke: #bf00bf; stroke-width: 1.5\"/>\n   </g>\n   <g id=\"patch_3\">\n    <path d=\"M 40.603125 145.8 \nL 40.603125 7.2 \n\" style=\"fill: none; stroke: #000000; stroke-width: 0.8; stroke-linejoin: miter; stroke-linecap: square\"/>\n   </g>\n   <g id=\"patch_4\">\n    <path d=\"M 235.903125 145.8 \nL 235.903125 7.2 \n\" style=\"fill: none; stroke: #000000; stroke-width: 0.8; stroke-linejoin: miter; stroke-linecap: square\"/>\n   </g>\n   <g id=\"patch_5\">\n    <path d=\"M 40.603125 145.8 \nL 235.903125 145.8 \n\" style=\"fill: none; stroke: #000000; stroke-width: 0.8; stroke-linejoin: miter; stroke-linecap: square\"/>\n   </g>\n   <g id=\"patch_6\">\n    <path d=\"M 40.603125 7.2 \nL 235.903125 7.2 \n\" style=\"fill: none; stroke: #000000; stroke-width: 0.8; stroke-linejoin: miter; stroke-linecap: square\"/>\n   </g>\n   <g id=\"legend_1\">\n    <g id=\"patch_7\">\n     <path d=\"M 47.603125 44.55625 \nL 172.153125 44.55625 \nQ 174.153125 44.55625 174.153125 42.55625 \nL 174.153125 14.2 \nQ 174.153125 12.2 172.153125 12.2 \nL 47.603125 12.2 \nQ 45.603125 12.2 45.603125 14.2 \nL 45.603125 42.55625 \nQ 45.603125 44.55625 47.603125 44.55625 \nz\n\" style=\"fill: #ffffff; opacity: 0.8; stroke: #cccccc; stroke-linejoin: miter\"/>\n    </g>\n    <g id=\"line2d_17\">\n     <path d=\"M 49.603125 20.298438 \nL 59.603125 20.298438 \nL 69.603125 20.298438 \n\" style=\"fill: none; stroke: #1f77b4; stroke-width: 1.5; stroke-linecap: square\"/>\n    </g>\n    <g id=\"text_10\">\n     <!-- f(x) -->\n     <g transform=\"translate(77.603125 23.798438) scale(0.1 -0.1)\">\n      <use xlink:href=\"#DejaVuSans-66\"/>\n      <use xlink:href=\"#DejaVuSans-28\" x=\"35.205078\"/>\n      <use xlink:href=\"#DejaVuSans-78\" x=\"74.21875\"/>\n      <use xlink:href=\"#DejaVuSans-29\" x=\"133.398438\"/>\n     </g>\n    </g>\n    <g id=\"line2d_18\">\n     <path d=\"M 49.603125 34.976562 \nL 59.603125 34.976562 \nL 69.603125 34.976562 \n\" style=\"fill: none; stroke-dasharray: 5.55,2.4; stroke-dashoffset: 0; stroke: #bf00bf; stroke-width: 1.5\"/>\n    </g>\n    <g id=\"text_11\">\n     <!-- Tangent line (x=1) -->\n     <g transform=\"translate(77.603125 38.476562) scale(0.1 -0.1)\">\n      <defs>\n       <path id=\"DejaVuSans-54\" d=\"M -19 4666 \nL 3928 4666 \nL 3928 4134 \nL 2272 4134 \nL 2272 0 \nL 1638 0 \nL 1638 4134 \nL -19 4134 \nL -19 4666 \nz\n\" transform=\"scale(0.015625)\"/>\n       <path id=\"DejaVuSans-61\" d=\"M 2194 1759 \nQ 1497 1759 1228 1600 \nQ 959 1441 959 1056 \nQ 959 750 1161 570 \nQ 1363 391 1709 391 \nQ 2188 391 2477 730 \nQ 2766 1069 2766 1631 \nL 2766 1759 \nL 2194 1759 \nz\nM 3341 1997 \nL 3341 0 \nL 2766 0 \nL 2766 531 \nQ 2569 213 2275 61 \nQ 1981 -91 1556 -91 \nQ 1019 -91 701 211 \nQ 384 513 384 1019 \nQ 384 1609 779 1909 \nQ 1175 2209 1959 2209 \nL 2766 2209 \nL 2766 2266 \nQ 2766 2663 2505 2880 \nQ 2244 3097 1772 3097 \nQ 1472 3097 1187 3025 \nQ 903 2953 641 2809 \nL 641 3341 \nQ 956 3463 1253 3523 \nQ 1550 3584 1831 3584 \nQ 2591 3584 2966 3190 \nQ 3341 2797 3341 1997 \nz\n\" transform=\"scale(0.015625)\"/>\n       <path id=\"DejaVuSans-6e\" d=\"M 3513 2113 \nL 3513 0 \nL 2938 0 \nL 2938 2094 \nQ 2938 2591 2744 2837 \nQ 2550 3084 2163 3084 \nQ 1697 3084 1428 2787 \nQ 1159 2491 1159 1978 \nL 1159 0 \nL 581 0 \nL 581 3500 \nL 1159 3500 \nL 1159 2956 \nQ 1366 3272 1645 3428 \nQ 1925 3584 2291 3584 \nQ 2894 3584 3203 3211 \nQ 3513 2838 3513 2113 \nz\n\" transform=\"scale(0.015625)\"/>\n       <path id=\"DejaVuSans-67\" d=\"M 2906 1791 \nQ 2906 2416 2648 2759 \nQ 2391 3103 1925 3103 \nQ 1463 3103 1205 2759 \nQ 947 2416 947 1791 \nQ 947 1169 1205 825 \nQ 1463 481 1925 481 \nQ 2391 481 2648 825 \nQ 2906 1169 2906 1791 \nz\nM 3481 434 \nQ 3481 -459 3084 -895 \nQ 2688 -1331 1869 -1331 \nQ 1566 -1331 1297 -1286 \nQ 1028 -1241 775 -1147 \nL 775 -588 \nQ 1028 -725 1275 -790 \nQ 1522 -856 1778 -856 \nQ 2344 -856 2625 -561 \nQ 2906 -266 2906 331 \nL 2906 616 \nQ 2728 306 2450 153 \nQ 2172 0 1784 0 \nQ 1141 0 747 490 \nQ 353 981 353 1791 \nQ 353 2603 747 3093 \nQ 1141 3584 1784 3584 \nQ 2172 3584 2450 3431 \nQ 2728 3278 2906 2969 \nL 2906 3500 \nL 3481 3500 \nL 3481 434 \nz\n\" transform=\"scale(0.015625)\"/>\n       <path id=\"DejaVuSans-65\" d=\"M 3597 1894 \nL 3597 1613 \nL 953 1613 \nQ 991 1019 1311 708 \nQ 1631 397 2203 397 \nQ 2534 397 2845 478 \nQ 3156 559 3463 722 \nL 3463 178 \nQ 3153 47 2828 -22 \nQ 2503 -91 2169 -91 \nQ 1331 -91 842 396 \nQ 353 884 353 1716 \nQ 353 2575 817 3079 \nQ 1281 3584 2069 3584 \nQ 2775 3584 3186 3129 \nQ 3597 2675 3597 1894 \nz\nM 3022 2063 \nQ 3016 2534 2758 2815 \nQ 2500 3097 2075 3097 \nQ 1594 3097 1305 2825 \nQ 1016 2553 972 2059 \nL 3022 2063 \nz\n\" transform=\"scale(0.015625)\"/>\n       <path id=\"DejaVuSans-74\" d=\"M 1172 4494 \nL 1172 3500 \nL 2356 3500 \nL 2356 3053 \nL 1172 3053 \nL 1172 1153 \nQ 1172 725 1289 603 \nQ 1406 481 1766 481 \nL 2356 481 \nL 2356 0 \nL 1766 0 \nQ 1100 0 847 248 \nQ 594 497 594 1153 \nL 594 3053 \nL 172 3053 \nL 172 3500 \nL 594 3500 \nL 594 4494 \nL 1172 4494 \nz\n\" transform=\"scale(0.015625)\"/>\n       <path id=\"DejaVuSans-20\" transform=\"scale(0.015625)\"/>\n       <path id=\"DejaVuSans-6c\" d=\"M 603 4863 \nL 1178 4863 \nL 1178 0 \nL 603 0 \nL 603 4863 \nz\n\" transform=\"scale(0.015625)\"/>\n       <path id=\"DejaVuSans-69\" d=\"M 603 3500 \nL 1178 3500 \nL 1178 0 \nL 603 0 \nL 603 3500 \nz\nM 603 4863 \nL 1178 4863 \nL 1178 4134 \nL 603 4134 \nL 603 4863 \nz\n\" transform=\"scale(0.015625)\"/>\n       <path id=\"DejaVuSans-3d\" d=\"M 678 2906 \nL 4684 2906 \nL 4684 2381 \nL 678 2381 \nL 678 2906 \nz\nM 678 1631 \nL 4684 1631 \nL 4684 1100 \nL 678 1100 \nL 678 1631 \nz\n\" transform=\"scale(0.015625)\"/>\n      </defs>\n      <use xlink:href=\"#DejaVuSans-54\"/>\n      <use xlink:href=\"#DejaVuSans-61\" x=\"44.583984\"/>\n      <use xlink:href=\"#DejaVuSans-6e\" x=\"105.863281\"/>\n      <use xlink:href=\"#DejaVuSans-67\" x=\"169.242188\"/>\n      <use xlink:href=\"#DejaVuSans-65\" x=\"232.71875\"/>\n      <use xlink:href=\"#DejaVuSans-6e\" x=\"294.242188\"/>\n      <use xlink:href=\"#DejaVuSans-74\" x=\"357.621094\"/>\n      <use xlink:href=\"#DejaVuSans-20\" x=\"396.830078\"/>\n      <use xlink:href=\"#DejaVuSans-6c\" x=\"428.617188\"/>\n      <use xlink:href=\"#DejaVuSans-69\" x=\"456.400391\"/>\n      <use xlink:href=\"#DejaVuSans-6e\" x=\"484.183594\"/>\n      <use xlink:href=\"#DejaVuSans-65\" x=\"547.5625\"/>\n      <use xlink:href=\"#DejaVuSans-20\" x=\"609.085938\"/>\n      <use xlink:href=\"#DejaVuSans-28\" x=\"640.873047\"/>\n      <use xlink:href=\"#DejaVuSans-78\" x=\"679.886719\"/>\n      <use xlink:href=\"#DejaVuSans-3d\" x=\"739.066406\"/>\n      <use xlink:href=\"#DejaVuSans-31\" x=\"822.855469\"/>\n      <use xlink:href=\"#DejaVuSans-29\" x=\"886.478516\"/>\n     </g>\n    </g>\n   </g>\n  </g>\n </g>\n <defs>\n  <clipPath id=\"p3008660a10\">\n   <rect x=\"40.603125\" y=\"7.2\" width=\"195.3\" height=\"138.6\"/>\n  </clipPath>\n </defs>\n</svg>\n"
     },
     "metadata": {},
     "output_type": "display_data"
    }
   ],
   "source": [
    "import utils\n",
    "x = np.arange(0, 3, 0.1)\n",
    "utils.plot(x, [f(x), 2 * x - 3], 'x', 'f(x)', legend=['f(x)', 'Tangent line (x=1)'])"
   ],
   "metadata": {
    "collapsed": false,
    "ExecuteTime": {
     "end_time": "2023-11-18T02:45:22.864957900Z",
     "start_time": "2023-11-18T02:45:22.757825100Z"
    }
   },
   "id": "806c21acf0042f34"
  },
  {
   "cell_type": "markdown",
   "source": [
    "### 2.5 自动微分\n",
    "\n",
    "#### 2.5.2 例子"
   ],
   "metadata": {
    "collapsed": false
   },
   "id": "9cfed33debf62418"
  },
  {
   "cell_type": "code",
   "execution_count": 2,
   "outputs": [
    {
     "data": {
      "text/plain": "tensor([0., 1., 2., 3.])"
     },
     "execution_count": 2,
     "metadata": {},
     "output_type": "execute_result"
    }
   ],
   "source": [
    "import torch\n",
    "x = torch.arange(4.0)\n",
    "x"
   ],
   "metadata": {
    "collapsed": false,
    "ExecuteTime": {
     "end_time": "2023-11-20T00:51:39.544524082Z",
     "start_time": "2023-11-20T00:51:37.492351021Z"
    }
   },
   "id": "f3fff1edfe632a85"
  },
  {
   "cell_type": "code",
   "execution_count": 14,
   "outputs": [
    {
     "data": {
      "text/plain": "True"
     },
     "execution_count": 14,
     "metadata": {},
     "output_type": "execute_result"
    }
   ],
   "source": [
    "x = torch.arange(4.0, requires_grad=True)\n",
    "x.grad is None"
   ],
   "metadata": {
    "collapsed": false,
    "ExecuteTime": {
     "end_time": "2023-11-18T02:48:31.840618Z",
     "start_time": "2023-11-18T02:48:31.830178400Z"
    }
   },
   "id": "6f976aa5f99a3220"
  },
  {
   "cell_type": "code",
   "execution_count": 15,
   "outputs": [
    {
     "data": {
      "text/plain": "tensor(28., grad_fn=<MulBackward0>)"
     },
     "execution_count": 15,
     "metadata": {},
     "output_type": "execute_result"
    }
   ],
   "source": [
    "y = 2 * torch.dot(x, x)\n",
    "y"
   ],
   "metadata": {
    "collapsed": false,
    "ExecuteTime": {
     "end_time": "2023-11-18T02:48:57.621628300Z",
     "start_time": "2023-11-18T02:48:57.598459300Z"
    }
   },
   "id": "d48951b0b098f0c2"
  },
  {
   "cell_type": "code",
   "execution_count": 16,
   "outputs": [
    {
     "data": {
      "text/plain": "tensor([ 0.,  4.,  8., 12.])"
     },
     "execution_count": 16,
     "metadata": {},
     "output_type": "execute_result"
    }
   ],
   "source": [
    "y.backward()\n",
    "x.grad"
   ],
   "metadata": {
    "collapsed": false,
    "ExecuteTime": {
     "end_time": "2023-11-18T02:49:25.050722600Z",
     "start_time": "2023-11-18T02:49:25.006128200Z"
    }
   },
   "id": "72f2a82ff91e846c"
  },
  {
   "cell_type": "code",
   "execution_count": 17,
   "outputs": [
    {
     "data": {
      "text/plain": "tensor([True, True, True, True])"
     },
     "execution_count": 17,
     "metadata": {},
     "output_type": "execute_result"
    }
   ],
   "source": [
    "x.grad == 4 * x"
   ],
   "metadata": {
    "collapsed": false,
    "ExecuteTime": {
     "end_time": "2023-11-18T02:50:40.445129800Z",
     "start_time": "2023-11-18T02:50:40.430088400Z"
    }
   },
   "id": "ccb5c82e4a4aedf8"
  },
  {
   "cell_type": "code",
   "execution_count": 27,
   "outputs": [
    {
     "name": "stdout",
     "output_type": "stream",
     "text": [
      "tensor([0., 1., 2., 3.], requires_grad=True)\n"
     ]
    },
    {
     "data": {
      "text/plain": "tensor([1., 1., 1., 1.])"
     },
     "execution_count": 27,
     "metadata": {},
     "output_type": "execute_result"
    }
   ],
   "source": [
    "print(x)\n",
    "x.grad.zero_()\n",
    "y = x.sum()\n",
    "y.backward()\n",
    "x.grad"
   ],
   "metadata": {
    "collapsed": false,
    "ExecuteTime": {
     "end_time": "2023-11-18T03:03:15.342203200Z",
     "start_time": "2023-11-18T03:03:15.324808500Z"
    }
   },
   "id": "ff1f1658cde06408"
  },
  {
   "cell_type": "markdown",
   "source": [
    "#### 2.5.2 非标量变量的反向传播\n",
    "\n",
    "当y不是标量时，向量y关于向量x的导数的最自然解释是一个矩阵。 对于高阶和高维的y和x，求导的结果可以是一个高阶张量。\n",
    "\n",
    "然而，虽然这些更奇特的对象确实出现在高级机器学习中（包括深度学习中）， 但当调用向量的反向计算时，我们通常会试图计算一批训练样本中每个组成部分的损失函数的导数。 这里，我们的目的不是计算微分矩阵，而是单独计算批量中每个样本的偏导数之和。"
   ],
   "metadata": {
    "collapsed": false
   },
   "id": "b955c9fce8a94020"
  },
  {
   "cell_type": "code",
   "execution_count": 30,
   "outputs": [
    {
     "name": "stdout",
     "output_type": "stream",
     "text": [
      "tensor([0., 1., 2., 3.], requires_grad=True) tensor([0., 2., 4., 6.])\n"
     ]
    },
    {
     "data": {
      "text/plain": "tensor([True, True, True, True])"
     },
     "execution_count": 30,
     "metadata": {},
     "output_type": "execute_result"
    }
   ],
   "source": [
    "# 对非标量调用backward需要传入一个gradient参数，该参数指定微分函数关于self的梯度。\n",
    "# 本例只想求偏导数的和，所以传递一个1的梯度是合适的\n",
    "print(x, x.grad)\n",
    "x.grad.zero_()\n",
    "y = x * x\n",
    "# 等价于y.backward(torch.ones(len(x)))\n",
    "y.sum().backward()\n",
    "x.grad == 2 * x"
   ],
   "metadata": {
    "collapsed": false,
    "ExecuteTime": {
     "end_time": "2023-11-18T03:06:09.994156500Z",
     "start_time": "2023-11-18T03:06:09.989500500Z"
    }
   },
   "id": "8ffc03978fe88269"
  },
  {
   "cell_type": "markdown",
   "source": [
    "#### 2.5.3 分离计算\n",
    "\n",
    "有时，我们希望将某些计算移动到记录的计算图之外。 例如，假设y是作为x的函数计算的，而z则是作为y和x的函数计算的。 想象一下，我们想计算z关于x的梯度，但由于某种原因，希望将y视为一个常数， 并且只考虑到x在y被计算后发挥的作用。\n",
    "\n",
    "这里可以分离y来返回一个新变量u，该变量与y具有相同的值， 但丢弃计算图中如何计算y的任何信息。 换句话说，梯度不会向后流经u到x。 因此，下面的反向传播函数计算z=u*x关于x的偏导数，同时将u作为常数处理， 而不是z=x*x*x关于x的偏导数。"
   ],
   "metadata": {
    "collapsed": false
   },
   "id": "fe16324abe684ac0"
  },
  {
   "cell_type": "code",
   "execution_count": 40,
   "outputs": [
    {
     "name": "stdout",
     "output_type": "stream",
     "text": [
      "tensor([0., 1., 2., 3.], requires_grad=True) tensor([0., 0., 0., 0.])\n"
     ]
    },
    {
     "data": {
      "text/plain": "tensor([True, True, True, True])"
     },
     "execution_count": 40,
     "metadata": {},
     "output_type": "execute_result"
    }
   ],
   "source": [
    "x.grad.zero_()\n",
    "print(x, x.grad)\n",
    "y = x * x\n",
    "u = y.detach()\n",
    "z = u * x\n",
    "\n",
    "z.sum().backward()\n",
    "x.grad == u"
   ],
   "metadata": {
    "collapsed": false,
    "ExecuteTime": {
     "end_time": "2023-11-18T03:09:58.178579900Z",
     "start_time": "2023-11-18T03:09:58.172571900Z"
    }
   },
   "id": "7892880be3dae61c"
  },
  {
   "cell_type": "code",
   "execution_count": 41,
   "outputs": [
    {
     "data": {
      "text/plain": "tensor([True, True, True, True])"
     },
     "execution_count": 41,
     "metadata": {},
     "output_type": "execute_result"
    }
   ],
   "source": [
    "x.grad.zero_()\n",
    "y.sum().backward()\n",
    "x.grad == 2 * x"
   ],
   "metadata": {
    "collapsed": false,
    "ExecuteTime": {
     "end_time": "2023-11-18T03:10:00.070690Z",
     "start_time": "2023-11-18T03:10:00.060285Z"
    }
   },
   "id": "3ab60d927fcc419"
  },
  {
   "cell_type": "markdown",
   "source": [
    "#### 2.5.4 Python控制流的梯度计算\n",
    "\n",
    "使用自动微分的一个好处是： 即使构建函数的计算图需要通过Python控制流（例如，条件、循环或任意函数调用），我们仍然可以计算得到的变量的梯度。 在下面的代码中，while循环的迭代次数和if语句的结果都取决于输入a的值。"
   ],
   "metadata": {
    "collapsed": false
   },
   "id": "f14f50ccacee6f32"
  },
  {
   "cell_type": "code",
   "execution_count": 4,
   "outputs": [],
   "source": [
    "def f(a):\n",
    "    b = a * 2\n",
    "    while b.norm() < 1000:\n",
    "        b = b * 2\n",
    "    if b.sum() > 0:\n",
    "        c = b\n",
    "    else:\n",
    "        c = 100 * b\n",
    "    return c\n",
    "\n"
   ],
   "metadata": {
    "collapsed": false,
    "ExecuteTime": {
     "end_time": "2023-11-20T00:51:59.163214677Z",
     "start_time": "2023-11-20T00:51:59.141002108Z"
    }
   },
   "id": "1df6259fc8748a4b"
  },
  {
   "cell_type": "code",
   "execution_count": 5,
   "outputs": [],
   "source": [
    "a = torch.randn(size=(1,5), requires_grad=True)\n",
    "d = f(a)\n",
    "d.sum().backward()"
   ],
   "metadata": {
    "collapsed": false,
    "ExecuteTime": {
     "end_time": "2023-11-20T00:52:04.478755706Z",
     "start_time": "2023-11-20T00:52:01.269201402Z"
    }
   },
   "id": "d99da0461bbcd11b"
  },
  {
   "cell_type": "code",
   "execution_count": 50,
   "outputs": [
    {
     "data": {
      "text/plain": "tensor([[True, True, True, True, True]])"
     },
     "execution_count": 50,
     "metadata": {},
     "output_type": "execute_result"
    }
   ],
   "source": [
    "a.grad == d / a"
   ],
   "metadata": {
    "collapsed": false,
    "ExecuteTime": {
     "end_time": "2023-11-18T03:16:45.026312800Z",
     "start_time": "2023-11-18T03:16:45.020002900Z"
    }
   },
   "id": "5f1842ed5d80c98c"
  },
  {
   "cell_type": "markdown",
   "source": [
    "### 2.6 概率\n",
    "\n",
    "#### 2.6.1 基本概率论"
   ],
   "metadata": {
    "collapsed": false
   },
   "id": "d6e5da348be4151f"
  },
  {
   "cell_type": "code",
   "execution_count": 2,
   "outputs": [
    {
     "data": {
      "text/plain": "tensor([0., 1., 0., 0., 0., 0.])"
     },
     "execution_count": 2,
     "metadata": {},
     "output_type": "execute_result"
    }
   ],
   "source": [
    "%matplotlib inline\n",
    "import torch\n",
    "from torch.distributions import multinomial\n",
    "\n",
    "# 多项分布\n",
    "fair_probs = torch.ones([6]) / 6\n",
    "multinomial.Multinomial(1, fair_probs).sample()"
   ],
   "metadata": {
    "collapsed": false,
    "ExecuteTime": {
     "end_time": "2023-11-20T00:55:48.676341382Z",
     "start_time": "2023-11-20T00:55:48.660568508Z"
    }
   },
   "id": "bc22472cf0c4de58"
  },
  {
   "cell_type": "code",
   "execution_count": 4,
   "outputs": [
    {
     "data": {
      "text/plain": "tensor([1., 2., 1., 5., 0., 1.])"
     },
     "execution_count": 4,
     "metadata": {},
     "output_type": "execute_result"
    }
   ],
   "source": [
    "multinomial.Multinomial(10, fair_probs).sample()"
   ],
   "metadata": {
    "collapsed": false,
    "ExecuteTime": {
     "end_time": "2023-11-20T00:57:21.214326605Z",
     "start_time": "2023-11-20T00:57:21.170943264Z"
    }
   },
   "id": "44b504158cec309f"
  },
  {
   "cell_type": "code",
   "execution_count": 6,
   "outputs": [
    {
     "data": {
      "text/plain": "tensor([0.1510, 0.1700, 0.1760, 0.1730, 0.1690, 0.1610])"
     },
     "execution_count": 6,
     "metadata": {},
     "output_type": "execute_result"
    }
   ],
   "source": [
    "# 1000次掷骰子\n",
    "counts = multinomial.Multinomial(1000, fair_probs).sample()\n",
    "counts / 1000"
   ],
   "metadata": {
    "collapsed": false,
    "ExecuteTime": {
     "end_time": "2023-11-20T00:58:36.029197322Z",
     "start_time": "2023-11-20T00:58:35.993904567Z"
    }
   },
   "id": "bfa3fd0a6096cebe"
  },
  {
   "cell_type": "code",
   "execution_count": 7,
   "outputs": [
    {
     "data": {
      "text/plain": "<Figure size 600x450 with 1 Axes>",
      "image/svg+xml": "<?xml version=\"1.0\" encoding=\"utf-8\" standalone=\"no\"?>\n<!DOCTYPE svg PUBLIC \"-//W3C//DTD SVG 1.1//EN\"\n  \"http://www.w3.org/Graphics/SVG/1.1/DTD/svg11.dtd\">\n<svg xmlns:xlink=\"http://www.w3.org/1999/xlink\" width=\"392.14375pt\" height=\"298.035462pt\" viewBox=\"0 0 392.14375 298.035462\" xmlns=\"http://www.w3.org/2000/svg\" version=\"1.1\">\n <metadata>\n  <rdf:RDF xmlns:dc=\"http://purl.org/dc/elements/1.1/\" xmlns:cc=\"http://creativecommons.org/ns#\" xmlns:rdf=\"http://www.w3.org/1999/02/22-rdf-syntax-ns#\">\n   <cc:Work>\n    <dc:type rdf:resource=\"http://purl.org/dc/dcmitype/StillImage\"/>\n    <dc:date>2023-11-20T08:58:58.139387</dc:date>\n    <dc:format>image/svg+xml</dc:format>\n    <dc:creator>\n     <cc:Agent>\n      <dc:title>Matplotlib v3.7.2, https://matplotlib.org/</dc:title>\n     </cc:Agent>\n    </dc:creator>\n   </cc:Work>\n  </rdf:RDF>\n </metadata>\n <defs>\n  <style type=\"text/css\">*{stroke-linejoin: round; stroke-linecap: butt}</style>\n </defs>\n <g id=\"figure_1\">\n  <g id=\"patch_1\">\n   <path d=\"M 0 298.035462 \nL 392.14375 298.035462 \nL 392.14375 0 \nL 0 0 \nz\n\" style=\"fill: #ffffff\"/>\n  </g>\n  <g id=\"axes_1\">\n   <g id=\"patch_2\">\n    <path d=\"M 50.14375 260.479212 \nL 384.94375 260.479212 \nL 384.94375 10.999212 \nL 50.14375 10.999212 \nz\n\" style=\"fill: #ffffff\"/>\n   </g>\n   <g id=\"matplotlib.axis_1\">\n    <g id=\"xtick_1\">\n     <g id=\"line2d_1\">\n      <defs>\n       <path id=\"m95b3701182\" d=\"M 0 0 \nL 0 3.5 \n\" style=\"stroke: #000000; stroke-width: 0.8\"/>\n      </defs>\n      <g>\n       <use xlink:href=\"#m95b3701182\" x=\"65.361932\" y=\"260.479212\" style=\"stroke: #000000; stroke-width: 0.8\"/>\n      </g>\n     </g>\n     <g id=\"text_1\">\n      <!-- 0 -->\n      <g transform=\"translate(62.180682 275.077649) scale(0.1 -0.1)\">\n       <defs>\n        <path id=\"DejaVuSans-30\" d=\"M 2034 4250 \nQ 1547 4250 1301 3770 \nQ 1056 3291 1056 2328 \nQ 1056 1369 1301 889 \nQ 1547 409 2034 409 \nQ 2525 409 2770 889 \nQ 3016 1369 3016 2328 \nQ 3016 3291 2770 3770 \nQ 2525 4250 2034 4250 \nz\nM 2034 4750 \nQ 2819 4750 3233 4129 \nQ 3647 3509 3647 2328 \nQ 3647 1150 3233 529 \nQ 2819 -91 2034 -91 \nQ 1250 -91 836 529 \nQ 422 1150 422 2328 \nQ 422 3509 836 4129 \nQ 1250 4750 2034 4750 \nz\n\" transform=\"scale(0.015625)\"/>\n       </defs>\n       <use xlink:href=\"#DejaVuSans-30\"/>\n      </g>\n     </g>\n    </g>\n    <g id=\"xtick_2\">\n     <g id=\"line2d_2\">\n      <g>\n       <use xlink:href=\"#m95b3701182\" x=\"126.356649\" y=\"260.479212\" style=\"stroke: #000000; stroke-width: 0.8\"/>\n      </g>\n     </g>\n     <g id=\"text_2\">\n      <!-- 100 -->\n      <g transform=\"translate(116.812899 275.077649) scale(0.1 -0.1)\">\n       <defs>\n        <path id=\"DejaVuSans-31\" d=\"M 794 531 \nL 1825 531 \nL 1825 4091 \nL 703 3866 \nL 703 4441 \nL 1819 4666 \nL 2450 4666 \nL 2450 531 \nL 3481 531 \nL 3481 0 \nL 794 0 \nL 794 531 \nz\n\" transform=\"scale(0.015625)\"/>\n       </defs>\n       <use xlink:href=\"#DejaVuSans-31\"/>\n       <use xlink:href=\"#DejaVuSans-30\" x=\"63.623047\"/>\n       <use xlink:href=\"#DejaVuSans-30\" x=\"127.246094\"/>\n      </g>\n     </g>\n    </g>\n    <g id=\"xtick_3\">\n     <g id=\"line2d_3\">\n      <g>\n       <use xlink:href=\"#m95b3701182\" x=\"187.351365\" y=\"260.479212\" style=\"stroke: #000000; stroke-width: 0.8\"/>\n      </g>\n     </g>\n     <g id=\"text_3\">\n      <!-- 200 -->\n      <g transform=\"translate(177.807615 275.077649) scale(0.1 -0.1)\">\n       <defs>\n        <path id=\"DejaVuSans-32\" d=\"M 1228 531 \nL 3431 531 \nL 3431 0 \nL 469 0 \nL 469 531 \nQ 828 903 1448 1529 \nQ 2069 2156 2228 2338 \nQ 2531 2678 2651 2914 \nQ 2772 3150 2772 3378 \nQ 2772 3750 2511 3984 \nQ 2250 4219 1831 4219 \nQ 1534 4219 1204 4116 \nQ 875 4013 500 3803 \nL 500 4441 \nQ 881 4594 1212 4672 \nQ 1544 4750 1819 4750 \nQ 2544 4750 2975 4387 \nQ 3406 4025 3406 3419 \nQ 3406 3131 3298 2873 \nQ 3191 2616 2906 2266 \nQ 2828 2175 2409 1742 \nQ 1991 1309 1228 531 \nz\n\" transform=\"scale(0.015625)\"/>\n       </defs>\n       <use xlink:href=\"#DejaVuSans-32\"/>\n       <use xlink:href=\"#DejaVuSans-30\" x=\"63.623047\"/>\n       <use xlink:href=\"#DejaVuSans-30\" x=\"127.246094\"/>\n      </g>\n     </g>\n    </g>\n    <g id=\"xtick_4\">\n     <g id=\"line2d_4\">\n      <g>\n       <use xlink:href=\"#m95b3701182\" x=\"248.346082\" y=\"260.479212\" style=\"stroke: #000000; stroke-width: 0.8\"/>\n      </g>\n     </g>\n     <g id=\"text_4\">\n      <!-- 300 -->\n      <g transform=\"translate(238.802332 275.077649) scale(0.1 -0.1)\">\n       <defs>\n        <path id=\"DejaVuSans-33\" d=\"M 2597 2516 \nQ 3050 2419 3304 2112 \nQ 3559 1806 3559 1356 \nQ 3559 666 3084 287 \nQ 2609 -91 1734 -91 \nQ 1441 -91 1130 -33 \nQ 819 25 488 141 \nL 488 750 \nQ 750 597 1062 519 \nQ 1375 441 1716 441 \nQ 2309 441 2620 675 \nQ 2931 909 2931 1356 \nQ 2931 1769 2642 2001 \nQ 2353 2234 1838 2234 \nL 1294 2234 \nL 1294 2753 \nL 1863 2753 \nQ 2328 2753 2575 2939 \nQ 2822 3125 2822 3475 \nQ 2822 3834 2567 4026 \nQ 2313 4219 1838 4219 \nQ 1578 4219 1281 4162 \nQ 984 4106 628 3988 \nL 628 4550 \nQ 988 4650 1302 4700 \nQ 1616 4750 1894 4750 \nQ 2613 4750 3031 4423 \nQ 3450 4097 3450 3541 \nQ 3450 3153 3228 2886 \nQ 3006 2619 2597 2516 \nz\n\" transform=\"scale(0.015625)\"/>\n       </defs>\n       <use xlink:href=\"#DejaVuSans-33\"/>\n       <use xlink:href=\"#DejaVuSans-30\" x=\"63.623047\"/>\n       <use xlink:href=\"#DejaVuSans-30\" x=\"127.246094\"/>\n      </g>\n     </g>\n    </g>\n    <g id=\"xtick_5\">\n     <g id=\"line2d_5\">\n      <g>\n       <use xlink:href=\"#m95b3701182\" x=\"309.340799\" y=\"260.479212\" style=\"stroke: #000000; stroke-width: 0.8\"/>\n      </g>\n     </g>\n     <g id=\"text_5\">\n      <!-- 400 -->\n      <g transform=\"translate(299.797049 275.077649) scale(0.1 -0.1)\">\n       <defs>\n        <path id=\"DejaVuSans-34\" d=\"M 2419 4116 \nL 825 1625 \nL 2419 1625 \nL 2419 4116 \nz\nM 2253 4666 \nL 3047 4666 \nL 3047 1625 \nL 3713 1625 \nL 3713 1100 \nL 3047 1100 \nL 3047 0 \nL 2419 0 \nL 2419 1100 \nL 313 1100 \nL 313 1709 \nL 2253 4666 \nz\n\" transform=\"scale(0.015625)\"/>\n       </defs>\n       <use xlink:href=\"#DejaVuSans-34\"/>\n       <use xlink:href=\"#DejaVuSans-30\" x=\"63.623047\"/>\n       <use xlink:href=\"#DejaVuSans-30\" x=\"127.246094\"/>\n      </g>\n     </g>\n    </g>\n    <g id=\"xtick_6\">\n     <g id=\"line2d_6\">\n      <g>\n       <use xlink:href=\"#m95b3701182\" x=\"370.335515\" y=\"260.479212\" style=\"stroke: #000000; stroke-width: 0.8\"/>\n      </g>\n     </g>\n     <g id=\"text_6\">\n      <!-- 500 -->\n      <g transform=\"translate(360.791765 275.077649) scale(0.1 -0.1)\">\n       <defs>\n        <path id=\"DejaVuSans-35\" d=\"M 691 4666 \nL 3169 4666 \nL 3169 4134 \nL 1269 4134 \nL 1269 2991 \nQ 1406 3038 1543 3061 \nQ 1681 3084 1819 3084 \nQ 2600 3084 3056 2656 \nQ 3513 2228 3513 1497 \nQ 3513 744 3044 326 \nQ 2575 -91 1722 -91 \nQ 1428 -91 1123 -41 \nQ 819 9 494 109 \nL 494 744 \nQ 775 591 1075 516 \nQ 1375 441 1709 441 \nQ 2250 441 2565 725 \nQ 2881 1009 2881 1497 \nQ 2881 1984 2565 2268 \nQ 2250 2553 1709 2553 \nQ 1456 2553 1204 2497 \nQ 953 2441 691 2322 \nL 691 4666 \nz\n\" transform=\"scale(0.015625)\"/>\n       </defs>\n       <use xlink:href=\"#DejaVuSans-35\"/>\n       <use xlink:href=\"#DejaVuSans-30\" x=\"63.623047\"/>\n       <use xlink:href=\"#DejaVuSans-30\" x=\"127.246094\"/>\n      </g>\n     </g>\n    </g>\n    <g id=\"text_7\">\n     <!-- Groups of experiments -->\n     <g transform=\"translate(160.397656 288.755774) scale(0.1 -0.1)\">\n      <defs>\n       <path id=\"DejaVuSans-47\" d=\"M 3809 666 \nL 3809 1919 \nL 2778 1919 \nL 2778 2438 \nL 4434 2438 \nL 4434 434 \nQ 4069 175 3628 42 \nQ 3188 -91 2688 -91 \nQ 1594 -91 976 548 \nQ 359 1188 359 2328 \nQ 359 3472 976 4111 \nQ 1594 4750 2688 4750 \nQ 3144 4750 3555 4637 \nQ 3966 4525 4313 4306 \nL 4313 3634 \nQ 3963 3931 3569 4081 \nQ 3175 4231 2741 4231 \nQ 1884 4231 1454 3753 \nQ 1025 3275 1025 2328 \nQ 1025 1384 1454 906 \nQ 1884 428 2741 428 \nQ 3075 428 3337 486 \nQ 3600 544 3809 666 \nz\n\" transform=\"scale(0.015625)\"/>\n       <path id=\"DejaVuSans-72\" d=\"M 2631 2963 \nQ 2534 3019 2420 3045 \nQ 2306 3072 2169 3072 \nQ 1681 3072 1420 2755 \nQ 1159 2438 1159 1844 \nL 1159 0 \nL 581 0 \nL 581 3500 \nL 1159 3500 \nL 1159 2956 \nQ 1341 3275 1631 3429 \nQ 1922 3584 2338 3584 \nQ 2397 3584 2469 3576 \nQ 2541 3569 2628 3553 \nL 2631 2963 \nz\n\" transform=\"scale(0.015625)\"/>\n       <path id=\"DejaVuSans-6f\" d=\"M 1959 3097 \nQ 1497 3097 1228 2736 \nQ 959 2375 959 1747 \nQ 959 1119 1226 758 \nQ 1494 397 1959 397 \nQ 2419 397 2687 759 \nQ 2956 1122 2956 1747 \nQ 2956 2369 2687 2733 \nQ 2419 3097 1959 3097 \nz\nM 1959 3584 \nQ 2709 3584 3137 3096 \nQ 3566 2609 3566 1747 \nQ 3566 888 3137 398 \nQ 2709 -91 1959 -91 \nQ 1206 -91 779 398 \nQ 353 888 353 1747 \nQ 353 2609 779 3096 \nQ 1206 3584 1959 3584 \nz\n\" transform=\"scale(0.015625)\"/>\n       <path id=\"DejaVuSans-75\" d=\"M 544 1381 \nL 544 3500 \nL 1119 3500 \nL 1119 1403 \nQ 1119 906 1312 657 \nQ 1506 409 1894 409 \nQ 2359 409 2629 706 \nQ 2900 1003 2900 1516 \nL 2900 3500 \nL 3475 3500 \nL 3475 0 \nL 2900 0 \nL 2900 538 \nQ 2691 219 2414 64 \nQ 2138 -91 1772 -91 \nQ 1169 -91 856 284 \nQ 544 659 544 1381 \nz\nM 1991 3584 \nL 1991 3584 \nz\n\" transform=\"scale(0.015625)\"/>\n       <path id=\"DejaVuSans-70\" d=\"M 1159 525 \nL 1159 -1331 \nL 581 -1331 \nL 581 3500 \nL 1159 3500 \nL 1159 2969 \nQ 1341 3281 1617 3432 \nQ 1894 3584 2278 3584 \nQ 2916 3584 3314 3078 \nQ 3713 2572 3713 1747 \nQ 3713 922 3314 415 \nQ 2916 -91 2278 -91 \nQ 1894 -91 1617 61 \nQ 1341 213 1159 525 \nz\nM 3116 1747 \nQ 3116 2381 2855 2742 \nQ 2594 3103 2138 3103 \nQ 1681 3103 1420 2742 \nQ 1159 2381 1159 1747 \nQ 1159 1113 1420 752 \nQ 1681 391 2138 391 \nQ 2594 391 2855 752 \nQ 3116 1113 3116 1747 \nz\n\" transform=\"scale(0.015625)\"/>\n       <path id=\"DejaVuSans-73\" d=\"M 2834 3397 \nL 2834 2853 \nQ 2591 2978 2328 3040 \nQ 2066 3103 1784 3103 \nQ 1356 3103 1142 2972 \nQ 928 2841 928 2578 \nQ 928 2378 1081 2264 \nQ 1234 2150 1697 2047 \nL 1894 2003 \nQ 2506 1872 2764 1633 \nQ 3022 1394 3022 966 \nQ 3022 478 2636 193 \nQ 2250 -91 1575 -91 \nQ 1294 -91 989 -36 \nQ 684 19 347 128 \nL 347 722 \nQ 666 556 975 473 \nQ 1284 391 1588 391 \nQ 1994 391 2212 530 \nQ 2431 669 2431 922 \nQ 2431 1156 2273 1281 \nQ 2116 1406 1581 1522 \nL 1381 1569 \nQ 847 1681 609 1914 \nQ 372 2147 372 2553 \nQ 372 3047 722 3315 \nQ 1072 3584 1716 3584 \nQ 2034 3584 2315 3537 \nQ 2597 3491 2834 3397 \nz\n\" transform=\"scale(0.015625)\"/>\n       <path id=\"DejaVuSans-20\" transform=\"scale(0.015625)\"/>\n       <path id=\"DejaVuSans-66\" d=\"M 2375 4863 \nL 2375 4384 \nL 1825 4384 \nQ 1516 4384 1395 4259 \nQ 1275 4134 1275 3809 \nL 1275 3500 \nL 2222 3500 \nL 2222 3053 \nL 1275 3053 \nL 1275 0 \nL 697 0 \nL 697 3053 \nL 147 3053 \nL 147 3500 \nL 697 3500 \nL 697 3744 \nQ 697 4328 969 4595 \nQ 1241 4863 1831 4863 \nL 2375 4863 \nz\n\" transform=\"scale(0.015625)\"/>\n       <path id=\"DejaVuSans-65\" d=\"M 3597 1894 \nL 3597 1613 \nL 953 1613 \nQ 991 1019 1311 708 \nQ 1631 397 2203 397 \nQ 2534 397 2845 478 \nQ 3156 559 3463 722 \nL 3463 178 \nQ 3153 47 2828 -22 \nQ 2503 -91 2169 -91 \nQ 1331 -91 842 396 \nQ 353 884 353 1716 \nQ 353 2575 817 3079 \nQ 1281 3584 2069 3584 \nQ 2775 3584 3186 3129 \nQ 3597 2675 3597 1894 \nz\nM 3022 2063 \nQ 3016 2534 2758 2815 \nQ 2500 3097 2075 3097 \nQ 1594 3097 1305 2825 \nQ 1016 2553 972 2059 \nL 3022 2063 \nz\n\" transform=\"scale(0.015625)\"/>\n       <path id=\"DejaVuSans-78\" d=\"M 3513 3500 \nL 2247 1797 \nL 3578 0 \nL 2900 0 \nL 1881 1375 \nL 863 0 \nL 184 0 \nL 1544 1831 \nL 300 3500 \nL 978 3500 \nL 1906 2253 \nL 2834 3500 \nL 3513 3500 \nz\n\" transform=\"scale(0.015625)\"/>\n       <path id=\"DejaVuSans-69\" d=\"M 603 3500 \nL 1178 3500 \nL 1178 0 \nL 603 0 \nL 603 3500 \nz\nM 603 4863 \nL 1178 4863 \nL 1178 4134 \nL 603 4134 \nL 603 4863 \nz\n\" transform=\"scale(0.015625)\"/>\n       <path id=\"DejaVuSans-6d\" d=\"M 3328 2828 \nQ 3544 3216 3844 3400 \nQ 4144 3584 4550 3584 \nQ 5097 3584 5394 3201 \nQ 5691 2819 5691 2113 \nL 5691 0 \nL 5113 0 \nL 5113 2094 \nQ 5113 2597 4934 2840 \nQ 4756 3084 4391 3084 \nQ 3944 3084 3684 2787 \nQ 3425 2491 3425 1978 \nL 3425 0 \nL 2847 0 \nL 2847 2094 \nQ 2847 2600 2669 2842 \nQ 2491 3084 2119 3084 \nQ 1678 3084 1418 2786 \nQ 1159 2488 1159 1978 \nL 1159 0 \nL 581 0 \nL 581 3500 \nL 1159 3500 \nL 1159 2956 \nQ 1356 3278 1631 3431 \nQ 1906 3584 2284 3584 \nQ 2666 3584 2933 3390 \nQ 3200 3197 3328 2828 \nz\n\" transform=\"scale(0.015625)\"/>\n       <path id=\"DejaVuSans-6e\" d=\"M 3513 2113 \nL 3513 0 \nL 2938 0 \nL 2938 2094 \nQ 2938 2591 2744 2837 \nQ 2550 3084 2163 3084 \nQ 1697 3084 1428 2787 \nQ 1159 2491 1159 1978 \nL 1159 0 \nL 581 0 \nL 581 3500 \nL 1159 3500 \nL 1159 2956 \nQ 1366 3272 1645 3428 \nQ 1925 3584 2291 3584 \nQ 2894 3584 3203 3211 \nQ 3513 2838 3513 2113 \nz\n\" transform=\"scale(0.015625)\"/>\n       <path id=\"DejaVuSans-74\" d=\"M 1172 4494 \nL 1172 3500 \nL 2356 3500 \nL 2356 3053 \nL 1172 3053 \nL 1172 1153 \nQ 1172 725 1289 603 \nQ 1406 481 1766 481 \nL 2356 481 \nL 2356 0 \nL 1766 0 \nQ 1100 0 847 248 \nQ 594 497 594 1153 \nL 594 3053 \nL 172 3053 \nL 172 3500 \nL 594 3500 \nL 594 4494 \nL 1172 4494 \nz\n\" transform=\"scale(0.015625)\"/>\n      </defs>\n      <use xlink:href=\"#DejaVuSans-47\"/>\n      <use xlink:href=\"#DejaVuSans-72\" x=\"77.490234\"/>\n      <use xlink:href=\"#DejaVuSans-6f\" x=\"116.353516\"/>\n      <use xlink:href=\"#DejaVuSans-75\" x=\"177.535156\"/>\n      <use xlink:href=\"#DejaVuSans-70\" x=\"240.914062\"/>\n      <use xlink:href=\"#DejaVuSans-73\" x=\"304.390625\"/>\n      <use xlink:href=\"#DejaVuSans-20\" x=\"356.490234\"/>\n      <use xlink:href=\"#DejaVuSans-6f\" x=\"388.277344\"/>\n      <use xlink:href=\"#DejaVuSans-66\" x=\"449.458984\"/>\n      <use xlink:href=\"#DejaVuSans-20\" x=\"484.664062\"/>\n      <use xlink:href=\"#DejaVuSans-65\" x=\"516.451172\"/>\n      <use xlink:href=\"#DejaVuSans-78\" x=\"576.224609\"/>\n      <use xlink:href=\"#DejaVuSans-70\" x=\"635.404297\"/>\n      <use xlink:href=\"#DejaVuSans-65\" x=\"698.880859\"/>\n      <use xlink:href=\"#DejaVuSans-72\" x=\"760.404297\"/>\n      <use xlink:href=\"#DejaVuSans-69\" x=\"801.517578\"/>\n      <use xlink:href=\"#DejaVuSans-6d\" x=\"829.300781\"/>\n      <use xlink:href=\"#DejaVuSans-65\" x=\"926.712891\"/>\n      <use xlink:href=\"#DejaVuSans-6e\" x=\"988.236328\"/>\n      <use xlink:href=\"#DejaVuSans-74\" x=\"1051.615234\"/>\n      <use xlink:href=\"#DejaVuSans-73\" x=\"1090.824219\"/>\n     </g>\n    </g>\n   </g>\n   <g id=\"matplotlib.axis_2\">\n    <g id=\"ytick_1\">\n     <g id=\"line2d_7\">\n      <defs>\n       <path id=\"m64c0279e5b\" d=\"M 0 0 \nL -3.5 0 \n\" style=\"stroke: #000000; stroke-width: 0.8\"/>\n      </defs>\n      <g>\n       <use xlink:href=\"#m64c0279e5b\" x=\"50.14375\" y=\"249.139212\" style=\"stroke: #000000; stroke-width: 0.8\"/>\n      </g>\n     </g>\n     <g id=\"text_8\">\n      <!-- 0.00 -->\n      <g transform=\"translate(20.878125 252.93843) scale(0.1 -0.1)\">\n       <defs>\n        <path id=\"DejaVuSans-2e\" d=\"M 684 794 \nL 1344 794 \nL 1344 0 \nL 684 0 \nL 684 794 \nz\n\" transform=\"scale(0.015625)\"/>\n       </defs>\n       <use xlink:href=\"#DejaVuSans-30\"/>\n       <use xlink:href=\"#DejaVuSans-2e\" x=\"63.623047\"/>\n       <use xlink:href=\"#DejaVuSans-30\" x=\"95.410156\"/>\n       <use xlink:href=\"#DejaVuSans-30\" x=\"159.033203\"/>\n      </g>\n     </g>\n    </g>\n    <g id=\"ytick_2\">\n     <g id=\"line2d_8\">\n      <g>\n       <use xlink:href=\"#m64c0279e5b\" x=\"50.14375\" y=\"215.119213\" style=\"stroke: #000000; stroke-width: 0.8\"/>\n      </g>\n     </g>\n     <g id=\"text_9\">\n      <!-- 0.05 -->\n      <g transform=\"translate(20.878125 218.918431) scale(0.1 -0.1)\">\n       <use xlink:href=\"#DejaVuSans-30\"/>\n       <use xlink:href=\"#DejaVuSans-2e\" x=\"63.623047\"/>\n       <use xlink:href=\"#DejaVuSans-30\" x=\"95.410156\"/>\n       <use xlink:href=\"#DejaVuSans-35\" x=\"159.033203\"/>\n      </g>\n     </g>\n    </g>\n    <g id=\"ytick_3\">\n     <g id=\"line2d_9\">\n      <g>\n       <use xlink:href=\"#m64c0279e5b\" x=\"50.14375\" y=\"181.099214\" style=\"stroke: #000000; stroke-width: 0.8\"/>\n      </g>\n     </g>\n     <g id=\"text_10\">\n      <!-- 0.10 -->\n      <g transform=\"translate(20.878125 184.898432) scale(0.1 -0.1)\">\n       <use xlink:href=\"#DejaVuSans-30\"/>\n       <use xlink:href=\"#DejaVuSans-2e\" x=\"63.623047\"/>\n       <use xlink:href=\"#DejaVuSans-31\" x=\"95.410156\"/>\n       <use xlink:href=\"#DejaVuSans-30\" x=\"159.033203\"/>\n      </g>\n     </g>\n    </g>\n    <g id=\"ytick_4\">\n     <g id=\"line2d_10\">\n      <g>\n       <use xlink:href=\"#m64c0279e5b\" x=\"50.14375\" y=\"147.079215\" style=\"stroke: #000000; stroke-width: 0.8\"/>\n      </g>\n     </g>\n     <g id=\"text_11\">\n      <!-- 0.15 -->\n      <g transform=\"translate(20.878125 150.878433) scale(0.1 -0.1)\">\n       <use xlink:href=\"#DejaVuSans-30\"/>\n       <use xlink:href=\"#DejaVuSans-2e\" x=\"63.623047\"/>\n       <use xlink:href=\"#DejaVuSans-31\" x=\"95.410156\"/>\n       <use xlink:href=\"#DejaVuSans-35\" x=\"159.033203\"/>\n      </g>\n     </g>\n    </g>\n    <g id=\"ytick_5\">\n     <g id=\"line2d_11\">\n      <g>\n       <use xlink:href=\"#m64c0279e5b\" x=\"50.14375\" y=\"113.059216\" style=\"stroke: #000000; stroke-width: 0.8\"/>\n      </g>\n     </g>\n     <g id=\"text_12\">\n      <!-- 0.20 -->\n      <g transform=\"translate(20.878125 116.858434) scale(0.1 -0.1)\">\n       <use xlink:href=\"#DejaVuSans-30\"/>\n       <use xlink:href=\"#DejaVuSans-2e\" x=\"63.623047\"/>\n       <use xlink:href=\"#DejaVuSans-32\" x=\"95.410156\"/>\n       <use xlink:href=\"#DejaVuSans-30\" x=\"159.033203\"/>\n      </g>\n     </g>\n    </g>\n    <g id=\"ytick_6\">\n     <g id=\"line2d_12\">\n      <g>\n       <use xlink:href=\"#m64c0279e5b\" x=\"50.14375\" y=\"79.039217\" style=\"stroke: #000000; stroke-width: 0.8\"/>\n      </g>\n     </g>\n     <g id=\"text_13\">\n      <!-- 0.25 -->\n      <g transform=\"translate(20.878125 82.838435) scale(0.1 -0.1)\">\n       <use xlink:href=\"#DejaVuSans-30\"/>\n       <use xlink:href=\"#DejaVuSans-2e\" x=\"63.623047\"/>\n       <use xlink:href=\"#DejaVuSans-32\" x=\"95.410156\"/>\n       <use xlink:href=\"#DejaVuSans-35\" x=\"159.033203\"/>\n      </g>\n     </g>\n    </g>\n    <g id=\"ytick_7\">\n     <g id=\"line2d_13\">\n      <g>\n       <use xlink:href=\"#m64c0279e5b\" x=\"50.14375\" y=\"45.019218\" style=\"stroke: #000000; stroke-width: 0.8\"/>\n      </g>\n     </g>\n     <g id=\"text_14\">\n      <!-- 0.30 -->\n      <g transform=\"translate(20.878125 48.818436) scale(0.1 -0.1)\">\n       <use xlink:href=\"#DejaVuSans-30\"/>\n       <use xlink:href=\"#DejaVuSans-2e\" x=\"63.623047\"/>\n       <use xlink:href=\"#DejaVuSans-33\" x=\"95.410156\"/>\n       <use xlink:href=\"#DejaVuSans-30\" x=\"159.033203\"/>\n      </g>\n     </g>\n    </g>\n    <g id=\"ytick_8\">\n     <g id=\"line2d_14\">\n      <g>\n       <use xlink:href=\"#m64c0279e5b\" x=\"50.14375\" y=\"10.999219\" style=\"stroke: #000000; stroke-width: 0.8\"/>\n      </g>\n     </g>\n     <g id=\"text_15\">\n      <!-- 0.35 -->\n      <g transform=\"translate(20.878125 14.798438) scale(0.1 -0.1)\">\n       <use xlink:href=\"#DejaVuSans-30\"/>\n       <use xlink:href=\"#DejaVuSans-2e\" x=\"63.623047\"/>\n       <use xlink:href=\"#DejaVuSans-33\" x=\"95.410156\"/>\n       <use xlink:href=\"#DejaVuSans-35\" x=\"159.033203\"/>\n      </g>\n     </g>\n    </g>\n    <g id=\"text_16\">\n     <!-- Estimated probability -->\n     <g transform=\"translate(14.798438 189.262649) rotate(-90) scale(0.1 -0.1)\">\n      <defs>\n       <path id=\"DejaVuSans-45\" d=\"M 628 4666 \nL 3578 4666 \nL 3578 4134 \nL 1259 4134 \nL 1259 2753 \nL 3481 2753 \nL 3481 2222 \nL 1259 2222 \nL 1259 531 \nL 3634 531 \nL 3634 0 \nL 628 0 \nL 628 4666 \nz\n\" transform=\"scale(0.015625)\"/>\n       <path id=\"DejaVuSans-61\" d=\"M 2194 1759 \nQ 1497 1759 1228 1600 \nQ 959 1441 959 1056 \nQ 959 750 1161 570 \nQ 1363 391 1709 391 \nQ 2188 391 2477 730 \nQ 2766 1069 2766 1631 \nL 2766 1759 \nL 2194 1759 \nz\nM 3341 1997 \nL 3341 0 \nL 2766 0 \nL 2766 531 \nQ 2569 213 2275 61 \nQ 1981 -91 1556 -91 \nQ 1019 -91 701 211 \nQ 384 513 384 1019 \nQ 384 1609 779 1909 \nQ 1175 2209 1959 2209 \nL 2766 2209 \nL 2766 2266 \nQ 2766 2663 2505 2880 \nQ 2244 3097 1772 3097 \nQ 1472 3097 1187 3025 \nQ 903 2953 641 2809 \nL 641 3341 \nQ 956 3463 1253 3523 \nQ 1550 3584 1831 3584 \nQ 2591 3584 2966 3190 \nQ 3341 2797 3341 1997 \nz\n\" transform=\"scale(0.015625)\"/>\n       <path id=\"DejaVuSans-64\" d=\"M 2906 2969 \nL 2906 4863 \nL 3481 4863 \nL 3481 0 \nL 2906 0 \nL 2906 525 \nQ 2725 213 2448 61 \nQ 2172 -91 1784 -91 \nQ 1150 -91 751 415 \nQ 353 922 353 1747 \nQ 353 2572 751 3078 \nQ 1150 3584 1784 3584 \nQ 2172 3584 2448 3432 \nQ 2725 3281 2906 2969 \nz\nM 947 1747 \nQ 947 1113 1208 752 \nQ 1469 391 1925 391 \nQ 2381 391 2643 752 \nQ 2906 1113 2906 1747 \nQ 2906 2381 2643 2742 \nQ 2381 3103 1925 3103 \nQ 1469 3103 1208 2742 \nQ 947 2381 947 1747 \nz\n\" transform=\"scale(0.015625)\"/>\n       <path id=\"DejaVuSans-62\" d=\"M 3116 1747 \nQ 3116 2381 2855 2742 \nQ 2594 3103 2138 3103 \nQ 1681 3103 1420 2742 \nQ 1159 2381 1159 1747 \nQ 1159 1113 1420 752 \nQ 1681 391 2138 391 \nQ 2594 391 2855 752 \nQ 3116 1113 3116 1747 \nz\nM 1159 2969 \nQ 1341 3281 1617 3432 \nQ 1894 3584 2278 3584 \nQ 2916 3584 3314 3078 \nQ 3713 2572 3713 1747 \nQ 3713 922 3314 415 \nQ 2916 -91 2278 -91 \nQ 1894 -91 1617 61 \nQ 1341 213 1159 525 \nL 1159 0 \nL 581 0 \nL 581 4863 \nL 1159 4863 \nL 1159 2969 \nz\n\" transform=\"scale(0.015625)\"/>\n       <path id=\"DejaVuSans-6c\" d=\"M 603 4863 \nL 1178 4863 \nL 1178 0 \nL 603 0 \nL 603 4863 \nz\n\" transform=\"scale(0.015625)\"/>\n       <path id=\"DejaVuSans-79\" d=\"M 2059 -325 \nQ 1816 -950 1584 -1140 \nQ 1353 -1331 966 -1331 \nL 506 -1331 \nL 506 -850 \nL 844 -850 \nQ 1081 -850 1212 -737 \nQ 1344 -625 1503 -206 \nL 1606 56 \nL 191 3500 \nL 800 3500 \nL 1894 763 \nL 2988 3500 \nL 3597 3500 \nL 2059 -325 \nz\n\" transform=\"scale(0.015625)\"/>\n      </defs>\n      <use xlink:href=\"#DejaVuSans-45\"/>\n      <use xlink:href=\"#DejaVuSans-73\" x=\"63.183594\"/>\n      <use xlink:href=\"#DejaVuSans-74\" x=\"115.283203\"/>\n      <use xlink:href=\"#DejaVuSans-69\" x=\"154.492188\"/>\n      <use xlink:href=\"#DejaVuSans-6d\" x=\"182.275391\"/>\n      <use xlink:href=\"#DejaVuSans-61\" x=\"279.6875\"/>\n      <use xlink:href=\"#DejaVuSans-74\" x=\"340.966797\"/>\n      <use xlink:href=\"#DejaVuSans-65\" x=\"380.175781\"/>\n      <use xlink:href=\"#DejaVuSans-64\" x=\"441.699219\"/>\n      <use xlink:href=\"#DejaVuSans-20\" x=\"505.175781\"/>\n      <use xlink:href=\"#DejaVuSans-70\" x=\"536.962891\"/>\n      <use xlink:href=\"#DejaVuSans-72\" x=\"600.439453\"/>\n      <use xlink:href=\"#DejaVuSans-6f\" x=\"639.302734\"/>\n      <use xlink:href=\"#DejaVuSans-62\" x=\"700.484375\"/>\n      <use xlink:href=\"#DejaVuSans-61\" x=\"763.960938\"/>\n      <use xlink:href=\"#DejaVuSans-62\" x=\"825.240234\"/>\n      <use xlink:href=\"#DejaVuSans-69\" x=\"888.716797\"/>\n      <use xlink:href=\"#DejaVuSans-6c\" x=\"916.5\"/>\n      <use xlink:href=\"#DejaVuSans-69\" x=\"944.283203\"/>\n      <use xlink:href=\"#DejaVuSans-74\" x=\"972.066406\"/>\n      <use xlink:href=\"#DejaVuSans-79\" x=\"1011.275391\"/>\n     </g>\n    </g>\n   </g>\n   <g id=\"line2d_15\">\n    <path d=\"M 65.361932 45.01921 \nL 65.971879 113.059214 \nL 66.581826 90.379216 \nL 67.191773 79.039217 \nL 67.80172 85.84322 \nL 68.411668 90.379216 \nL 69.021615 103.339215 \nL 69.631562 96.04922 \nL 70.241509 90.379216 \nL 70.851456 79.039217 \nL 71.461403 82.131941 \nL 72.071351 90.379216 \nL 73.291245 113.059214 \nL 73.901192 122.131215 \nL 74.511139 117.31172 \nL 75.121086 109.056861 \nL 75.731034 109.279214 \nL 76.340981 116.640271 \nL 76.950928 119.863217 \nL 77.560875 126.019213 \nL 78.170822 125.430121 \nL 78.780769 127.850524 \nL 79.390717 127.23422 \nL 80.000664 123.945615 \nL 80.610611 123.526905 \nL 81.830505 127.639212 \nL 82.440452 129.48266 \nL 83.0504 133.471214 \nL 83.660347 132.812763 \nL 84.270294 136.447961 \nL 85.490188 135.072153 \nL 86.100135 136.38722 \nL 86.710083 133.849217 \nL 87.32003 136.965159 \nL 87.929977 136.33606 \nL 88.539924 137.483827 \nL 89.149871 131.770216 \nL 89.759819 134.632871 \nL 90.369766 135.739212 \nL 90.979713 135.211774 \nL 91.58966 137.801038 \nL 92.199607 135.739212 \nL 92.809554 138.204428 \nL 93.419502 136.221765 \nL 94.029449 137.15671 \nL 94.639396 135.276357 \nL 95.249343 134.832017 \nL 95.85929 131.736859 \nL 96.469237 132.68614 \nL 97.079185 129.748275 \nL 98.299079 126.66721 \nL 98.909026 127.639212 \nL 99.518973 129.770793 \nL 100.12892 129.48266 \nL 100.738868 128.051079 \nL 101.348815 130.069217 \nL 101.958762 127.559542 \nL 102.568709 127.325672 \nL 105.008498 130.584671 \nL 105.618445 130.323092 \nL 106.228392 129.068624 \nL 106.838339 129.822694 \nL 107.448286 127.639212 \nL 108.058234 128.392177 \nL 108.668181 128.179212 \nL 109.278128 129.836198 \nL 110.498022 131.203216 \nL 111.107969 132.755002 \nL 111.717917 131.615579 \nL 112.327864 133.122289 \nL 112.937811 131.1458 \nL 113.547758 130.069217 \nL 114.157705 129.859213 \nL 114.767652 130.484095 \nL 115.3776 131.913669 \nL 115.987547 132.499212 \nL 116.597494 133.871451 \nL 117.207441 133.629449 \nL 117.817388 132.610941 \nL 118.427335 133.935123 \nL 119.037283 133.700563 \nL 119.64723 134.22722 \nL 120.257177 132.499212 \nL 120.867124 133.027471 \nL 121.477071 131.349539 \nL 122.696966 133.829325 \nL 123.91686 134.803953 \nL 124.526807 134.582076 \nL 125.746701 135.512418 \nL 126.356649 135.290106 \nL 126.966596 133.070977 \nL 128.18649 132.68614 \nL 128.796437 133.14722 \nL 129.406384 132.957706 \nL 130.016332 134.043516 \nL 130.626279 134.479219 \nL 131.846173 136.563938 \nL 133.066067 136.144214 \nL 133.676015 137.144169 \nL 134.285962 137.529745 \nL 134.895909 137.316953 \nL 135.505856 137.694388 \nL 136.115803 138.646904 \nL 137.335698 137.073329 \nL 137.945645 137.44021 \nL 138.555592 136.676407 \nL 139.165539 137.598233 \nL 139.775486 137.951903 \nL 141.605328 137.359212 \nL 142.215275 136.632131 \nL 142.825222 137.51109 \nL 143.435169 137.321536 \nL 144.045116 136.611519 \nL 144.655064 135.392953 \nL 145.265011 135.223758 \nL 145.874958 135.568688 \nL 146.484905 135.400709 \nL 147.094852 136.243219 \nL 147.704799 136.072746 \nL 148.314747 136.89805 \nL 149.534641 135.576049 \nL 150.144588 136.38722 \nL 150.754535 136.221765 \nL 151.364482 135.579496 \nL 151.97443 135.422011 \nL 152.584377 134.794219 \nL 153.194324 134.644318 \nL 153.804271 133.564419 \nL 154.414218 133.887785 \nL 155.024165 133.747049 \nL 156.24406 132.564019 \nL 157.463954 132.307377 \nL 158.073901 133.070977 \nL 158.683848 133.382855 \nL 159.293796 133.25173 \nL 160.51369 132.127748 \nL 161.123637 132.4377 \nL 161.733584 132.315822 \nL 162.343531 132.620715 \nL 162.953479 132.499212 \nL 163.563426 133.219215 \nL 164.78332 133.803116 \nL 165.393267 133.265032 \nL 166.003214 133.553196 \nL 166.613162 134.245328 \nL 167.223109 134.119212 \nL 167.833056 134.397206 \nL 169.662897 134.025033 \nL 170.272845 134.690429 \nL 170.882792 134.175076 \nL 171.492739 134.054415 \nL 173.932528 135.105692 \nL 175.152422 134.110269 \nL 176.372316 133.880201 \nL 176.982263 134.136823 \nL 178.812105 135.981781 \nL 180.031999 135.739212 \nL 181.251894 136.926652 \nL 181.861841 137.15671 \nL 182.471788 137.031862 \nL 183.081735 137.25901 \nL 183.691682 136.785987 \nL 184.911577 136.5451 \nL 185.521524 136.082854 \nL 186.131471 135.283333 \nL 187.351365 135.739212 \nL 187.961312 135.290106 \nL 188.57126 135.515764 \nL 189.181207 136.072746 \nL 189.791154 135.628578 \nL 191.620995 135.303063 \nL 192.230943 134.545526 \nL 192.84089 134.76722 \nL 193.450837 134.664332 \nL 194.060784 133.599591 \nL 195.890626 133.312978 \nL 196.500573 132.904214 \nL 197.720467 133.346375 \nL 198.330414 133.253738 \nL 198.940361 132.543397 \nL 200.160256 133.593812 \nL 200.770203 133.501721 \nL 201.38015 133.714219 \nL 201.990097 134.22722 \nL 202.600044 133.832488 \nL 203.209992 133.740976 \nL 204.429886 134.154586 \nL 205.039833 134.062871 \nL 205.64978 134.561038 \nL 206.869675 134.960505 \nL 207.479622 134.285366 \nL 208.089569 134.19505 \nL 209.309463 133.442511 \nL 209.91941 133.642741 \nL 210.529358 133.556623 \nL 211.139305 132.620715 \nL 211.749252 132.821868 \nL 212.359199 132.459052 \nL 212.969146 132.37922 \nL 213.579093 132.02118 \nL 214.189041 132.499212 \nL 214.798988 132.143605 \nL 215.408935 131.515408 \nL 216.018882 131.44099 \nL 216.628829 131.640419 \nL 217.238776 131.566092 \nL 218.458671 131.959212 \nL 219.068618 131.346649 \nL 219.678565 131.274644 \nL 220.898459 132.195465 \nL 221.508407 132.385749 \nL 222.118354 132.838282 \nL 222.728301 132.499212 \nL 223.338248 132.424449 \nL 223.948195 132.610941 \nL 224.558142 132.276616 \nL 225.16809 132.462256 \nL 225.778037 131.873306 \nL 226.387984 132.059069 \nL 226.997931 131.731851 \nL 227.607878 131.916741 \nL 228.827773 131.776542 \nL 229.43772 131.959212 \nL 230.047667 131.889478 \nL 231.267561 132.249981 \nL 231.877508 132.676589 \nL 232.487456 132.605253 \nL 233.70735 132.955385 \nL 234.317297 132.883815 \nL 234.927244 133.05663 \nL 235.537191 132.742217 \nL 238.586927 133.590588 \nL 239.196874 133.518795 \nL 239.806822 133.921658 \nL 240.416769 134.08547 \nL 241.026716 133.777272 \nL 242.24661 133.634884 \nL 242.856557 134.030447 \nL 244.076452 134.350639 \nL 244.686399 134.047825 \nL 245.906293 134.822851 \nL 246.51624 134.978136 \nL 247.126188 135.359951 \nL 248.956029 135.13842 \nL 250.175923 135.440798 \nL 251.395818 135.294506 \nL 252.005765 135.443708 \nL 252.615712 135.812849 \nL 253.225659 135.739212 \nL 253.835606 135.885534 \nL 255.665448 135.66675 \nL 256.275395 135.161384 \nL 257.495289 135.02149 \nL 258.105237 135.381486 \nL 258.715184 135.311296 \nL 259.325131 135.668119 \nL 259.935078 135.384842 \nL 260.545025 135.739212 \nL 261.76492 136.020085 \nL 262.374867 136.369213 \nL 262.984814 136.088137 \nL 263.594761 136.0175 \nL 264.204708 135.739212 \nL 264.814655 135.670065 \nL 265.424603 136.014955 \nL 266.03455 136.151575 \nL 266.644497 135.876257 \nL 267.864391 136.147864 \nL 268.474338 136.486164 \nL 269.084286 136.619336 \nL 269.694233 136.144214 \nL 270.30418 136.27761 \nL 270.914127 136.20892 \nL 271.524074 136.542049 \nL 272.134021 136.472983 \nL 272.743969 136.803375 \nL 273.353916 136.733955 \nL 275.183757 137.119734 \nL 275.793704 136.853552 \nL 276.403652 137.17714 \nL 277.013599 137.303357 \nL 277.623546 137.233886 \nL 278.233493 137.359212 \nL 278.84344 137.67768 \nL 280.063335 137.923686 \nL 280.673282 137.661245 \nL 281.283229 137.783609 \nL 281.893176 137.714159 \nL 283.723018 138.076711 \nL 284.332965 137.818213 \nL 284.942912 138.126583 \nL 286.772753 138.48075 \nL 287.382701 138.783929 \nL 288.602595 138.64374 \nL 289.212542 138.204428 \nL 289.822489 138.320679 \nL 290.432436 138.620188 \nL 291.042384 138.734685 \nL 291.652331 138.665671 \nL 292.262278 138.961844 \nL 292.872225 138.528737 \nL 293.482172 138.279374 \nL 294.092119 138.393252 \nL 296.531908 137.410372 \nL 297.141855 137.346457 \nL 297.751802 137.639112 \nL 298.36175 137.574934 \nL 299.581644 137.801038 \nL 300.801538 137.321536 \nL 301.411485 137.43437 \nL 302.021433 137.72153 \nL 303.241327 137.595384 \nL 303.851274 137.185646 \nL 304.461221 137.297385 \nL 305.071168 137.235863 \nL 305.681116 137.51916 \nL 306.291063 137.629217 \nL 306.90101 137.56733 \nL 308.120904 137.785536 \nL 308.730851 137.72372 \nL 309.340799 137.83188 \nL 309.950746 137.601011 \nL 310.560693 137.708938 \nL 311.17064 137.984762 \nL 311.780587 138.091219 \nL 313.000482 137.968206 \nL 313.610429 138.073922 \nL 314.830323 137.62 \nL 315.44027 137.725788 \nL 316.050217 137.500769 \nL 316.660165 137.771078 \nL 317.270112 137.711391 \nL 317.880059 137.815942 \nL 319.099953 137.697197 \nL 319.7099 137.963805 \nL 320.319848 138.066754 \nL 320.929795 138.00722 \nL 321.539742 137.786337 \nL 322.149689 137.888981 \nL 323.979531 137.713713 \nL 324.589478 137.815557 \nL 325.199425 137.598233 \nL 326.419319 137.483827 \nL 327.639214 138.001958 \nL 328.249161 137.944217 \nL 328.859108 137.72961 \nL 329.469055 137.672762 \nL 330.079002 137.459768 \nL 331.298897 137.348089 \nL 331.908844 137.137295 \nL 332.518791 137.082454 \nL 333.128738 137.337119 \nL 333.738685 136.819212 \nL 334.348632 136.611519 \nL 334.95858 136.558362 \nL 336.178474 136.758541 \nL 336.788421 136.552846 \nL 337.398368 136.500287 \nL 338.008315 136.751718 \nL 338.618263 136.850479 \nL 339.22821 136.646417 \nL 339.838157 136.594111 \nL 340.448104 136.692579 \nL 341.058051 136.640405 \nL 341.667998 136.888206 \nL 342.277946 136.985365 \nL 342.887893 136.932897 \nL 343.49784 137.178427 \nL 344.107787 137.27432 \nL 344.717734 137.518035 \nL 345.327681 137.612782 \nL 345.937629 137.559523 \nL 346.547576 137.653762 \nL 347.157523 137.894548 \nL 347.76747 137.547752 \nL 348.987365 137.73467 \nL 349.597312 137.973214 \nL 350.817206 138.157121 \nL 353.256995 139.095665 \nL 353.866942 139.040733 \nL 355.086836 139.503334 \nL 356.306731 139.677376 \nL 356.916678 139.621805 \nL 357.526625 139.424718 \nL 358.136572 139.511354 \nL 358.746519 139.738796 \nL 359.356466 139.68356 \nL 360.576361 140.134927 \nL 361.186308 140.079215 \nL 362.406202 139.410767 \nL 363.016149 139.35688 \nL 363.626097 139.164355 \nL 364.236044 139.111187 \nL 364.845991 139.196535 \nL 367.28578 138.985751 \nL 367.895727 139.207384 \nL 369.115621 139.375292 \nL 369.725568 139.050497 \nL 369.725568 139.050497 \n\" clip-path=\"url(#p0b87b1f146)\" style=\"fill: none; stroke: #1f77b4; stroke-width: 1.5; stroke-linecap: square\"/>\n   </g>\n   <g id=\"line2d_16\">\n    <path d=\"M 65.361932 45.01921 \nL 65.971879 45.01921 \nL 66.581826 67.699208 \nL 67.191773 96.04922 \nL 67.80172 99.451217 \nL 68.411668 124.399213 \nL 69.021615 142.219211 \nL 69.631562 138.574219 \nL 70.241509 143.299211 \nL 70.851456 153.883214 \nL 71.461403 150.171945 \nL 72.681298 133.994596 \nL 73.291245 127.639212 \nL 73.901192 126.66721 \nL 75.121086 141.075682 \nL 75.731034 143.299211 \nL 76.340981 138.126583 \nL 77.560875 142.219211 \nL 78.170822 143.986486 \nL 78.780769 142.641825 \nL 79.390717 144.244213 \nL 80.610611 141.845365 \nL 81.220558 143.299211 \nL 81.830505 147.079211 \nL 82.440452 148.252315 \nL 83.660347 145.981792 \nL 84.880241 139.862854 \nL 85.490188 139.074505 \nL 87.32003 142.481916 \nL 87.929977 139.917107 \nL 88.539924 139.228442 \nL 89.149871 140.275217 \nL 89.759819 136.292382 \nL 91.58966 139.3474 \nL 92.199607 138.763215 \nL 92.809554 136.725306 \nL 93.419502 137.669427 \nL 94.029449 137.15671 \nL 94.639396 135.276357 \nL 95.85929 134.405094 \nL 96.469237 135.303063 \nL 97.079185 133.599591 \nL 98.299079 137.801038 \nL 98.909026 136.144214 \nL 99.518973 138.126583 \nL 100.12892 138.867492 \nL 100.738868 140.7365 \nL 101.348815 136.873211 \nL 101.958762 136.482818 \nL 102.568709 137.202436 \nL 103.178656 134.659212 \nL 103.788603 134.321713 \nL 104.398551 135.041372 \nL 106.228392 134.07157 \nL 107.448286 137.359212 \nL 108.058234 137.016958 \nL 108.668181 138.574219 \nL 109.278128 138.224696 \nL 109.888075 138.804085 \nL 110.498022 137.553612 \nL 111.107969 139.021845 \nL 112.937811 140.619722 \nL 113.547758 140.275217 \nL 114.157705 139.099214 \nL 114.767652 139.611413 \nL 115.987547 138.979211 \nL 116.597494 137.873804 \nL 117.207441 138.376422 \nL 117.817388 138.08542 \nL 118.427335 139.3474 \nL 119.037283 138.287526 \nL 120.257177 137.733058 \nL 122.087018 134.774104 \nL 122.696966 135.261737 \nL 123.306913 135.030462 \nL 123.91686 135.505402 \nL 125.746701 134.832017 \nL 126.356649 135.963765 \nL 126.966596 136.40627 \nL 127.576543 135.519018 \nL 128.796437 136.38722 \nL 129.406384 137.450916 \nL 130.016332 137.222957 \nL 130.626279 136.369213 \nL 131.236226 136.155367 \nL 131.846173 137.182483 \nL 132.45612 136.965159 \nL 133.066067 137.966715 \nL 133.676015 137.144169 \nL 134.285962 135.739212 \nL 135.505856 134.175076 \nL 136.115803 133.994596 \nL 136.72575 134.393789 \nL 137.945645 134.038213 \nL 138.555592 134.427146 \nL 139.165539 135.367414 \nL 139.775486 135.739212 \nL 140.385433 134.45889 \nL 140.995381 133.743378 \nL 142.215275 133.417641 \nL 144.045116 134.517989 \nL 144.655064 133.834789 \nL 145.874958 134.545526 \nL 146.484905 133.877423 \nL 147.094852 134.22722 \nL 147.704799 133.070977 \nL 148.314747 133.421554 \nL 148.924694 132.28791 \nL 149.534641 132.149577 \nL 150.144588 131.52722 \nL 150.754535 129.948576 \nL 152.584377 131.01422 \nL 153.194324 131.828868 \nL 153.804271 132.166337 \nL 155.024165 130.98867 \nL 155.634113 131.324982 \nL 156.24406 130.296011 \nL 156.854007 130.632455 \nL 157.463954 129.621581 \nL 158.073901 129.51333 \nL 158.683848 128.964671 \nL 159.903743 128.760751 \nL 160.51369 128.227371 \nL 161.733584 128.892423 \nL 162.953479 130.386175 \nL 163.563426 129.859213 \nL 164.173373 129.756143 \nL 164.78332 128.409707 \nL 165.393267 129.1414 \nL 166.003214 129.044514 \nL 166.613162 127.726517 \nL 167.223109 127.639212 \nL 167.833056 127.955552 \nL 169.662897 127.695726 \nL 170.272845 127.217826 \nL 170.882792 126.354389 \nL 171.492739 126.66721 \nL 172.102686 127.363084 \nL 173.32258 126.437872 \nL 175.152422 126.216117 \nL 176.372316 126.815936 \nL 176.982263 126.371392 \nL 178.812105 126.15783 \nL 179.422052 126.450069 \nL 180.031999 125.659216 \nL 180.641946 125.234798 \nL 181.251894 125.171045 \nL 181.861841 125.462342 \nL 182.471788 125.045538 \nL 183.691682 126.318296 \nL 184.301629 125.903499 \nL 184.911577 126.183683 \nL 185.521524 126.804672 \nL 186.131471 127.077505 \nL 186.741418 127.007416 \nL 187.351365 125.922499 \nL 187.961312 125.858818 \nL 189.791154 126.66721 \nL 190.401101 125.940576 \nL 191.620995 125.162488 \nL 192.230943 125.430121 \nL 192.84089 125.371215 \nL 193.450837 124.990403 \nL 194.060784 124.934123 \nL 195.280678 125.459026 \nL 196.500573 124.084212 \nL 197.11052 124.660509 \nL 197.720467 124.60729 \nL 198.940361 125.120848 \nL 199.550309 124.758398 \nL 200.160256 124.705697 \nL 200.770203 125.263703 \nL 201.38015 125.209218 \nL 201.990097 124.550412 \nL 202.600044 124.499566 \nL 203.209992 124.748908 \nL 204.429886 124.646811 \nL 205.039833 125.188089 \nL 205.64978 124.546488 \nL 206.259727 125.083528 \nL 207.479622 125.562289 \nL 208.089569 125.219559 \nL 208.699516 125.168024 \nL 209.309463 124.542757 \nL 209.91941 124.208624 \nL 210.529358 124.731348 \nL 211.139305 124.966212 \nL 212.359199 125.992436 \nL 212.969146 126.21922 \nL 213.579093 126.165281 \nL 214.189041 126.66721 \nL 214.798988 126.611893 \nL 215.408935 127.107962 \nL 216.018882 127.051317 \nL 216.628829 126.721868 \nL 217.848724 126.612999 \nL 219.068618 127.043723 \nL 219.678565 126.720794 \nL 220.288512 126.133567 \nL 220.898459 126.082499 \nL 221.508407 125.767072 \nL 222.118354 125.717818 \nL 223.338248 126.143828 \nL 223.948195 125.311629 \nL 224.558142 125.005165 \nL 225.778037 125.945575 \nL 226.997931 125.848689 \nL 227.607878 126.055621 \nL 228.217825 126.007127 \nL 228.827773 126.21193 \nL 229.43772 125.659216 \nL 230.657614 125.566568 \nL 231.267561 126.019213 \nL 232.487456 126.419795 \nL 233.097403 126.371392 \nL 233.70735 126.077703 \nL 234.317297 126.275622 \nL 234.927244 125.984376 \nL 235.537191 125.938214 \nL 236.147139 126.134521 \nL 236.757086 126.088156 \nL 239.806822 127.046531 \nL 240.416769 126.761714 \nL 241.026716 126.714305 \nL 241.636663 126.43259 \nL 242.24661 126.85427 \nL 242.856557 126.574005 \nL 243.466505 126.063448 \nL 244.076452 125.787785 \nL 244.686399 125.975281 \nL 245.296346 125.471923 \nL 247.126188 126.030051 \nL 247.736135 126.440417 \nL 248.346082 126.169915 \nL 248.956029 126.351794 \nL 249.565976 126.083371 \nL 250.785871 125.997972 \nL 251.395818 126.178036 \nL 252.005765 126.135311 \nL 252.615712 125.651034 \nL 253.225659 125.610286 \nL 253.835606 125.789276 \nL 254.445554 125.748346 \nL 257.495289 126.624151 \nL 258.715184 126.538834 \nL 259.325131 125.856709 \nL 259.935078 126.029341 \nL 260.545025 125.776967 \nL 261.76492 125.69822 \nL 262.374867 125.449212 \nL 262.984814 125.620445 \nL 263.594761 125.999341 \nL 264.204708 125.751691 \nL 264.814655 125.712992 \nL 265.424603 125.467725 \nL 266.644497 125.803865 \nL 267.254444 125.560546 \nL 267.864391 125.523002 \nL 268.474338 125.689399 \nL 269.694233 126.424215 \nL 270.30418 126.586455 \nL 271.524074 126.506653 \nL 272.134021 126.66721 \nL 272.743969 126.028713 \nL 273.353916 125.791851 \nL 273.963863 125.953098 \nL 275.183757 125.483907 \nL 275.793704 125.644647 \nL 276.403652 125.60838 \nL 277.013599 125.963358 \nL 278.84344 126.434597 \nL 279.453387 126.396597 \nL 280.063335 126.744316 \nL 280.673282 126.513456 \nL 281.283229 126.858873 \nL 281.893176 126.628987 \nL 282.503123 126.590977 \nL 283.11307 126.933292 \nL 283.723018 126.894643 \nL 284.332965 127.23422 \nL 284.942912 127.006473 \nL 285.552859 126.967946 \nL 286.162806 127.117067 \nL 286.772753 127.078448 \nL 287.382701 126.66721 \nL 287.992648 126.630032 \nL 288.602595 126.407658 \nL 289.212542 126.741173 \nL 289.822489 126.704095 \nL 290.432436 126.299427 \nL 291.042384 126.263739 \nL 291.652331 125.862437 \nL 293.482172 126.304334 \nL 294.092119 126.631025 \nL 295.312014 126.559212 \nL 295.921961 126.703122 \nL 296.531908 127.025321 \nL 297.141855 126.631502 \nL 297.751802 126.417858 \nL 298.36175 126.560622 \nL 298.971697 126.525461 \nL 299.581644 126.313763 \nL 300.191591 126.631958 \nL 300.801538 126.772704 \nL 301.411485 126.386641 \nL 302.021433 126.527286 \nL 303.241327 126.11037 \nL 303.851274 126.424215 \nL 304.461221 126.21708 \nL 305.681116 126.494963 \nL 306.291063 126.289218 \nL 306.90101 126.427277 \nL 307.510957 126.222738 \nL 308.120904 126.530794 \nL 308.730851 126.497113 \nL 309.340799 126.633276 \nL 309.950746 126.599514 \nL 312.390534 127.136452 \nL 313.000482 126.600345 \nL 313.610429 126.233627 \nL 314.220376 126.035059 \nL 314.830323 126.003406 \nL 315.44027 125.80637 \nL 316.050217 125.775426 \nL 317.880059 126.175359 \nL 318.490006 126.143828 \nL 319.099953 126.438784 \nL 319.7099 126.406776 \nL 320.319848 126.212528 \nL 320.929795 126.343217 \nL 321.539742 126.150043 \nL 323.979531 126.66721 \nL 324.589478 126.635273 \nL 325.199425 126.92217 \nL 325.809372 126.889776 \nL 326.419319 127.016136 \nL 327.029266 126.66721 \nL 327.639214 126.477778 \nL 329.469055 126.855345 \nL 330.079002 127.136452 \nL 331.298897 127.383422 \nL 331.908844 127.195378 \nL 333.128738 127.131129 \nL 334.348632 127.375321 \nL 334.95858 127.035825 \nL 336.788421 126.484145 \nL 337.398368 126.454114 \nL 339.838157 126.938777 \nL 340.448104 126.908067 \nL 341.058051 127.027694 \nL 341.667998 127.296665 \nL 342.277946 127.11583 \nL 342.887893 127.23422 \nL 344.107787 127.172313 \nL 344.717734 127.289801 \nL 345.327681 127.554696 \nL 345.937629 127.670845 \nL 346.547576 127.639212 \nL 347.157523 127.313819 \nL 350.207259 127.161525 \nL 350.817206 126.986378 \nL 351.427153 127.101514 \nL 352.0371 126.927239 \nL 352.647048 127.04201 \nL 353.256995 126.724758 \nL 353.866942 126.552379 \nL 354.476889 126.52397 \nL 355.086836 126.352747 \nL 355.696783 126.039591 \nL 356.306731 126.01244 \nL 357.526625 126.241961 \nL 358.136572 126.214556 \nL 359.356466 125.878345 \nL 359.966414 125.992436 \nL 360.576361 125.965771 \nL 361.796255 126.471614 \nL 362.406202 126.583556 \nL 363.016149 126.416763 \nL 363.626097 126.66721 \nL 364.236044 126.778078 \nL 365.455938 126.722416 \nL 366.065885 126.832492 \nL 366.675832 126.66721 \nL 367.28578 126.639775 \nL 367.895727 126.749355 \nL 368.505674 126.721868 \nL 369.115621 126.558138 \nL 369.725568 126.803293 \nL 369.725568 126.803293 \n\" clip-path=\"url(#p0b87b1f146)\" style=\"fill: none; stroke: #ff7f0e; stroke-width: 1.5; stroke-linecap: square\"/>\n   </g>\n   <g id=\"line2d_17\">\n    <path d=\"M 65.361932 249.139212 \nL 65.971879 215.119212 \nL 66.581826 203.779211 \nL 67.191773 215.119212 \nL 67.80172 194.707214 \nL 68.411668 158.41921 \nL 69.021615 161.659209 \nL 69.631562 155.584212 \nL 70.241509 165.979214 \nL 70.851456 167.491216 \nL 71.461403 156.357393 \nL 72.681298 160.163825 \nL 73.901192 153.883214 \nL 74.511139 151.331717 \nL 75.731034 154.63921 \nL 76.340981 156.031848 \nL 76.950928 153.883214 \nL 77.560875 148.69921 \nL 78.170822 147.079211 \nL 79.390717 138.574219 \nL 80.610611 147.079211 \nL 81.220558 148.339214 \nL 82.440452 145.906107 \nL 83.0504 149.347219 \nL 83.660347 148.176639 \nL 84.270294 149.205469 \nL 84.880241 152.233761 \nL 86.100135 146.107219 \nL 86.710083 145.189216 \nL 87.32003 146.159758 \nL 87.929977 145.288687 \nL 88.539924 147.951518 \nL 89.149871 147.079211 \nL 89.759819 144.589945 \nL 90.369766 145.459211 \nL 91.58966 143.986486 \nL 92.199607 144.811213 \nL 92.809554 141.162693 \nL 93.419502 140.56475 \nL 94.639396 142.219211 \nL 95.249343 141.63601 \nL 95.85929 143.743917 \nL 96.469237 143.153831 \nL 97.079185 145.153558 \nL 98.299079 143.986486 \nL 98.909026 142.219211 \nL 99.518973 141.70764 \nL 100.12892 140.040597 \nL 100.738868 140.7365 \nL 101.348815 139.141218 \nL 102.568709 140.494701 \nL 103.788603 143.889844 \nL 105.008498 140.893762 \nL 105.618445 142.509362 \nL 106.228392 142.076275 \nL 106.838339 140.669645 \nL 107.448286 142.219211 \nL 108.058234 141.808511 \nL 108.668181 140.464214 \nL 109.888075 139.723538 \nL 110.498022 141.182412 \nL 111.107969 140.812368 \nL 111.717917 142.219211 \nL 112.327864 140.973057 \nL 112.937811 140.619722 \nL 113.547758 139.424718 \nL 114.157705 139.099214 \nL 115.3776 136.83223 \nL 115.987547 137.359212 \nL 116.597494 137.073329 \nL 117.207441 136.002941 \nL 117.817388 136.521284 \nL 118.427335 136.254666 \nL 119.037283 137.523033 \nL 119.64723 135.739212 \nL 120.257177 136.237673 \nL 120.867124 137.464867 \nL 121.477071 137.202436 \nL 122.087018 137.669427 \nL 122.696966 136.69416 \nL 123.306913 136.447961 \nL 123.91686 134.803953 \nL 125.136754 135.739212 \nL 125.746701 134.832017 \nL 126.356649 133.269118 \nL 127.576543 135.519018 \nL 128.18649 135.303063 \nL 128.796437 134.443216 \nL 129.406384 135.525254 \nL 130.016332 135.31529 \nL 131.236226 133.658477 \nL 131.846173 133.471214 \nL 133.066067 134.321713 \nL 133.676015 134.133548 \nL 134.285962 135.142374 \nL 134.895909 135.541993 \nL 135.505856 134.761633 \nL 137.335698 134.214506 \nL 137.945645 135.172212 \nL 138.555592 135.551777 \nL 139.165539 134.251999 \nL 139.775486 134.079701 \nL 140.385433 134.45889 \nL 140.995381 135.376336 \nL 141.605328 135.199212 \nL 142.215275 135.560628 \nL 143.435169 135.211774 \nL 144.045116 134.517989 \nL 144.655064 134.354177 \nL 145.265011 134.708304 \nL 145.874958 134.545526 \nL 146.484905 135.400709 \nL 147.094852 135.235214 \nL 147.704799 136.072746 \nL 148.924694 135.739212 \nL 150.144588 137.359212 \nL 150.754535 137.669427 \nL 151.364482 137.496115 \nL 151.97443 136.849425 \nL 153.194324 136.521284 \nL 153.804271 135.894558 \nL 154.414218 135.739212 \nL 155.024165 136.045706 \nL 155.634113 135.891435 \nL 156.24406 136.646417 \nL 156.854007 136.039613 \nL 157.463954 136.783685 \nL 158.683848 135.591946 \nL 159.293796 134.568632 \nL 159.903743 134.866904 \nL 160.51369 135.594755 \nL 161.123637 135.452123 \nL 162.343531 136.022711 \nL 162.953479 135.034863 \nL 163.563426 133.639213 \nL 164.78332 134.217994 \nL 165.393267 133.677395 \nL 167.223109 133.309217 \nL 167.833056 133.591997 \nL 168.443003 133.471214 \nL 169.05295 134.147641 \nL 169.662897 133.629449 \nL 170.272845 133.510542 \nL 171.492739 134.832017 \nL 172.102686 134.321713 \nL 173.32258 134.847306 \nL 173.932528 134.72558 \nL 174.542475 134.22722 \nL 175.152422 134.862088 \nL 176.372316 135.367414 \nL 176.982263 134.876394 \nL 177.592211 135.126243 \nL 178.202158 134.275987 \nL 179.422052 134.774104 \nL 180.031999 134.299215 \nL 180.641946 134.545526 \nL 181.251894 135.145497 \nL 181.861841 135.030462 \nL 182.471788 135.269159 \nL 183.691682 136.437062 \nL 184.301629 135.970639 \nL 184.911577 135.854337 \nL 185.521524 136.082854 \nL 186.131471 135.967151 \nL 186.741418 135.512418 \nL 187.961312 136.637434 \nL 189.181207 137.073329 \nL 189.791154 136.624284 \nL 190.401101 136.840189 \nL 191.011048 135.739212 \nL 191.620995 135.63018 \nL 192.84089 136.063216 \nL 194.060784 137.129974 \nL 194.670731 136.697526 \nL 195.280678 136.905006 \nL 196.500573 137.944217 \nL 197.11052 137.202436 \nL 197.720467 137.09169 \nL 198.940361 137.491755 \nL 199.550309 137.996949 \nL 200.160256 137.578138 \nL 200.770203 137.773298 \nL 201.38015 137.662968 \nL 204.429886 135.640176 \nL 206.259727 136.228011 \nL 206.869675 136.12857 \nL 207.479622 136.32075 \nL 208.089569 136.221765 \nL 208.699516 135.835317 \nL 209.309463 136.0263 \nL 209.91941 135.9298 \nL 210.529358 134.980052 \nL 211.139305 135.455712 \nL 211.749252 134.233486 \nL 212.359199 134.427146 \nL 212.969146 134.899216 \nL 214.189041 134.165505 \nL 216.018882 135.556309 \nL 216.628829 134.919453 \nL 217.238776 135.104171 \nL 217.848724 135.016349 \nL 218.458671 134.389217 \nL 219.068618 134.304903 \nL 219.678565 134.489134 \nL 220.288512 134.405094 \nL 220.898459 133.790149 \nL 221.508407 134.238981 \nL 222.118354 134.156887 \nL 222.728301 134.600833 \nL 223.338248 134.517989 \nL 223.948195 134.957149 \nL 224.558142 135.133259 \nL 225.16809 134.53192 \nL 225.778037 134.450577 \nL 226.997931 134.801316 \nL 227.607878 135.229557 \nL 228.827773 135.570594 \nL 229.43772 135.99121 \nL 230.047667 135.655526 \nL 230.657614 135.572449 \nL 231.267561 135.739212 \nL 233.097403 134.753127 \nL 233.70735 135.166078 \nL 234.317297 135.08655 \nL 234.927244 135.495344 \nL 235.537191 135.658213 \nL 236.147139 135.093525 \nL 236.757086 134.774104 \nL 237.367033 134.697374 \nL 238.586927 135.023 \nL 239.196874 134.946209 \nL 239.806822 134.395797 \nL 240.416769 134.321713 \nL 241.636663 134.644318 \nL 242.856557 134.496475 \nL 243.466505 134.887749 \nL 244.076452 134.582076 \nL 247.126188 134.222161 \nL 247.736135 134.378419 \nL 248.346082 134.081536 \nL 248.956029 134.237227 \nL 249.565976 134.616447 \nL 250.175923 134.769349 \nL 250.785871 134.698165 \nL 251.395818 133.960388 \nL 252.615712 133.382855 \nL 253.835606 133.690698 \nL 255.665448 132.840817 \nL 256.275395 132.9945 \nL 256.885342 132.499212 \nL 257.495289 132.653017 \nL 259.935078 132.408095 \nL 260.545025 132.135849 \nL 262.984814 132.738476 \nL 265.424603 132.499212 \nL 266.03455 131.821761 \nL 266.644497 131.765075 \nL 267.864391 132.470022 \nL 268.474338 132.208199 \nL 269.694233 132.09422 \nL 270.30418 132.23963 \nL 270.914127 132.585483 \nL 271.524074 132.327178 \nL 272.134021 132.470631 \nL 272.743969 132.812763 \nL 273.353916 132.953955 \nL 273.963863 132.697587 \nL 274.57381 133.036079 \nL 275.183757 132.978177 \nL 275.793704 132.723958 \nL 276.403652 133.059449 \nL 277.013599 132.610941 \nL 277.623546 132.554914 \nL 278.233493 132.693612 \nL 279.453387 132.582056 \nL 280.063335 132.141253 \nL 280.673282 132.279556 \nL 281.283229 132.033752 \nL 281.893176 132.171578 \nL 283.11307 131.684685 \nL 283.723018 131.822339 \nL 284.332965 132.148219 \nL 285.552859 132.042755 \nL 286.162806 131.615579 \nL 286.772753 131.75152 \nL 287.382701 132.073131 \nL 287.992648 132.207084 \nL 288.602595 132.15491 \nL 289.212542 131.73324 \nL 289.822489 132.051414 \nL 290.432436 132.000081 \nL 291.652331 132.264054 \nL 292.262278 131.847736 \nL 292.872225 131.615579 \nL 293.482172 131.747535 \nL 294.092119 132.059748 \nL 294.702067 131.828868 \nL 295.312014 131.959212 \nL 295.921961 131.729823 \nL 296.531908 131.68069 \nL 297.141855 131.810395 \nL 297.751802 132.117539 \nL 298.36175 132.067778 \nL 298.971697 132.37265 \nL 299.581644 132.145765 \nL 300.801538 132.047125 \nL 301.411485 132.173545 \nL 302.021433 132.47423 \nL 302.63138 132.598906 \nL 303.851274 132.499212 \nL 304.461221 132.276616 \nL 305.071168 131.882462 \nL 305.681116 132.007067 \nL 306.291063 131.787401 \nL 307.510957 132.035192 \nL 308.120904 132.328688 \nL 308.730851 132.280519 \nL 309.340799 132.571937 \nL 309.950746 132.692649 \nL 310.560693 132.306261 \nL 311.17064 132.090205 \nL 311.780587 132.043212 \nL 312.390534 131.828868 \nL 313.000482 132.117103 \nL 313.610429 132.237156 \nL 314.220376 132.522977 \nL 314.830323 132.641459 \nL 315.44027 132.593817 \nL 316.660165 132.828711 \nL 317.270112 132.780958 \nL 318.490006 133.013257 \nL 319.099953 132.965402 \nL 319.7099 132.755002 \nL 320.319848 132.707999 \nL 322.149689 133.052007 \nL 322.759636 133.00475 \nL 323.979531 132.590694 \nL 325.199425 132.499212 \nL 325.809372 132.771742 \nL 327.029266 132.996518 \nL 327.639214 132.950255 \nL 328.249161 133.219215 \nL 328.859108 133.172658 \nL 330.688949 133.502431 \nL 331.298897 133.455641 \nL 331.908844 133.719765 \nL 332.518791 133.672701 \nL 333.128738 133.316578 \nL 334.348632 133.84066 \nL 335.568527 134.053543 \nL 336.178474 134.312162 \nL 337.398368 134.217071 \nL 338.008315 134.321713 \nL 338.618263 134.122821 \nL 339.22821 134.22722 \nL 339.838157 134.029413 \nL 340.448104 134.133548 \nL 341.667998 134.040718 \nL 342.277946 134.144143 \nL 342.887893 134.0979 \nL 344.107787 133.708907 \nL 344.717734 133.663921 \nL 345.327681 133.471214 \nL 347.157523 133.779817 \nL 347.76747 133.588529 \nL 348.377417 133.544375 \nL 348.987365 133.354405 \nL 349.597312 133.602338 \nL 350.207259 133.703827 \nL 350.817206 133.659815 \nL 352.647048 133.961331 \nL 353.256995 133.629449 \nL 354.476889 133.542834 \nL 355.086836 133.213923 \nL 355.696783 133.456949 \nL 356.306731 133.271937 \nL 359.356466 133.767042 \nL 359.966414 133.724257 \nL 361.186308 133.359211 \nL 361.796255 133.038107 \nL 362.406202 133.136595 \nL 363.016149 133.373821 \nL 363.626097 133.054643 \nL 364.236044 133.152492 \nL 364.845991 132.973361 \nL 365.455938 133.070977 \nL 366.065885 133.030472 \nL 366.675832 133.265032 \nL 367.28578 133.224295 \nL 368.505674 132.186928 \nL 369.725568 131.838257 \nL 369.725568 131.838257 \n\" clip-path=\"url(#p0b87b1f146)\" style=\"fill: none; stroke: #2ca02c; stroke-width: 1.5; stroke-linecap: square\"/>\n   </g>\n   <g id=\"line2d_18\">\n    <path d=\"M 65.361932 113.059214 \nL 65.971879 45.01921 \nL 66.581826 22.339212 \nL 67.191773 45.01921 \nL 67.80172 72.235223 \nL 68.411668 90.379216 \nL 69.021615 64.459208 \nL 69.631562 87.544218 \nL 70.241509 90.379216 \nL 70.851456 92.647213 \nL 71.461403 100.688307 \nL 72.071351 113.059214 \nL 72.681298 113.059214 \nL 73.291245 108.199214 \nL 73.901192 108.523218 \nL 74.511139 117.31172 \nL 75.731034 116.839213 \nL 76.340981 123.802375 \nL 76.950928 123.265214 \nL 78.170822 128.522855 \nL 78.780769 133.767042 \nL 79.390717 130.069217 \nL 80.000664 132.110411 \nL 80.610611 136.611519 \nL 81.220558 133.219215 \nL 82.440452 131.828868 \nL 83.0504 126.66721 \nL 83.660347 130.617926 \nL 84.270294 125.816711 \nL 85.490188 133.070977 \nL 86.710083 131.959212 \nL 87.32003 127.77057 \nL 87.929977 130.964479 \nL 88.539924 130.505366 \nL 89.149871 133.471214 \nL 89.759819 134.632871 \nL 90.369766 132.499212 \nL 91.58966 131.615579 \nL 93.419502 134.774104 \nL 94.029449 135.739212 \nL 94.639396 135.276357 \nL 95.249343 136.192819 \nL 95.85929 135.739212 \nL 96.469237 131.377674 \nL 97.079185 132.315822 \nL 98.299079 129.1414 \nL 98.909026 130.069217 \nL 99.518973 127.383422 \nL 100.12892 127.136452 \nL 101.348815 128.935218 \nL 101.958762 130.905776 \nL 102.568709 131.715345 \nL 103.178656 131.419212 \nL 103.788603 130.069217 \nL 104.398551 129.807526 \nL 105.008498 128.522855 \nL 105.618445 128.292046 \nL 106.228392 130.069217 \nL 106.838339 129.822694 \nL 107.448286 130.555218 \nL 108.058234 130.308796 \nL 108.668181 131.01422 \nL 109.278128 129.836198 \nL 110.498022 131.203216 \nL 111.107969 130.069217 \nL 111.717917 130.731947 \nL 112.327864 129.633058 \nL 112.937811 129.423267 \nL 113.547758 130.919716 \nL 114.157705 131.539214 \nL 114.767652 132.973361 \nL 115.3776 133.553196 \nL 115.987547 131.689217 \nL 116.597494 132.270512 \nL 117.207441 132.047125 \nL 117.817388 132.610941 \nL 118.427335 130.842398 \nL 119.037283 132.171578 \nL 119.64723 132.715218 \nL 120.867124 132.28791 \nL 121.477071 133.544375 \nL 122.087018 134.050278 \nL 122.696966 132.396902 \nL 123.91686 133.401074 \nL 124.526807 133.193503 \nL 125.136754 133.677395 \nL 125.746701 134.832017 \nL 126.356649 134.616447 \nL 126.966596 135.072153 \nL 127.576543 133.537278 \nL 128.796437 134.443216 \nL 129.406384 133.599591 \nL 130.016332 134.679398 \nL 132.45612 136.35219 \nL 133.066067 134.929217 \nL 133.676015 135.939918 \nL 134.895909 134.358689 \nL 135.505856 134.761633 \nL 137.335698 134.214506 \nL 137.945645 132.904214 \nL 138.555592 132.177895 \nL 140.995381 131.566092 \nL 141.605328 131.959212 \nL 143.435169 131.519677 \nL 144.045116 132.424449 \nL 144.655064 132.796014 \nL 145.265011 132.131033 \nL 145.874958 131.987641 \nL 146.484905 131.338619 \nL 147.094852 132.211211 \nL 148.314747 132.924908 \nL 148.924694 133.767042 \nL 149.534641 133.618064 \nL 150.144588 133.957215 \nL 150.754535 134.774104 \nL 151.364482 134.621191 \nL 151.97443 135.422011 \nL 153.194324 135.11356 \nL 153.804271 135.894558 \nL 155.024165 136.505427 \nL 155.634113 136.348074 \nL 157.463954 137.231321 \nL 158.073901 137.073329 \nL 158.683848 137.801038 \nL 159.293796 138.080381 \nL 160.51369 139.495142 \nL 161.123637 138.897189 \nL 162.343531 138.574219 \nL 162.953479 139.260957 \nL 163.563426 139.099214 \nL 164.173373 138.522035 \nL 164.78332 138.36678 \nL 165.393267 137.801038 \nL 166.003214 138.061867 \nL 166.613162 138.727 \nL 167.223109 138.979211 \nL 167.833056 139.631052 \nL 168.443003 139.87498 \nL 169.05295 139.718164 \nL 169.662897 140.35433 \nL 170.272845 140.196561 \nL 170.882792 140.431628 \nL 171.492739 139.886417 \nL 172.102686 139.733991 \nL 173.32258 140.198761 \nL 173.932528 140.047146 \nL 174.542475 140.65321 \nL 175.152422 140.876678 \nL 176.372316 140.572658 \nL 176.982263 140.792912 \nL 177.592211 140.275217 \nL 178.202158 140.128895 \nL 178.812105 139.256435 \nL 179.422052 139.479001 \nL 180.031999 140.059211 \nL 180.641946 139.917107 \nL 181.251894 139.064032 \nL 182.471788 139.499633 \nL 183.081735 137.96045 \nL 184.301629 139.094925 \nL 184.911577 138.962766 \nL 186.741418 139.594816 \nL 187.351365 139.462799 \nL 187.961312 140.00575 \nL 188.57126 139.202659 \nL 189.181207 138.740981 \nL 189.791154 138.615707 \nL 190.401101 138.821929 \nL 191.011048 139.354862 \nL 191.620995 139.228442 \nL 192.230943 139.428784 \nL 192.84089 138.979211 \nL 193.450837 138.85637 \nL 194.060784 139.055627 \nL 194.670731 138.933577 \nL 195.280678 139.130613 \nL 195.890626 139.009354 \nL 196.500573 139.519211 \nL 197.11052 139.397283 \nL 197.720467 139.588571 \nL 198.330414 139.156751 \nL 198.940361 139.3474 \nL 199.550309 139.228442 \nL 200.160256 139.417053 \nL 200.770203 138.688635 \nL 201.38015 138.574219 \nL 201.990097 139.065614 \nL 202.600044 139.251609 \nL 203.209992 139.13622 \nL 203.819939 138.723421 \nL 204.429886 138.908473 \nL 205.64978 138.095579 \nL 206.869675 137.880678 \nL 207.479622 138.065365 \nL 208.089569 137.958959 \nL 208.699516 138.430066 \nL 209.309463 138.6101 \nL 209.91941 139.074505 \nL 212.359199 139.769131 \nL 212.969146 140.219211 \nL 213.579093 140.386754 \nL 214.189041 139.997497 \nL 215.408935 140.330311 \nL 216.018882 140.220346 \nL 216.628829 140.384513 \nL 217.238776 139.730898 \nL 217.848724 139.624634 \nL 218.458671 139.789216 \nL 219.068618 139.41463 \nL 219.678565 139.846612 \nL 221.508407 138.739683 \nL 222.118354 138.112703 \nL 223.948195 137.824732 \nL 224.558142 137.989903 \nL 225.16809 137.377694 \nL 225.778037 137.285574 \nL 226.387984 137.450916 \nL 226.997931 137.870793 \nL 227.607878 137.777871 \nL 228.217825 138.193397 \nL 228.827773 137.594086 \nL 229.43772 138.00722 \nL 230.657614 138.324066 \nL 231.267561 137.982288 \nL 233.70735 138.604919 \nL 234.317297 138.513032 \nL 236.147139 138.967684 \nL 236.757086 138.875806 \nL 237.367033 138.544158 \nL 237.97698 137.975272 \nL 239.196874 137.801038 \nL 239.806822 137.951903 \nL 240.416769 137.86547 \nL 242.24661 138.311169 \nL 243.466505 139.067682 \nL 244.076452 138.979211 \nL 245.296346 139.263806 \nL 245.906293 138.946483 \nL 246.51624 139.087939 \nL 247.736135 138.914415 \nL 248.346082 139.054563 \nL 248.956029 138.968485 \nL 249.565976 138.658421 \nL 250.175923 139.021845 \nL 250.785871 138.93672 \nL 252.615712 140.010119 \nL 253.225659 140.143099 \nL 253.835606 140.055734 \nL 254.445554 140.406484 \nL 255.055501 140.536909 \nL 255.665448 140.449117 \nL 257.495289 140.835039 \nL 258.715184 140.232422 \nL 259.325131 140.573824 \nL 259.935078 140.487837 \nL 261.154972 140.740089 \nL 261.76492 140.654386 \nL 262.374867 140.989219 \nL 262.984814 140.693927 \nL 263.594761 140.191735 \nL 264.204708 140.524904 \nL 264.814655 140.648607 \nL 265.424603 140.56475 \nL 266.03455 140.687581 \nL 266.644497 140.604108 \nL 267.254444 140.316198 \nL 267.864391 139.621379 \nL 268.474338 139.745559 \nL 269.084286 139.462799 \nL 269.694233 139.586715 \nL 270.30418 138.902299 \nL 270.914127 139.027147 \nL 271.524074 138.950539 \nL 272.743969 138.39963 \nL 273.353916 138.723421 \nL 273.963863 138.648607 \nL 275.183757 138.894695 \nL 275.793704 139.213315 \nL 276.403652 138.157547 \nL 277.013599 138.08542 \nL 277.623546 138.208666 \nL 278.233493 137.748012 \nL 278.84344 137.483827 \nL 280.063335 137.730939 \nL 280.673282 138.045656 \nL 281.893176 137.905285 \nL 283.11307 138.146587 \nL 283.723018 138.076711 \nL 284.332965 137.629217 \nL 284.942912 137.938104 \nL 285.552859 137.869383 \nL 286.162806 137.988473 \nL 286.772753 137.919986 \nL 287.992648 138.155935 \nL 289.212542 138.759109 \nL 290.432436 138.987971 \nL 291.042384 138.551295 \nL 291.652331 138.482767 \nL 292.262278 138.779427 \nL 292.872225 138.710656 \nL 293.482172 138.823693 \nL 294.092119 138.393252 \nL 294.702067 138.687013 \nL 295.312014 138.619215 \nL 295.921961 138.910825 \nL 296.531908 138.842794 \nL 297.141855 139.132286 \nL 298.36175 138.996133 \nL 298.971697 139.105773 \nL 300.191591 139.675896 \nL 301.411485 139.889418 \nL 302.63138 139.751835 \nL 303.241327 140.031593 \nL 303.851274 139.962782 \nL 305.071168 140.171599 \nL 305.681116 139.758455 \nL 306.291063 139.862854 \nL 306.90101 139.623955 \nL 308.120904 140.172897 \nL 309.340799 140.037666 \nL 309.950746 140.139814 \nL 310.560693 140.410286 \nL 311.780587 139.939219 \nL 312.390534 140.040597 \nL 313.000482 139.807121 \nL 314.830323 140.109266 \nL 315.44027 140.043446 \nL 316.050217 140.143099 \nL 316.660165 139.748033 \nL 317.270112 139.84791 \nL 317.880059 139.619413 \nL 318.490006 139.555559 \nL 319.099953 139.328856 \nL 319.7099 139.428784 \nL 320.319848 139.690627 \nL 320.929795 139.303215 \nL 321.539742 139.564106 \nL 322.149689 139.34007 \nL 322.759636 139.277939 \nL 323.369583 139.376569 \nL 323.979531 139.314652 \nL 324.589478 139.412734 \nL 325.199425 139.35102 \nL 325.809372 139.448565 \nL 326.419319 139.704254 \nL 327.029266 139.642286 \nL 328.249161 139.834212 \nL 329.469055 139.710824 \nL 331.298897 139.994962 \nL 331.908844 140.244142 \nL 332.518791 140.337206 \nL 333.738685 140.830648 \nL 334.348632 140.767808 \nL 334.95858 140.858854 \nL 335.568527 140.796238 \nL 337.398368 141.066729 \nL 338.008315 140.852335 \nL 338.618263 140.790438 \nL 339.22821 141.031213 \nL 339.838157 141.120059 \nL 340.448104 141.05798 \nL 341.058051 141.146369 \nL 341.667998 140.78476 \nL 342.277946 140.873373 \nL 342.887893 140.812368 \nL 344.107787 140.988296 \nL 344.717734 140.630976 \nL 346.547576 140.451946 \nL 347.157523 140.245825 \nL 347.76747 140.33387 \nL 348.377417 140.567862 \nL 348.987365 140.654832 \nL 350.207259 140.536909 \nL 350.817206 140.623392 \nL 351.427153 140.419978 \nL 352.0371 140.361894 \nL 352.647048 140.159889 \nL 353.256995 140.246444 \nL 353.866942 140.476177 \nL 354.476889 140.275217 \nL 355.086836 140.503917 \nL 355.696783 140.303748 \nL 356.306731 140.531434 \nL 356.916678 140.189991 \nL 357.526625 140.133467 \nL 358.136572 140.360089 \nL 358.746519 140.303444 \nL 359.966414 140.472021 \nL 361.186308 140.359217 \nL 362.406202 140.526182 \nL 363.016149 140.330869 \nL 364.236044 140.219789 \nL 364.845991 140.302876 \nL 365.455938 140.523637 \nL 366.675832 140.412668 \nL 367.28578 140.494701 \nL 367.895727 140.713303 \nL 369.115621 140.875168 \nL 369.725568 140.819536 \nL 369.725568 140.819536 \n\" clip-path=\"url(#p0b87b1f146)\" style=\"fill: none; stroke: #d62728; stroke-width: 1.5; stroke-linecap: square\"/>\n   </g>\n   <g id=\"line2d_19\">\n    <path d=\"M 65.361932 113.059214 \nL 66.581826 181.099213 \nL 67.191773 147.079211 \nL 67.80172 140.275217 \nL 68.411668 135.739212 \nL 69.021615 132.499212 \nL 69.631562 130.069217 \nL 70.241509 135.739212 \nL 70.851456 126.66721 \nL 71.461403 131.615579 \nL 72.071351 124.399213 \nL 72.681298 123.526905 \nL 73.291245 132.499212 \nL 73.901192 135.739212 \nL 74.511139 130.069217 \nL 75.731034 128.179212 \nL 76.340981 120.221318 \nL 76.950928 116.46122 \nL 77.560875 119.539213 \nL 78.170822 116.151938 \nL 78.780769 116.017478 \nL 80.000664 121.22402 \nL 80.610611 123.526905 \nL 81.220558 128.179212 \nL 81.830505 125.209218 \nL 82.440452 127.136452 \nL 83.660347 121.83857 \nL 85.490188 127.067448 \nL 87.32003 131.448401 \nL 88.539924 133.994596 \nL 89.149871 136.873211 \nL 90.369766 135.739212 \nL 92.199607 138.763215 \nL 94.029449 141.409216 \nL 95.85929 143.743917 \nL 96.469237 144.462288 \nL 97.079185 146.437326 \nL 98.299079 147.697755 \nL 98.909026 149.509215 \nL 99.518973 147.676059 \nL 101.348815 149.347219 \nL 101.958762 148.752327 \nL 102.568709 147.079211 \nL 103.788603 146.016092 \nL 104.398551 144.462288 \nL 105.008498 145.017394 \nL 105.618445 146.571452 \nL 106.228392 146.078628 \nL 107.448286 143.191213 \nL 108.058234 142.766825 \nL 108.668181 141.409216 \nL 109.278128 142.884972 \nL 109.888075 139.723538 \nL 110.498022 137.553612 \nL 111.107969 138.126583 \nL 111.717917 136.917395 \nL 112.327864 136.611519 \nL 112.937811 137.174656 \nL 113.547758 138.574219 \nL 114.157705 139.099214 \nL 114.767652 137.951903 \nL 115.3776 137.651988 \nL 115.987547 138.169217 \nL 116.597494 137.073329 \nL 117.207441 138.376422 \nL 117.817388 138.867492 \nL 118.427335 138.574219 \nL 119.64723 139.519211 \nL 120.257177 140.723827 \nL 120.867124 141.162693 \nL 121.477071 142.323731 \nL 122.087018 141.288575 \nL 122.696966 142.423841 \nL 123.306913 141.409216 \nL 124.526807 140.830648 \nL 125.136754 139.175579 \nL 126.356649 138.658421 \nL 126.966596 139.074505 \nL 127.576543 140.143099 \nL 128.18649 140.536909 \nL 128.796437 140.275217 \nL 130.016332 137.222957 \nL 130.626279 137.629217 \nL 131.236226 136.779579 \nL 132.45612 133.900296 \nL 133.676015 133.531428 \nL 134.895909 134.358689 \nL 135.505856 134.175076 \nL 136.115803 133.413058 \nL 136.72575 133.240567 \nL 137.335698 134.214506 \nL 137.945645 134.038213 \nL 139.165539 134.809711 \nL 139.775486 134.079701 \nL 140.385433 135.007599 \nL 140.995381 135.376336 \nL 141.605328 135.199212 \nL 142.215275 136.09638 \nL 142.825222 135.916407 \nL 143.435169 136.26666 \nL 144.655064 137.989903 \nL 146.484905 138.955041 \nL 147.094852 137.251214 \nL 147.704799 137.073329 \nL 148.314747 135.904767 \nL 148.924694 136.725306 \nL 149.534641 137.044535 \nL 150.144588 136.873211 \nL 151.364482 137.496115 \nL 151.97443 137.325226 \nL 153.804271 138.224696 \nL 154.414218 138.053503 \nL 155.024165 137.42489 \nL 156.24406 138.00722 \nL 156.854007 137.841998 \nL 157.463954 137.231321 \nL 158.073901 137.962741 \nL 158.683848 137.359212 \nL 159.293796 138.080381 \nL 159.903743 137.047678 \nL 160.51369 136.461506 \nL 161.123637 136.744023 \nL 161.733584 136.167138 \nL 162.343531 136.447961 \nL 162.953479 136.302693 \nL 163.563426 136.999215 \nL 164.173373 136.852345 \nL 164.78332 137.122137 \nL 165.393267 137.801038 \nL 166.003214 137.242109 \nL 167.223109 137.764214 \nL 167.833056 136.410225 \nL 169.05295 136.137107 \nL 170.272845 136.6569 \nL 172.102686 136.254666 \nL 172.712633 136.508033 \nL 173.32258 136.37629 \nL 173.932528 137.006251 \nL 174.542475 137.251214 \nL 175.762369 136.985365 \nL 176.372316 136.11102 \nL 177.592211 136.597376 \nL 178.202158 137.202436 \nL 178.812105 136.70948 \nL 179.422052 136.583678 \nL 180.031999 137.179218 \nL 180.641946 137.410372 \nL 181.251894 137.282877 \nL 181.861841 136.447961 \nL 182.471788 136.326783 \nL 184.911577 137.235863 \nL 185.521524 136.426487 \nL 186.741418 136.873211 \nL 187.351365 136.754739 \nL 187.961312 136.300604 \nL 188.57126 136.521284 \nL 189.181207 136.40627 \nL 191.011048 138.040089 \nL 191.620995 138.247102 \nL 192.230943 138.126583 \nL 192.84089 138.331213 \nL 193.450837 138.211444 \nL 194.060784 138.413743 \nL 194.670731 138.933577 \nL 196.500573 138.574219 \nL 198.330414 139.156751 \nL 198.940361 139.038128 \nL 199.550309 138.612696 \nL 200.160256 137.884622 \nL 200.770203 138.383519 \nL 201.38015 138.574219 \nL 202.600044 139.552669 \nL 203.819939 139.917107 \nL 205.039833 139.68356 \nL 205.64978 140.157395 \nL 206.259727 139.747323 \nL 206.869675 139.924792 \nL 207.479622 139.519211 \nL 208.089569 139.985685 \nL 209.309463 140.332633 \nL 209.91941 140.218035 \nL 210.529358 140.673772 \nL 211.749252 141.009253 \nL 212.359199 140.893762 \nL 212.969146 140.499213 \nL 213.579093 140.66561 \nL 214.189041 140.552928 \nL 214.798988 140.164583 \nL 215.408935 140.054841 \nL 216.628829 140.384513 \nL 217.238776 140.819536 \nL 217.848724 140.980013 \nL 218.458671 140.869216 \nL 219.068618 141.297163 \nL 220.288512 141.609335 \nL 221.508407 142.446137 \nL 222.118354 142.595957 \nL 223.338248 141.845365 \nL 223.948195 141.735076 \nL 225.16809 142.034422 \nL 225.778037 141.92467 \nL 226.387984 141.558986 \nL 226.997931 141.45185 \nL 228.217825 141.747719 \nL 229.43772 141.53521 \nL 230.657614 141.826122 \nL 231.267561 142.219211 \nL 231.877508 142.361113 \nL 232.487456 142.254565 \nL 233.097403 141.902253 \nL 233.70735 142.04376 \nL 234.317297 141.939503 \nL 234.927244 141.592119 \nL 236.147139 141.38904 \nL 236.757086 141.529857 \nL 237.97698 141.329353 \nL 238.586927 140.991429 \nL 239.196874 140.893762 \nL 239.806822 140.559701 \nL 241.026716 140.369386 \nL 241.636663 140.509838 \nL 242.24661 140.181687 \nL 242.856557 139.38976 \nL 243.466505 139.067682 \nL 244.076452 139.442076 \nL 244.686399 139.121995 \nL 245.296346 139.493672 \nL 246.51624 139.316264 \nL 247.126188 139.000888 \nL 247.736135 138.914415 \nL 248.346082 139.054563 \nL 248.956029 138.968485 \nL 249.565976 138.658421 \nL 250.175923 138.126583 \nL 250.785871 138.044398 \nL 251.395818 138.185094 \nL 252.005765 137.881621 \nL 252.615712 138.021941 \nL 253.225659 137.941155 \nL 253.835606 137.42192 \nL 254.445554 137.343588 \nL 255.665448 137.623174 \nL 256.275395 137.544943 \nL 256.885342 137.683216 \nL 257.495289 136.959339 \nL 258.105237 137.098585 \nL 258.715184 137.450916 \nL 261.154972 137.993127 \nL 261.76492 137.91593 \nL 262.374867 137.629217 \nL 264.814655 138.159341 \nL 266.03455 138.00722 \nL 267.254444 138.266802 \nL 267.864391 138.599759 \nL 268.474338 138.319574 \nL 269.694233 138.169217 \nL 270.30418 138.2966 \nL 270.914127 138.020633 \nL 271.524074 138.348419 \nL 272.134021 138.274041 \nL 272.743969 138.39963 \nL 273.353916 137.927641 \nL 273.963863 138.053503 \nL 275.183757 137.90861 \nL 275.793704 137.640136 \nL 276.403652 137.76538 \nL 277.623546 137.623802 \nL 278.233493 137.359212 \nL 278.84344 137.483827 \nL 279.453387 137.414437 \nL 280.673282 136.892434 \nL 281.283229 136.825295 \nL 283.11307 137.196312 \nL 284.942912 136.995727 \nL 286.772753 137.359212 \nL 287.382701 137.106229 \nL 288.602595 136.975186 \nL 289.212542 137.095087 \nL 289.822489 136.661169 \nL 290.432436 136.597376 \nL 291.042384 136.717327 \nL 291.652331 137.019533 \nL 292.262278 136.772888 \nL 292.872225 137.073329 \nL 294.092119 137.307514 \nL 294.702067 137.604154 \nL 295.312014 137.539215 \nL 297.141855 137.882209 \nL 297.751802 137.460994 \nL 298.971697 137.333905 \nL 299.581644 137.447581 \nL 300.191591 137.384396 \nL 300.801538 137.14573 \nL 301.411485 137.25901 \nL 302.021433 137.021885 \nL 303.241327 136.899318 \nL 303.851274 137.012071 \nL 304.461221 137.297385 \nL 305.071168 137.408557 \nL 305.681116 137.002409 \nL 306.291063 136.941941 \nL 306.90101 137.053173 \nL 307.510957 136.992888 \nL 308.120904 136.59185 \nL 308.730851 136.703113 \nL 309.340799 136.474474 \nL 309.950746 136.585483 \nL 310.560693 136.527104 \nL 311.17064 136.300604 \nL 311.780587 136.243219 \nL 312.390534 136.018524 \nL 313.610429 136.573043 \nL 315.44027 136.401404 \nL 316.050217 136.675039 \nL 317.270112 136.560957 \nL 317.880059 136.340369 \nL 318.490006 136.447961 \nL 319.099953 136.718209 \nL 319.7099 136.661605 \nL 320.319848 136.442892 \nL 320.929795 136.711214 \nL 321.539742 136.816646 \nL 322.759636 136.704319 \nL 323.369583 136.48808 \nL 324.589478 137.016958 \nL 325.199425 137.120201 \nL 325.809372 137.063981 \nL 326.419319 136.690825 \nL 327.029266 136.635862 \nL 328.249161 135.896717 \nL 328.859108 136.001106 \nL 329.469055 135.948242 \nL 330.079002 136.052043 \nL 330.688949 135.843256 \nL 333.128738 135.636121 \nL 333.738685 135.893503 \nL 334.348632 135.687899 \nL 334.95858 135.944004 \nL 336.178474 135.841147 \nL 337.398368 136.043648 \nL 338.008315 135.53671 \nL 338.618263 135.638189 \nL 339.22821 135.436813 \nL 339.838157 135.688923 \nL 340.448104 135.488328 \nL 341.058051 135.589016 \nL 342.277946 135.489981 \nL 342.887893 135.739212 \nL 343.49784 135.689582 \nL 344.107787 135.491613 \nL 344.717734 135.590983 \nL 345.327681 135.246174 \nL 345.937629 135.198046 \nL 346.547576 135.002855 \nL 347.76747 135.494817 \nL 348.377417 135.592889 \nL 348.987365 135.544538 \nL 349.597312 135.059297 \nL 350.207259 134.866904 \nL 350.817206 134.965483 \nL 351.427153 134.774104 \nL 352.647048 134.682095 \nL 353.256995 134.924076 \nL 353.866942 134.877945 \nL 354.476889 135.118497 \nL 355.696783 135.026011 \nL 356.306731 135.12239 \nL 356.916678 135.360428 \nL 357.526625 135.455712 \nL 358.746519 135.36278 \nL 359.356466 135.457476 \nL 359.966414 135.130045 \nL 360.576361 135.084532 \nL 361.186308 134.899216 \nL 361.796255 134.994085 \nL 362.406202 134.949129 \nL 363.016149 135.043511 \nL 363.626097 135.276357 \nL 364.236044 135.369685 \nL 364.845991 135.600919 \nL 366.065885 135.78513 \nL 366.675832 135.739212 \nL 367.28578 135.556309 \nL 367.895727 135.647943 \nL 369.115621 136.102818 \nL 369.725568 136.192819 \nL 369.725568 136.192819 \n\" clip-path=\"url(#p0b87b1f146)\" style=\"fill: none; stroke: #9467bd; stroke-width: 1.5; stroke-linecap: square\"/>\n   </g>\n   <g id=\"line2d_20\">\n    <path d=\"M 65.361932 249.139212 \nL 66.581826 249.139212 \nL 67.191773 232.129212 \nL 67.80172 221.923213 \nL 68.411668 215.119212 \nL 69.021615 210.259213 \nL 69.631562 206.614213 \nL 70.241509 188.659212 \nL 70.851456 194.707214 \nL 71.461403 193.470125 \nL 72.681298 181.099213 \nL 73.291245 176.239213 \nL 73.901192 167.491216 \nL 74.511139 164.089214 \nL 75.121086 165.089802 \nL 76.340981 159.612895 \nL 76.950928 160.687218 \nL 77.560875 151.93921 \nL 78.170822 153.264669 \nL 78.780769 151.516607 \nL 79.390717 155.584212 \nL 80.000664 151.161619 \nL 80.610611 141.845365 \nL 81.220558 135.739212 \nL 81.830505 134.929217 \nL 82.440452 131.828868 \nL 84.270294 136.447961 \nL 84.880241 131.615579 \nL 86.100135 130.555218 \nL 86.710083 131.959212 \nL 87.32003 129.609486 \nL 87.929977 129.173955 \nL 88.539924 125.27152 \nL 89.149871 124.966212 \nL 89.759819 127.994829 \nL 90.979713 127.300142 \nL 91.58966 123.883759 \nL 92.199607 123.643217 \nL 92.809554 124.89226 \nL 93.419502 124.640495 \nL 94.029449 121.564215 \nL 94.639396 124.167786 \nL 95.249343 123.945615 \nL 95.85929 125.066271 \nL 96.469237 127.452294 \nL 97.079185 127.180728 \nL 98.299079 129.1414 \nL 98.909026 128.85422 \nL 100.12892 130.655764 \nL 100.738868 128.051079 \nL 101.348815 130.069217 \nL 101.958762 130.905776 \nL 102.568709 130.617926 \nL 103.178656 131.419212 \nL 103.788603 131.132336 \nL 105.008498 134.708304 \nL 105.618445 132.354137 \nL 106.838339 133.767042 \nL 107.448286 133.471214 \nL 108.668181 134.794219 \nL 109.278128 133.564419 \nL 109.888075 135.126243 \nL 110.498022 135.739212 \nL 111.107969 133.650264 \nL 111.717917 133.382855 \nL 112.327864 133.994596 \nL 112.937811 135.452123 \nL 113.547758 135.172212 \nL 114.157705 135.739212 \nL 115.3776 135.192713 \nL 116.597494 136.272865 \nL 118.427335 135.481485 \nL 119.037283 133.700563 \nL 120.257177 134.742289 \nL 120.867124 133.767042 \nL 121.477071 134.275987 \nL 122.696966 133.829325 \nL 125.136754 135.739212 \nL 125.746701 135.512418 \nL 126.356649 136.637434 \nL 126.966596 136.40627 \nL 127.576543 136.840189 \nL 128.18649 135.957296 \nL 128.796437 135.739212 \nL 129.406384 136.167138 \nL 130.016332 135.951182 \nL 131.236226 136.779579 \nL 131.846173 135.945393 \nL 132.45612 136.965159 \nL 133.066067 137.359212 \nL 133.676015 136.542049 \nL 134.285962 136.932897 \nL 135.505856 138.867492 \nL 136.115803 139.228442 \nL 136.72575 140.159889 \nL 138.555592 141.17492 \nL 139.165539 140.386754 \nL 140.385433 141.04341 \nL 140.995381 140.819536 \nL 141.605328 141.139211 \nL 142.215275 140.918115 \nL 142.825222 140.168902 \nL 143.435169 139.958746 \nL 144.045116 139.228442 \nL 144.655064 140.067464 \nL 145.265011 139.862854 \nL 145.874958 139.149745 \nL 146.484905 139.462799 \nL 147.094852 139.267213 \nL 147.704799 139.574802 \nL 148.314747 139.381263 \nL 148.924694 139.68356 \nL 149.534641 139.492019 \nL 150.144588 138.331213 \nL 151.364482 138.933577 \nL 151.97443 138.752641 \nL 152.584377 139.046715 \nL 153.194324 138.398251 \nL 154.414218 138.979211 \nL 155.024165 139.723538 \nL 156.854007 140.545577 \nL 157.463954 141.260004 \nL 158.073901 140.630976 \nL 158.683848 141.335578 \nL 159.293796 141.592119 \nL 159.903743 142.281524 \nL 160.51369 142.528767 \nL 161.123637 142.342255 \nL 161.733584 142.586011 \nL 162.343531 141.125716 \nL 162.953479 140.951391 \nL 163.563426 141.61921 \nL 164.173373 141.861425 \nL 164.78332 142.515557 \nL 166.003214 142.980418 \nL 167.833056 142.449269 \nL 168.443003 142.676631 \nL 170.272845 142.163032 \nL 170.882792 142.777836 \nL 172.102686 142.440124 \nL 172.712633 141.889722 \nL 173.32258 141.727755 \nL 173.932528 141.187482 \nL 174.542475 141.409216 \nL 175.762369 141.097673 \nL 176.372316 141.688062 \nL 176.982263 141.902253 \nL 177.592211 141.378567 \nL 178.202158 141.226313 \nL 178.812105 141.803391 \nL 179.422052 141.288575 \nL 180.031999 141.499218 \nL 180.641946 140.991429 \nL 181.251894 140.845187 \nL 182.471788 141.262326 \nL 183.081735 141.116946 \nL 183.691682 139.577367 \nL 184.301629 139.789216 \nL 184.911577 139.653529 \nL 186.131471 140.07007 \nL 186.741418 139.935012 \nL 187.351365 140.478317 \nL 188.57126 140.20818 \nL 189.181207 139.741564 \nL 189.791154 139.943315 \nL 190.401101 139.812809 \nL 191.620995 140.864025 \nL 192.230943 141.05654 \nL 192.84089 140.923215 \nL 194.060784 141.302232 \nL 194.670731 141.169638 \nL 195.280678 140.720339 \nL 195.890626 141.22461 \nL 196.500573 141.409216 \nL 197.11052 141.278568 \nL 197.720467 140.837016 \nL 198.330414 140.71017 \nL 198.940361 140.893762 \nL 199.550309 140.767808 \nL 200.160256 141.255969 \nL 200.770203 140.824413 \nL 201.38015 140.700467 \nL 201.990097 140.275217 \nL 203.209992 140.6349 \nL 203.819939 141.110792 \nL 204.429886 141.285412 \nL 205.64978 141.041038 \nL 206.869675 140.216808 \nL 207.479622 140.682288 \nL 208.699516 141.024806 \nL 209.309463 141.480988 \nL 211.139305 141.125716 \nL 211.749252 141.291576 \nL 212.359199 140.893762 \nL 212.969146 140.219211 \nL 213.579093 140.66561 \nL 214.189041 140.552928 \nL 214.798988 140.717753 \nL 216.018882 139.945992 \nL 216.628829 140.384513 \nL 217.238776 140.547372 \nL 217.848724 140.437863 \nL 218.458671 140.599211 \nL 219.068618 141.028222 \nL 219.678565 140.65024 \nL 220.288512 141.075682 \nL 220.898459 141.232031 \nL 221.508407 140.857658 \nL 222.728301 141.168401 \nL 223.948195 141.995763 \nL 224.558142 142.145016 \nL 225.778037 142.955578 \nL 226.997931 142.730792 \nL 227.607878 141.855169 \nL 228.217825 141.23996 \nL 228.827773 141.641069 \nL 229.43772 141.283212 \nL 230.047667 141.430132 \nL 230.657614 141.075682 \nL 231.267561 140.225365 \nL 231.877508 139.629582 \nL 232.487456 139.780375 \nL 233.097403 140.176608 \nL 233.70735 139.587445 \nL 234.317297 139.736769 \nL 234.927244 139.64115 \nL 237.97698 140.371049 \nL 238.586927 140.275217 \nL 239.806822 140.559701 \nL 240.416769 140.93671 \nL 241.026716 141.075682 \nL 242.24661 140.883137 \nL 242.856557 141.25387 \nL 243.466505 141.157643 \nL 244.076452 141.293503 \nL 244.686399 141.659076 \nL 245.296346 141.332598 \nL 245.906293 141.237395 \nL 246.51624 140.914516 \nL 247.126188 140.821351 \nL 247.736135 140.502011 \nL 248.346082 140.86294 \nL 248.956029 140.77087 \nL 249.565976 141.128525 \nL 250.175923 141.036191 \nL 250.785871 141.390622 \nL 252.005765 141.649312 \nL 253.225659 141.464259 \nL 254.445554 141.719148 \nL 255.055501 141.627291 \nL 256.885342 142.003215 \nL 257.495289 142.342255 \nL 258.105237 142.249881 \nL 258.715184 142.372043 \nL 259.325131 142.280155 \nL 259.935078 142.401465 \nL 260.545025 142.310054 \nL 261.154972 141.796608 \nL 261.76492 141.70764 \nL 262.374867 141.409216 \nL 264.204708 141.773339 \nL 264.814655 141.685801 \nL 265.424603 141.805601 \nL 266.03455 142.130852 \nL 266.644497 142.248583 \nL 269.084286 141.900053 \nL 270.30418 142.132687 \nL 270.914127 142.04667 \nL 271.524074 141.760453 \nL 272.743969 141.99118 \nL 273.353916 142.304478 \nL 273.963863 142.219211 \nL 274.57381 141.936654 \nL 275.183757 142.050168 \nL 276.403652 142.667395 \nL 277.013599 142.777836 \nL 277.623546 142.692681 \nL 278.233493 142.996813 \nL 278.84344 142.717673 \nL 279.453387 142.63342 \nL 280.063335 142.742391 \nL 280.673282 143.042944 \nL 281.283229 142.958478 \nL 281.893176 143.065624 \nL 282.503123 142.981564 \nL 283.11307 142.517878 \nL 283.723018 142.435815 \nL 284.332965 142.543215 \nL 284.942912 142.273068 \nL 286.162806 142.112105 \nL 286.772753 141.845365 \nL 287.992648 141.688062 \nL 289.212542 141.902253 \nL 289.822489 141.824094 \nL 291.652331 142.140828 \nL 292.262278 142.062861 \nL 292.872225 142.349159 \nL 293.482172 142.089618 \nL 294.092119 141.650488 \nL 294.702067 141.57465 \nL 295.312014 141.859214 \nL 297.141855 141.632441 \nL 298.36175 141.838531 \nL 298.971697 141.409216 \nL 299.581644 141.335578 \nL 300.191591 141.086054 \nL 300.801538 141.365265 \nL 301.411485 141.292306 \nL 302.021433 140.869906 \nL 302.63138 141.147525 \nL 303.851274 141.351354 \nL 304.461221 141.279369 \nL 305.071168 141.380432 \nL 306.291063 141.92467 \nL 306.90101 141.851965 \nL 307.510957 141.608666 \nL 308.120904 141.025536 \nL 308.730851 141.125716 \nL 309.340799 140.886047 \nL 310.560693 140.747947 \nL 311.17064 141.016248 \nL 311.780587 141.115213 \nL 313.000482 141.646047 \nL 313.610429 141.409216 \nL 314.830323 141.602826 \nL 315.44027 141.864466 \nL 316.050217 141.62941 \nL 317.270112 141.491391 \nL 317.880059 141.586827 \nL 318.490006 141.518248 \nL 319.099953 141.286842 \nL 319.7099 141.219307 \nL 320.319848 141.31449 \nL 322.149689 141.113621 \nL 322.759636 141.208155 \nL 323.369583 141.462708 \nL 323.979531 141.395874 \nL 324.589478 141.009922 \nL 325.199425 140.944456 \nL 325.809372 140.720339 \nL 326.419319 140.655856 \nL 327.029266 140.749914 \nL 327.639214 141.001395 \nL 328.249161 140.93671 \nL 328.859108 141.029469 \nL 329.469055 140.965017 \nL 330.079002 140.588038 \nL 331.908844 140.399488 \nL 332.518791 140.492197 \nL 333.128738 140.429854 \nL 333.738685 140.059211 \nL 334.348632 140.152062 \nL 334.95858 140.090905 \nL 335.568527 140.183269 \nL 336.178474 139.969412 \nL 336.788421 140.214192 \nL 337.398368 140.153441 \nL 338.008315 140.39671 \nL 339.22821 140.275217 \nL 339.838157 140.064007 \nL 340.448104 140.154789 \nL 341.058051 139.944775 \nL 342.277946 139.826598 \nL 342.887893 139.618693 \nL 343.49784 139.560567 \nL 344.107787 139.799821 \nL 344.717734 139.741564 \nL 345.327681 139.979389 \nL 345.937629 139.92099 \nL 346.547576 140.010119 \nL 347.157523 139.951913 \nL 347.76747 140.187233 \nL 348.377417 139.83625 \nL 350.207259 140.10075 \nL 352.0371 139.928513 \nL 352.647048 139.727431 \nL 353.866942 139.902 \nL 354.476889 139.702246 \nL 355.086836 139.789216 \nL 355.696783 140.018464 \nL 356.306731 139.819714 \nL 357.526625 139.708218 \nL 358.136572 139.369898 \nL 359.966414 139.206816 \nL 360.576361 139.293198 \nL 361.796255 139.744312 \nL 363.626097 139.997497 \nL 364.845991 139.611413 \nL 365.455938 139.281529 \nL 366.065885 139.228442 \nL 366.675832 139.31303 \nL 367.28578 139.53446 \nL 367.895727 139.481191 \nL 368.505674 139.564755 \nL 369.115621 139.511638 \nL 369.725568 139.730898 \nL 369.725568 139.730898 \n\" clip-path=\"url(#p0b87b1f146)\" style=\"fill: none; stroke: #8c564b; stroke-width: 1.5; stroke-linecap: square\"/>\n   </g>\n   <g id=\"line2d_21\">\n    <path d=\"M 50.14375 135.512415 \nL 384.94375 135.512415 \n\" clip-path=\"url(#p0b87b1f146)\" style=\"fill: none; stroke-dasharray: 5.55,2.4; stroke-dashoffset: 0; stroke: #000000; stroke-width: 1.5\"/>\n   </g>\n   <g id=\"patch_3\">\n    <path d=\"M 50.14375 260.479212 \nL 50.14375 10.999212 \n\" style=\"fill: none; stroke: #000000; stroke-width: 0.8; stroke-linejoin: miter; stroke-linecap: square\"/>\n   </g>\n   <g id=\"patch_4\">\n    <path d=\"M 384.94375 260.479212 \nL 384.94375 10.999212 \n\" style=\"fill: none; stroke: #000000; stroke-width: 0.8; stroke-linejoin: miter; stroke-linecap: square\"/>\n   </g>\n   <g id=\"patch_5\">\n    <path d=\"M 50.14375 260.479212 \nL 384.94375 260.479212 \n\" style=\"fill: none; stroke: #000000; stroke-width: 0.8; stroke-linejoin: miter; stroke-linecap: square\"/>\n   </g>\n   <g id=\"patch_6\">\n    <path d=\"M 50.14375 10.999212 \nL 384.94375 10.999212 \n\" style=\"fill: none; stroke: #000000; stroke-width: 0.8; stroke-linejoin: miter; stroke-linecap: square\"/>\n   </g>\n   <g id=\"legend_1\">\n    <g id=\"patch_7\">\n     <path d=\"M 302.089063 107.067962 \nL 377.94375 107.067962 \nQ 379.94375 107.067962 379.94375 105.067962 \nL 379.94375 17.999212 \nQ 379.94375 15.999212 377.94375 15.999212 \nL 302.089063 15.999212 \nQ 300.089063 15.999212 300.089063 17.999212 \nL 300.089063 105.067962 \nQ 300.089063 107.067962 302.089063 107.067962 \nz\n\" style=\"fill: #ffffff; opacity: 0.8; stroke: #cccccc; stroke-linejoin: miter\"/>\n    </g>\n    <g id=\"line2d_22\">\n     <path d=\"M 304.089063 24.097649 \nL 314.089063 24.097649 \nL 324.089063 24.097649 \n\" style=\"fill: none; stroke: #1f77b4; stroke-width: 1.5; stroke-linecap: square\"/>\n    </g>\n    <g id=\"text_17\">\n     <!-- P(die=1) -->\n     <g transform=\"translate(332.089063 27.597649) scale(0.1 -0.1)\">\n      <defs>\n       <path id=\"DejaVuSans-50\" d=\"M 1259 4147 \nL 1259 2394 \nL 2053 2394 \nQ 2494 2394 2734 2622 \nQ 2975 2850 2975 3272 \nQ 2975 3691 2734 3919 \nQ 2494 4147 2053 4147 \nL 1259 4147 \nz\nM 628 4666 \nL 2053 4666 \nQ 2838 4666 3239 4311 \nQ 3641 3956 3641 3272 \nQ 3641 2581 3239 2228 \nQ 2838 1875 2053 1875 \nL 1259 1875 \nL 1259 0 \nL 628 0 \nL 628 4666 \nz\n\" transform=\"scale(0.015625)\"/>\n       <path id=\"DejaVuSans-28\" d=\"M 1984 4856 \nQ 1566 4138 1362 3434 \nQ 1159 2731 1159 2009 \nQ 1159 1288 1364 580 \nQ 1569 -128 1984 -844 \nL 1484 -844 \nQ 1016 -109 783 600 \nQ 550 1309 550 2009 \nQ 550 2706 781 3412 \nQ 1013 4119 1484 4856 \nL 1984 4856 \nz\n\" transform=\"scale(0.015625)\"/>\n       <path id=\"DejaVuSans-3d\" d=\"M 678 2906 \nL 4684 2906 \nL 4684 2381 \nL 678 2381 \nL 678 2906 \nz\nM 678 1631 \nL 4684 1631 \nL 4684 1100 \nL 678 1100 \nL 678 1631 \nz\n\" transform=\"scale(0.015625)\"/>\n       <path id=\"DejaVuSans-29\" d=\"M 513 4856 \nL 1013 4856 \nQ 1481 4119 1714 3412 \nQ 1947 2706 1947 2009 \nQ 1947 1309 1714 600 \nQ 1481 -109 1013 -844 \nL 513 -844 \nQ 928 -128 1133 580 \nQ 1338 1288 1338 2009 \nQ 1338 2731 1133 3434 \nQ 928 4138 513 4856 \nz\n\" transform=\"scale(0.015625)\"/>\n      </defs>\n      <use xlink:href=\"#DejaVuSans-50\"/>\n      <use xlink:href=\"#DejaVuSans-28\" x=\"60.302734\"/>\n      <use xlink:href=\"#DejaVuSans-64\" x=\"99.316406\"/>\n      <use xlink:href=\"#DejaVuSans-69\" x=\"162.792969\"/>\n      <use xlink:href=\"#DejaVuSans-65\" x=\"190.576172\"/>\n      <use xlink:href=\"#DejaVuSans-3d\" x=\"252.099609\"/>\n      <use xlink:href=\"#DejaVuSans-31\" x=\"335.888672\"/>\n      <use xlink:href=\"#DejaVuSans-29\" x=\"399.511719\"/>\n     </g>\n    </g>\n    <g id=\"line2d_23\">\n     <path d=\"M 304.089063 38.775774 \nL 314.089063 38.775774 \nL 324.089063 38.775774 \n\" style=\"fill: none; stroke: #ff7f0e; stroke-width: 1.5; stroke-linecap: square\"/>\n    </g>\n    <g id=\"text_18\">\n     <!-- P(die=2) -->\n     <g transform=\"translate(332.089063 42.275774) scale(0.1 -0.1)\">\n      <use xlink:href=\"#DejaVuSans-50\"/>\n      <use xlink:href=\"#DejaVuSans-28\" x=\"60.302734\"/>\n      <use xlink:href=\"#DejaVuSans-64\" x=\"99.316406\"/>\n      <use xlink:href=\"#DejaVuSans-69\" x=\"162.792969\"/>\n      <use xlink:href=\"#DejaVuSans-65\" x=\"190.576172\"/>\n      <use xlink:href=\"#DejaVuSans-3d\" x=\"252.099609\"/>\n      <use xlink:href=\"#DejaVuSans-32\" x=\"335.888672\"/>\n      <use xlink:href=\"#DejaVuSans-29\" x=\"399.511719\"/>\n     </g>\n    </g>\n    <g id=\"line2d_24\">\n     <path d=\"M 304.089063 53.453899 \nL 314.089063 53.453899 \nL 324.089063 53.453899 \n\" style=\"fill: none; stroke: #2ca02c; stroke-width: 1.5; stroke-linecap: square\"/>\n    </g>\n    <g id=\"text_19\">\n     <!-- P(die=3) -->\n     <g transform=\"translate(332.089063 56.953899) scale(0.1 -0.1)\">\n      <use xlink:href=\"#DejaVuSans-50\"/>\n      <use xlink:href=\"#DejaVuSans-28\" x=\"60.302734\"/>\n      <use xlink:href=\"#DejaVuSans-64\" x=\"99.316406\"/>\n      <use xlink:href=\"#DejaVuSans-69\" x=\"162.792969\"/>\n      <use xlink:href=\"#DejaVuSans-65\" x=\"190.576172\"/>\n      <use xlink:href=\"#DejaVuSans-3d\" x=\"252.099609\"/>\n      <use xlink:href=\"#DejaVuSans-33\" x=\"335.888672\"/>\n      <use xlink:href=\"#DejaVuSans-29\" x=\"399.511719\"/>\n     </g>\n    </g>\n    <g id=\"line2d_25\">\n     <path d=\"M 304.089063 68.132024 \nL 314.089063 68.132024 \nL 324.089063 68.132024 \n\" style=\"fill: none; stroke: #d62728; stroke-width: 1.5; stroke-linecap: square\"/>\n    </g>\n    <g id=\"text_20\">\n     <!-- P(die=4) -->\n     <g transform=\"translate(332.089063 71.632024) scale(0.1 -0.1)\">\n      <use xlink:href=\"#DejaVuSans-50\"/>\n      <use xlink:href=\"#DejaVuSans-28\" x=\"60.302734\"/>\n      <use xlink:href=\"#DejaVuSans-64\" x=\"99.316406\"/>\n      <use xlink:href=\"#DejaVuSans-69\" x=\"162.792969\"/>\n      <use xlink:href=\"#DejaVuSans-65\" x=\"190.576172\"/>\n      <use xlink:href=\"#DejaVuSans-3d\" x=\"252.099609\"/>\n      <use xlink:href=\"#DejaVuSans-34\" x=\"335.888672\"/>\n      <use xlink:href=\"#DejaVuSans-29\" x=\"399.511719\"/>\n     </g>\n    </g>\n    <g id=\"line2d_26\">\n     <path d=\"M 304.089063 82.810149 \nL 314.089063 82.810149 \nL 324.089063 82.810149 \n\" style=\"fill: none; stroke: #9467bd; stroke-width: 1.5; stroke-linecap: square\"/>\n    </g>\n    <g id=\"text_21\">\n     <!-- P(die=5) -->\n     <g transform=\"translate(332.089063 86.310149) scale(0.1 -0.1)\">\n      <use xlink:href=\"#DejaVuSans-50\"/>\n      <use xlink:href=\"#DejaVuSans-28\" x=\"60.302734\"/>\n      <use xlink:href=\"#DejaVuSans-64\" x=\"99.316406\"/>\n      <use xlink:href=\"#DejaVuSans-69\" x=\"162.792969\"/>\n      <use xlink:href=\"#DejaVuSans-65\" x=\"190.576172\"/>\n      <use xlink:href=\"#DejaVuSans-3d\" x=\"252.099609\"/>\n      <use xlink:href=\"#DejaVuSans-35\" x=\"335.888672\"/>\n      <use xlink:href=\"#DejaVuSans-29\" x=\"399.511719\"/>\n     </g>\n    </g>\n    <g id=\"line2d_27\">\n     <path d=\"M 304.089063 97.488274 \nL 314.089063 97.488274 \nL 324.089063 97.488274 \n\" style=\"fill: none; stroke: #8c564b; stroke-width: 1.5; stroke-linecap: square\"/>\n    </g>\n    <g id=\"text_22\">\n     <!-- P(die=6) -->\n     <g transform=\"translate(332.089063 100.988274) scale(0.1 -0.1)\">\n      <defs>\n       <path id=\"DejaVuSans-36\" d=\"M 2113 2584 \nQ 1688 2584 1439 2293 \nQ 1191 2003 1191 1497 \nQ 1191 994 1439 701 \nQ 1688 409 2113 409 \nQ 2538 409 2786 701 \nQ 3034 994 3034 1497 \nQ 3034 2003 2786 2293 \nQ 2538 2584 2113 2584 \nz\nM 3366 4563 \nL 3366 3988 \nQ 3128 4100 2886 4159 \nQ 2644 4219 2406 4219 \nQ 1781 4219 1451 3797 \nQ 1122 3375 1075 2522 \nQ 1259 2794 1537 2939 \nQ 1816 3084 2150 3084 \nQ 2853 3084 3261 2657 \nQ 3669 2231 3669 1497 \nQ 3669 778 3244 343 \nQ 2819 -91 2113 -91 \nQ 1303 -91 875 529 \nQ 447 1150 447 2328 \nQ 447 3434 972 4092 \nQ 1497 4750 2381 4750 \nQ 2619 4750 2861 4703 \nQ 3103 4656 3366 4563 \nz\n\" transform=\"scale(0.015625)\"/>\n      </defs>\n      <use xlink:href=\"#DejaVuSans-50\"/>\n      <use xlink:href=\"#DejaVuSans-28\" x=\"60.302734\"/>\n      <use xlink:href=\"#DejaVuSans-64\" x=\"99.316406\"/>\n      <use xlink:href=\"#DejaVuSans-69\" x=\"162.792969\"/>\n      <use xlink:href=\"#DejaVuSans-65\" x=\"190.576172\"/>\n      <use xlink:href=\"#DejaVuSans-3d\" x=\"252.099609\"/>\n      <use xlink:href=\"#DejaVuSans-36\" x=\"335.888672\"/>\n      <use xlink:href=\"#DejaVuSans-29\" x=\"399.511719\"/>\n     </g>\n    </g>\n   </g>\n  </g>\n </g>\n <defs>\n  <clipPath id=\"p0b87b1f146\">\n   <rect x=\"50.14375\" y=\"10.999212\" width=\"334.8\" height=\"249.48\"/>\n  </clipPath>\n </defs>\n</svg>\n"
     },
     "metadata": {},
     "output_type": "display_data"
    }
   ],
   "source": [
    "import utils\n",
    "counts = multinomial.Multinomial(10, fair_probs).sample((500,))\n",
    "cum_counts = counts.cumsum(dim=0)\n",
    "estimates = cum_counts / cum_counts.sum(dim=1, keepdims=True)\n",
    "\n",
    "utils.set_figsize((6, 4.5))\n",
    "for i in range(6):\n",
    "    utils.plt.plot(estimates[:, i].numpy(),\n",
    "                 label=(\"P(die=\" + str(i + 1) + \")\"))\n",
    "utils.plt.axhline(y=0.167, color='black', linestyle='dashed')\n",
    "utils.plt.gca().set_xlabel('Groups of experiments')\n",
    "utils.plt.gca().set_ylabel('Estimated probability')\n",
    "utils.plt.legend();"
   ],
   "metadata": {
    "collapsed": false,
    "ExecuteTime": {
     "end_time": "2023-11-20T00:58:58.201366764Z",
     "start_time": "2023-11-20T00:58:57.958982448Z"
    }
   },
   "id": "fdf70e0d72dd3034"
  },
  {
   "cell_type": "markdown",
   "source": [
    "条件概率\n",
    "\n",
    "$$\n",
    "0 \\leq \\frac{P(A=a, B=b)}{P(A=a)} \\leq 1\n",
    "$$\n",
    "\n",
    "**贝叶斯定理**\n",
    "\n",
    "$$\n",
    "P(A \\mid B) = \\frac{P(B \\mid A) P(A)}{P(B)}\n",
    "$$\n",
    "\n",
    "联合概率和\n",
    "\n",
    "$$\n",
    "P(B) = \\sum_{A} P(A, B)\n",
    "$$\n"
   ],
   "metadata": {
    "collapsed": false
   },
   "id": "e49231ad59b1a7d2"
  },
  {
   "cell_type": "code",
   "execution_count": null,
   "outputs": [],
   "source": [],
   "metadata": {
    "collapsed": false
   },
   "id": "43648e4fe64076b7"
  }
 ],
 "metadata": {
  "kernelspec": {
   "display_name": "Python 3",
   "language": "python",
   "name": "python3"
  },
  "language_info": {
   "codemirror_mode": {
    "name": "ipython",
    "version": 2
   },
   "file_extension": ".py",
   "mimetype": "text/x-python",
   "name": "python",
   "nbconvert_exporter": "python",
   "pygments_lexer": "ipython2",
   "version": "2.7.6"
  }
 },
 "nbformat": 4,
 "nbformat_minor": 5
}
